{
 "cells": [
  {
   "cell_type": "markdown",
   "id": "8af3e345",
   "metadata": {},
   "source": [
    "Este código realiza un proceso automatizado para consultar y combinar datos históricos (2000–2024) de indicadores sociales (natalidad y desnutrición) en países de Sudamérica usando la API del Banco Mundial. "
   ]
  },
  {
   "cell_type": "code",
   "execution_count": 3,
   "id": "df528c31",
   "metadata": {},
   "outputs": [
    {
     "name": "stdout",
     "output_type": "stream",
     "text": [
      "🔄 Obteniendo datos desde la API del Banco Mundial...\n"
     ]
    },
    {
     "name": "stderr",
     "output_type": "stream",
     "text": [
      "100%|██████████| 9/9 [00:04<00:00,  1.99it/s]"
     ]
    },
    {
     "name": "stdout",
     "output_type": "stream",
     "text": [
      "\n",
      "✅ Vista previa de los datos combinados:\n",
      "Indicador   Año       País  Desnutrición (%)  \\\n",
      "0          2000  Argentina               NaN   \n",
      "9          2001  Argentina               2.9   \n",
      "18         2002  Argentina               3.7   \n",
      "27         2003  Argentina               4.3   \n",
      "36         2004  Argentina               3.9   \n",
      "\n",
      "Indicador  Tasa de Natalidad (por 1000 habitantes)  \n",
      "0                                           19.328  \n",
      "9                                           18.940  \n",
      "18                                          18.702  \n",
      "27                                          18.410  \n",
      "36                                          18.295  \n"
     ]
    },
    {
     "name": "stderr",
     "output_type": "stream",
     "text": [
      "\n"
     ]
    }
   ],
   "source": [
    "import requests\n",
    "import pandas as pd\n",
    "from bs4 import BeautifulSoup\n",
    "from tqdm import tqdm  # Progreso opcional\n",
    "\n",
    "# --- Parámetros ---\n",
    "sudamerica_nombres = [\n",
    "    \"Argentina\", \"Bolivia\", \"Brazil\", \"Chile\", \"Colombia\", \"Ecuador\",\n",
    "    \"Paraguay\", \"Peru\", \"Uruguay\", \"Venezuela\"\n",
    "]\n",
    "\n",
    "indicadores = {\n",
    "    \"SP.DYN.CBRT.IN\": \"Tasa de Natalidad (por 1000 habitantes)\",\n",
    "    \"SN.ITK.DEFC.ZS\": \"Desnutrición (%)\"\n",
    "}\n",
    "fecha = \"2000:2024\"\n",
    "\n",
    "# --- Obtener lista de países disponibles ---\n",
    "def obtener_paises_sudamericanos():\n",
    "    url = \"http://api.worldbank.org/v2/country?format=json&per_page=400\"\n",
    "    response = requests.get(url)\n",
    "    data = response.json()\n",
    "    paises = {\n",
    "        pais[\"id\"]: pais[\"name\"]\n",
    "        for pais in data[1]\n",
    "        if pais[\"name\"] in sudamerica_nombres\n",
    "    }\n",
    "    return paises\n",
    "\n",
    "# --- Función para obtener datos de un país e indicador ---\n",
    "def obtener_datos(pais_codigo, pais_nombre, indicador_codigo, indicador_nombre):\n",
    "    url = (\n",
    "        f\"http://api.worldbank.org/v2/country/{pais_codigo}/indicator/{indicador_codigo}\"\n",
    "        f\"?format=json&date={fecha}&per_page=100\"\n",
    "    )\n",
    "    try:\n",
    "        response = requests.get(url)\n",
    "        data = response.json()\n",
    "    except Exception:\n",
    "        soup = BeautifulSoup(response.text, \"html.parser\")\n",
    "        print(f\"⚠️  Error al obtener datos para {pais_nombre} - {indicador_nombre}\")\n",
    "        return pd.DataFrame()\n",
    "\n",
    "    if len(data) > 1:\n",
    "        datos = [\n",
    "            {\n",
    "                \"País\": pais_nombre,\n",
    "                \"Año\": int(d[\"date\"]),\n",
    "                \"Indicador\": indicador_nombre,\n",
    "                \"Valor\": d[\"value\"]\n",
    "            }\n",
    "            for d in data[1] if d[\"value\"] is not None\n",
    "        ]\n",
    "        return pd.DataFrame(datos)\n",
    "    else:\n",
    "        return pd.DataFrame()\n",
    "\n",
    "# --- Descarga de datos ---\n",
    "def descargar_datos():\n",
    "    paises = obtener_paises_sudamericanos()\n",
    "    todos_los_datos = []\n",
    "\n",
    "    print(\"🔄 Obteniendo datos desde la API del Banco Mundial...\")\n",
    "    for pais_codigo, pais_nombre in tqdm(paises.items()):\n",
    "        for indicador_codigo, indicador_nombre in indicadores.items():\n",
    "            df = obtener_datos(pais_codigo, pais_nombre, indicador_codigo, indicador_nombre)\n",
    "            if not df.empty:\n",
    "                todos_los_datos.append(df)\n",
    "\n",
    "    if todos_los_datos:\n",
    "        df_completo = pd.concat(todos_los_datos, ignore_index=True)\n",
    "        return df_completo\n",
    "    else:\n",
    "        return pd.DataFrame()\n",
    "\n",
    "# --- Ejecutar todo ---\n",
    "df = descargar_datos()\n",
    "\n",
    "# --- Pivotear tabla ---\n",
    "if not df.empty:\n",
    "    df_pivot = df.pivot_table(\n",
    "        index=[\"Año\", \"País\"],\n",
    "        columns=\"Indicador\",\n",
    "        values=\"Valor\"\n",
    "    ).reset_index().sort_values([\"País\", \"Año\"])\n",
    "\n",
    "    # --- Vista previa ---\n",
    "    print(\"\\n✅ Vista previa de los datos combinados:\")\n",
    "    print(df_pivot.head())\n",
    "else:\n",
    "    print(\"❌ No se encontraron datos disponibles.\")\n"
   ]
  },
  {
   "cell_type": "markdown",
   "id": "79a14a5c",
   "metadata": {},
   "source": [
    "Guardando data frama en un excel"
   ]
  },
  {
   "cell_type": "code",
   "execution_count": 4,
   "id": "86f1ccf2",
   "metadata": {},
   "outputs": [],
   "source": [
    "df_pivot.to_excel(\"indicadores_sudamerica.xlsx\", index=False)\n"
   ]
  },
  {
   "cell_type": "markdown",
   "id": "7aa2d917",
   "metadata": {},
   "source": [
    "Analisis grafico del indice de desnutricion por pais en los años 2001 - 2022"
   ]
  },
  {
   "cell_type": "code",
   "execution_count": null,
   "id": "6047a977",
   "metadata": {},
   "outputs": [],
   "source": []
  }
 ],
 "metadata": {
  "kernelspec": {
   "display_name": "Python 3",
   "language": "python",
   "name": "python3"
  },
  "language_info": {
   "codemirror_mode": {
    "name": "ipython",
    "version": 3
   },
   "file_extension": ".py",
   "mimetype": "text/x-python",
   "name": "python",
   "nbconvert_exporter": "python",
   "pygments_lexer": "ipython3",
   "version": "3.13.5"
  }
 },
 "nbformat": 4,
 "nbformat_minor": 5
}
