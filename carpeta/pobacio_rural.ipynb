🧑‍🌾 POBLACIÓN RURAL (% DEL TOTAL)
📊 Código del indicador WB: SP.RUR.TOTL.ZS
🔎 Enfoque de análisis:
El porcentaje de población rural sobre el total de la población permite entender la estructura territorial y social de un país o región.
Este indicador refleja cuántas personas viven en zonas rurales en comparación con áreas urbanas.

En el contexto de Sudamérica, ayuda a identificar regiones con mayor dependencia de actividades primarias como la agricultura, menor acceso a servicios públicos y tecnológicos, y mayores desafíos en conectividad, salud y educación.

El análisis de la población rural es clave para el desarrollo sostenible, ya que muchas políticas de infraestructura, salud, transporte y educación deben adaptarse según la distribución rural/urbana de la población.

📍 Región de análisis: Sudamérica
🌿 Relación clave:
Alta población rural → mayor dispersión territorial → posibles limitaciones en acceso a servicios esenciales.

🧮 CÓDIGO PARA OBTENER LOS DATOS DE POBLACIÓN RURAL EN SUDAMÉRICA
