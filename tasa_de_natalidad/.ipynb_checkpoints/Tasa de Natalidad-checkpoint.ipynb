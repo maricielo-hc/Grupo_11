{
 "cells": [
  {
   "cell_type": "markdown",
   "id": "32c4eb1a-366a-4529-8485-ce7af48d91d2",
   "metadata": {},
   "source": [
    "<h2 style=\"text-align: center;\">👣 Tasa de natalidad (por 1000 habitantes) </h2>\n"
   ]
  },
  {
   "cell_type": "markdown",
   "id": "f76fb51e-2a0b-431d-a99c-c5439950dab3",
   "metadata": {},
   "source": [
    "**📊 Código del indicador WB:** `SP.DYN.CBRT.IN`"
   ]
  },
  {
   "cell_type": "markdown",
   "id": "f7c8513e-26de-43f6-bbd0-1b3447a93907",
   "metadata": {},
   "source": [
    "**👶 Enfoque de análisis:**  👶 \n",
    "La tasa de natalidad es un indicador clave para comprender la dinámica poblacional de una región.\n",
    "En el caso de Sudamérica, esta métrica refleja no solo el crecimiento demográfico, sino también aspectos culturales, económicos y de acceso a servicios de salud reproductiva. Una tasa de natalidad elevada puede estar asociada a poblaciones jóvenes, menor acceso a métodos anticonceptivos o diferencias en políticas familiares, mientras que una tasa baja puede indicar transiciones demográficas avanzadas, urbanización y cambios en las prioridades sociales y económicas."
   ]
  },
  {
   "cell_type": "markdown",
   "id": "39a32060-197c-424d-bed8-9a522ddddcdc",
   "metadata": {},
   "source": [
    "Este indicador nos permite observar cómo los avances (o retrocesos) en educación, salud reproductiva y condiciones socioeconómicas impactan directamente en los patrones de nacimiento dentro de una población.\n",
    "La tasa de natalidad revela cómo las decisiones familiares, el acceso a servicios de planificación y el contexto cultural influyen en el crecimiento demográfico de una región."
   ]
  },
  {
   "cell_type": "markdown",
   "id": "9a931830-24b9-436c-9421-4de917630a8e",
   "metadata": {},
   "source": [
    "**📌 Región de análisis:** Sudamérica  \n",
    "**🧩 Relación clave:** Desnutrición ⟶ contextos de pobreza ⟶ alta tasa de natalidad\n"
   ]
  },
  {
   "cell_type": "markdown",
   "id": "0b0ba814-776a-42eb-b4a3-1741ae95c89d",
   "metadata": {},
   "source": [
    "### CODIGO PARA OBTENER LOS DATOS DE TASA DE NATALIDAD Y DESNUTRICIÓN EN SUDAMÉRICA"
   ]
  },
  {
   "cell_type": "code",
   "execution_count": 9,
   "id": "14b5cf54-70a3-442e-a373-d97d0020b6de",
   "metadata": {},
   "outputs": [
    {
     "data": {
      "text/html": [
       "<div>\n",
       "<style scoped>\n",
       "    .dataframe tbody tr th:only-of-type {\n",
       "        vertical-align: middle;\n",
       "    }\n",
       "\n",
       "    .dataframe tbody tr th {\n",
       "        vertical-align: top;\n",
       "    }\n",
       "\n",
       "    .dataframe thead th {\n",
       "        text-align: right;\n",
       "    }\n",
       "</style>\n",
       "<table border=\"1\" class=\"dataframe\">\n",
       "  <thead>\n",
       "    <tr style=\"text-align: right;\">\n",
       "      <th>Indicador</th>\n",
       "      <th>Año</th>\n",
       "      <th>País</th>\n",
       "      <th>Desnutrición (%)</th>\n",
       "      <th>Tasa de Natalidad (por 1000 habitantes)</th>\n",
       "    </tr>\n",
       "  </thead>\n",
       "  <tbody>\n",
       "    <tr>\n",
       "      <th>162</th>\n",
       "      <td>2018</td>\n",
       "      <td>Argentina</td>\n",
       "      <td>3.5</td>\n",
       "      <td>15.332</td>\n",
       "    </tr>\n",
       "    <tr>\n",
       "      <th>171</th>\n",
       "      <td>2019</td>\n",
       "      <td>Argentina</td>\n",
       "      <td>3.5</td>\n",
       "      <td>13.902</td>\n",
       "    </tr>\n",
       "    <tr>\n",
       "      <th>180</th>\n",
       "      <td>2020</td>\n",
       "      <td>Argentina</td>\n",
       "      <td>3.4</td>\n",
       "      <td>11.799</td>\n",
       "    </tr>\n",
       "    <tr>\n",
       "      <th>189</th>\n",
       "      <td>2021</td>\n",
       "      <td>Argentina</td>\n",
       "      <td>3.3</td>\n",
       "      <td>11.682</td>\n",
       "    </tr>\n",
       "    <tr>\n",
       "      <th>198</th>\n",
       "      <td>2022</td>\n",
       "      <td>Argentina</td>\n",
       "      <td>3.2</td>\n",
       "      <td>10.926</td>\n",
       "    </tr>\n",
       "    <tr>\n",
       "      <th>207</th>\n",
       "      <td>2023</td>\n",
       "      <td>Argentina</td>\n",
       "      <td>NaN</td>\n",
       "      <td>11.064</td>\n",
       "    </tr>\n",
       "    <tr>\n",
       "      <th>163</th>\n",
       "      <td>2018</td>\n",
       "      <td>Bolivia</td>\n",
       "      <td>14.5</td>\n",
       "      <td>22.574</td>\n",
       "    </tr>\n",
       "    <tr>\n",
       "      <th>172</th>\n",
       "      <td>2019</td>\n",
       "      <td>Bolivia</td>\n",
       "      <td>14.5</td>\n",
       "      <td>22.257</td>\n",
       "    </tr>\n",
       "    <tr>\n",
       "      <th>181</th>\n",
       "      <td>2020</td>\n",
       "      <td>Bolivia</td>\n",
       "      <td>16.9</td>\n",
       "      <td>21.996</td>\n",
       "    </tr>\n",
       "    <tr>\n",
       "      <th>190</th>\n",
       "      <td>2021</td>\n",
       "      <td>Bolivia</td>\n",
       "      <td>20.3</td>\n",
       "      <td>21.808</td>\n",
       "    </tr>\n",
       "    <tr>\n",
       "      <th>199</th>\n",
       "      <td>2022</td>\n",
       "      <td>Bolivia</td>\n",
       "      <td>23.0</td>\n",
       "      <td>21.566</td>\n",
       "    </tr>\n",
       "    <tr>\n",
       "      <th>208</th>\n",
       "      <td>2023</td>\n",
       "      <td>Bolivia</td>\n",
       "      <td>NaN</td>\n",
       "      <td>21.247</td>\n",
       "    </tr>\n",
       "    <tr>\n",
       "      <th>164</th>\n",
       "      <td>2018</td>\n",
       "      <td>Brazil</td>\n",
       "      <td>2.5</td>\n",
       "      <td>14.022</td>\n",
       "    </tr>\n",
       "    <tr>\n",
       "      <th>173</th>\n",
       "      <td>2019</td>\n",
       "      <td>Brazil</td>\n",
       "      <td>2.5</td>\n",
       "      <td>13.548</td>\n",
       "    </tr>\n",
       "    <tr>\n",
       "      <th>182</th>\n",
       "      <td>2020</td>\n",
       "      <td>Brazil</td>\n",
       "      <td>3.4</td>\n",
       "      <td>12.995</td>\n",
       "    </tr>\n",
       "    <tr>\n",
       "      <th>191</th>\n",
       "      <td>2021</td>\n",
       "      <td>Brazil</td>\n",
       "      <td>4.2</td>\n",
       "      <td>12.754</td>\n",
       "    </tr>\n",
       "    <tr>\n",
       "      <th>200</th>\n",
       "      <td>2022</td>\n",
       "      <td>Brazil</td>\n",
       "      <td>3.9</td>\n",
       "      <td>12.555</td>\n",
       "    </tr>\n",
       "    <tr>\n",
       "      <th>209</th>\n",
       "      <td>2023</td>\n",
       "      <td>Brazil</td>\n",
       "      <td>NaN</td>\n",
       "      <td>12.322</td>\n",
       "    </tr>\n",
       "    <tr>\n",
       "      <th>165</th>\n",
       "      <td>2018</td>\n",
       "      <td>Chile</td>\n",
       "      <td>3.0</td>\n",
       "      <td>11.698</td>\n",
       "    </tr>\n",
       "    <tr>\n",
       "      <th>174</th>\n",
       "      <td>2019</td>\n",
       "      <td>Chile</td>\n",
       "      <td>2.7</td>\n",
       "      <td>10.940</td>\n",
       "    </tr>\n",
       "    <tr>\n",
       "      <th>183</th>\n",
       "      <td>2020</td>\n",
       "      <td>Chile</td>\n",
       "      <td>2.5</td>\n",
       "      <td>10.097</td>\n",
       "    </tr>\n",
       "    <tr>\n",
       "      <th>192</th>\n",
       "      <td>2021</td>\n",
       "      <td>Chile</td>\n",
       "      <td>2.5</td>\n",
       "      <td>9.070</td>\n",
       "    </tr>\n",
       "    <tr>\n",
       "      <th>201</th>\n",
       "      <td>2022</td>\n",
       "      <td>Chile</td>\n",
       "      <td>2.5</td>\n",
       "      <td>9.672</td>\n",
       "    </tr>\n",
       "    <tr>\n",
       "      <th>210</th>\n",
       "      <td>2023</td>\n",
       "      <td>Chile</td>\n",
       "      <td>NaN</td>\n",
       "      <td>8.963</td>\n",
       "    </tr>\n",
       "    <tr>\n",
       "      <th>166</th>\n",
       "      <td>2018</td>\n",
       "      <td>Colombia</td>\n",
       "      <td>4.3</td>\n",
       "      <td>14.195</td>\n",
       "    </tr>\n",
       "    <tr>\n",
       "      <th>175</th>\n",
       "      <td>2019</td>\n",
       "      <td>Colombia</td>\n",
       "      <td>4.3</td>\n",
       "      <td>14.218</td>\n",
       "    </tr>\n",
       "    <tr>\n",
       "      <th>184</th>\n",
       "      <td>2020</td>\n",
       "      <td>Colombia</td>\n",
       "      <td>4.4</td>\n",
       "      <td>14.106</td>\n",
       "    </tr>\n",
       "    <tr>\n",
       "      <th>193</th>\n",
       "      <td>2021</td>\n",
       "      <td>Colombia</td>\n",
       "      <td>4.2</td>\n",
       "      <td>13.947</td>\n",
       "    </tr>\n",
       "    <tr>\n",
       "      <th>202</th>\n",
       "      <td>2022</td>\n",
       "      <td>Colombia</td>\n",
       "      <td>4.2</td>\n",
       "      <td>13.731</td>\n",
       "    </tr>\n",
       "    <tr>\n",
       "      <th>211</th>\n",
       "      <td>2023</td>\n",
       "      <td>Colombia</td>\n",
       "      <td>NaN</td>\n",
       "      <td>13.475</td>\n",
       "    </tr>\n",
       "    <tr>\n",
       "      <th>167</th>\n",
       "      <td>2018</td>\n",
       "      <td>Ecuador</td>\n",
       "      <td>11.1</td>\n",
       "      <td>17.523</td>\n",
       "    </tr>\n",
       "    <tr>\n",
       "      <th>176</th>\n",
       "      <td>2019</td>\n",
       "      <td>Ecuador</td>\n",
       "      <td>12.6</td>\n",
       "      <td>16.924</td>\n",
       "    </tr>\n",
       "    <tr>\n",
       "      <th>185</th>\n",
       "      <td>2020</td>\n",
       "      <td>Ecuador</td>\n",
       "      <td>13.6</td>\n",
       "      <td>16.391</td>\n",
       "    </tr>\n",
       "    <tr>\n",
       "      <th>194</th>\n",
       "      <td>2021</td>\n",
       "      <td>Ecuador</td>\n",
       "      <td>14.0</td>\n",
       "      <td>15.882</td>\n",
       "    </tr>\n",
       "    <tr>\n",
       "      <th>203</th>\n",
       "      <td>2022</td>\n",
       "      <td>Ecuador</td>\n",
       "      <td>13.9</td>\n",
       "      <td>15.423</td>\n",
       "    </tr>\n",
       "    <tr>\n",
       "      <th>212</th>\n",
       "      <td>2023</td>\n",
       "      <td>Ecuador</td>\n",
       "      <td>NaN</td>\n",
       "      <td>15.033</td>\n",
       "    </tr>\n",
       "    <tr>\n",
       "      <th>168</th>\n",
       "      <td>2018</td>\n",
       "      <td>Paraguay</td>\n",
       "      <td>2.7</td>\n",
       "      <td>21.836</td>\n",
       "    </tr>\n",
       "    <tr>\n",
       "      <th>177</th>\n",
       "      <td>2019</td>\n",
       "      <td>Paraguay</td>\n",
       "      <td>3.1</td>\n",
       "      <td>21.421</td>\n",
       "    </tr>\n",
       "    <tr>\n",
       "      <th>186</th>\n",
       "      <td>2020</td>\n",
       "      <td>Paraguay</td>\n",
       "      <td>3.4</td>\n",
       "      <td>21.036</td>\n",
       "    </tr>\n",
       "    <tr>\n",
       "      <th>195</th>\n",
       "      <td>2021</td>\n",
       "      <td>Paraguay</td>\n",
       "      <td>3.9</td>\n",
       "      <td>20.689</td>\n",
       "    </tr>\n",
       "    <tr>\n",
       "      <th>204</th>\n",
       "      <td>2022</td>\n",
       "      <td>Paraguay</td>\n",
       "      <td>4.5</td>\n",
       "      <td>20.356</td>\n",
       "    </tr>\n",
       "    <tr>\n",
       "      <th>213</th>\n",
       "      <td>2023</td>\n",
       "      <td>Paraguay</td>\n",
       "      <td>NaN</td>\n",
       "      <td>19.985</td>\n",
       "    </tr>\n",
       "    <tr>\n",
       "      <th>169</th>\n",
       "      <td>2018</td>\n",
       "      <td>Peru</td>\n",
       "      <td>6.2</td>\n",
       "      <td>16.930</td>\n",
       "    </tr>\n",
       "    <tr>\n",
       "      <th>178</th>\n",
       "      <td>2019</td>\n",
       "      <td>Peru</td>\n",
       "      <td>6.5</td>\n",
       "      <td>16.853</td>\n",
       "    </tr>\n",
       "    <tr>\n",
       "      <th>187</th>\n",
       "      <td>2020</td>\n",
       "      <td>Peru</td>\n",
       "      <td>6.7</td>\n",
       "      <td>16.610</td>\n",
       "    </tr>\n",
       "    <tr>\n",
       "      <th>196</th>\n",
       "      <td>2021</td>\n",
       "      <td>Peru</td>\n",
       "      <td>7.1</td>\n",
       "      <td>16.398</td>\n",
       "    </tr>\n",
       "    <tr>\n",
       "      <th>205</th>\n",
       "      <td>2022</td>\n",
       "      <td>Peru</td>\n",
       "      <td>7.0</td>\n",
       "      <td>16.183</td>\n",
       "    </tr>\n",
       "    <tr>\n",
       "      <th>214</th>\n",
       "      <td>2023</td>\n",
       "      <td>Peru</td>\n",
       "      <td>NaN</td>\n",
       "      <td>15.944</td>\n",
       "    </tr>\n",
       "    <tr>\n",
       "      <th>170</th>\n",
       "      <td>2018</td>\n",
       "      <td>Uruguay</td>\n",
       "      <td>2.5</td>\n",
       "      <td>11.687</td>\n",
       "    </tr>\n",
       "    <tr>\n",
       "      <th>179</th>\n",
       "      <td>2019</td>\n",
       "      <td>Uruguay</td>\n",
       "      <td>2.5</td>\n",
       "      <td>10.894</td>\n",
       "    </tr>\n",
       "    <tr>\n",
       "      <th>188</th>\n",
       "      <td>2020</td>\n",
       "      <td>Uruguay</td>\n",
       "      <td>2.5</td>\n",
       "      <td>10.410</td>\n",
       "    </tr>\n",
       "    <tr>\n",
       "      <th>197</th>\n",
       "      <td>2021</td>\n",
       "      <td>Uruguay</td>\n",
       "      <td>2.5</td>\n",
       "      <td>10.071</td>\n",
       "    </tr>\n",
       "    <tr>\n",
       "      <th>206</th>\n",
       "      <td>2022</td>\n",
       "      <td>Uruguay</td>\n",
       "      <td>2.5</td>\n",
       "      <td>9.958</td>\n",
       "    </tr>\n",
       "    <tr>\n",
       "      <th>215</th>\n",
       "      <td>2023</td>\n",
       "      <td>Uruguay</td>\n",
       "      <td>NaN</td>\n",
       "      <td>9.871</td>\n",
       "    </tr>\n",
       "  </tbody>\n",
       "</table>\n",
       "</div>"
      ],
      "text/plain": [
       "Indicador   Año       País  Desnutrición (%)  \\\n",
       "162        2018  Argentina               3.5   \n",
       "171        2019  Argentina               3.5   \n",
       "180        2020  Argentina               3.4   \n",
       "189        2021  Argentina               3.3   \n",
       "198        2022  Argentina               3.2   \n",
       "207        2023  Argentina               NaN   \n",
       "163        2018    Bolivia              14.5   \n",
       "172        2019    Bolivia              14.5   \n",
       "181        2020    Bolivia              16.9   \n",
       "190        2021    Bolivia              20.3   \n",
       "199        2022    Bolivia              23.0   \n",
       "208        2023    Bolivia               NaN   \n",
       "164        2018     Brazil               2.5   \n",
       "173        2019     Brazil               2.5   \n",
       "182        2020     Brazil               3.4   \n",
       "191        2021     Brazil               4.2   \n",
       "200        2022     Brazil               3.9   \n",
       "209        2023     Brazil               NaN   \n",
       "165        2018      Chile               3.0   \n",
       "174        2019      Chile               2.7   \n",
       "183        2020      Chile               2.5   \n",
       "192        2021      Chile               2.5   \n",
       "201        2022      Chile               2.5   \n",
       "210        2023      Chile               NaN   \n",
       "166        2018   Colombia               4.3   \n",
       "175        2019   Colombia               4.3   \n",
       "184        2020   Colombia               4.4   \n",
       "193        2021   Colombia               4.2   \n",
       "202        2022   Colombia               4.2   \n",
       "211        2023   Colombia               NaN   \n",
       "167        2018    Ecuador              11.1   \n",
       "176        2019    Ecuador              12.6   \n",
       "185        2020    Ecuador              13.6   \n",
       "194        2021    Ecuador              14.0   \n",
       "203        2022    Ecuador              13.9   \n",
       "212        2023    Ecuador               NaN   \n",
       "168        2018   Paraguay               2.7   \n",
       "177        2019   Paraguay               3.1   \n",
       "186        2020   Paraguay               3.4   \n",
       "195        2021   Paraguay               3.9   \n",
       "204        2022   Paraguay               4.5   \n",
       "213        2023   Paraguay               NaN   \n",
       "169        2018       Peru               6.2   \n",
       "178        2019       Peru               6.5   \n",
       "187        2020       Peru               6.7   \n",
       "196        2021       Peru               7.1   \n",
       "205        2022       Peru               7.0   \n",
       "214        2023       Peru               NaN   \n",
       "170        2018    Uruguay               2.5   \n",
       "179        2019    Uruguay               2.5   \n",
       "188        2020    Uruguay               2.5   \n",
       "197        2021    Uruguay               2.5   \n",
       "206        2022    Uruguay               2.5   \n",
       "215        2023    Uruguay               NaN   \n",
       "\n",
       "Indicador  Tasa de Natalidad (por 1000 habitantes)  \n",
       "162                                         15.332  \n",
       "171                                         13.902  \n",
       "180                                         11.799  \n",
       "189                                         11.682  \n",
       "198                                         10.926  \n",
       "207                                         11.064  \n",
       "163                                         22.574  \n",
       "172                                         22.257  \n",
       "181                                         21.996  \n",
       "190                                         21.808  \n",
       "199                                         21.566  \n",
       "208                                         21.247  \n",
       "164                                         14.022  \n",
       "173                                         13.548  \n",
       "182                                         12.995  \n",
       "191                                         12.754  \n",
       "200                                         12.555  \n",
       "209                                         12.322  \n",
       "165                                         11.698  \n",
       "174                                         10.940  \n",
       "183                                         10.097  \n",
       "192                                          9.070  \n",
       "201                                          9.672  \n",
       "210                                          8.963  \n",
       "166                                         14.195  \n",
       "175                                         14.218  \n",
       "184                                         14.106  \n",
       "193                                         13.947  \n",
       "202                                         13.731  \n",
       "211                                         13.475  \n",
       "167                                         17.523  \n",
       "176                                         16.924  \n",
       "185                                         16.391  \n",
       "194                                         15.882  \n",
       "203                                         15.423  \n",
       "212                                         15.033  \n",
       "168                                         21.836  \n",
       "177                                         21.421  \n",
       "186                                         21.036  \n",
       "195                                         20.689  \n",
       "204                                         20.356  \n",
       "213                                         19.985  \n",
       "169                                         16.930  \n",
       "178                                         16.853  \n",
       "187                                         16.610  \n",
       "196                                         16.398  \n",
       "205                                         16.183  \n",
       "214                                         15.944  \n",
       "170                                         11.687  \n",
       "179                                         10.894  \n",
       "188                                         10.410  \n",
       "197                                         10.071  \n",
       "206                                          9.958  \n",
       "215                                          9.871  "
      ]
     },
     "execution_count": 9,
     "metadata": {},
     "output_type": "execute_result"
    }
   ],
   "source": [
    "# IMPORTACIONES DE LIBRERÍAS\n",
    "import requests                    # Para conectarse a la API del Banco Mundial\n",
    "import pandas as pd               # Para manejar y limpiar los datos\n",
    "import matplotlib.pyplot as plt   # Para crear los gráficos\n",
    "from bs4 import BeautifulSoup     # Por si la respuesta no es JSON válido\n",
    "\n",
    "# OBTENER TODOS LOS PAÍSES DESDE LA API DEL BANCO MUNDIAL\n",
    "url = \"http://api.worldbank.org/v2/country?format=json&per_page=400\"  # URL para obtener países\n",
    "response = requests.get(url)# Hace la solicitud GET\n",
    "data = response.json() # Convierte la respuesta en JSON\n",
    "\n",
    "# Lista de países sudamericanos por nombre (usaremos esto para filtrar)\n",
    "sudamerica_nombres = [\n",
    "    \"Argentina\", \"Bolivia\", \"Brazil\", \"Chile\", \"Colombia\", \"Ecuador\",\n",
    "    \"Paraguay\", \"Peru\", \"Uruguay\", \"Venezuela\"\n",
    "]\n",
    "\n",
    "# Filtrar solo los países sudamericanos: {código: nombre}\n",
    "paises = {} #Crea un diccionario vacío\n",
    "for pais in data[1]: #Recorre cada elemento de data\n",
    "    if pais[\"name\"] in sudamerica_nombres: #Verifica si el nombre del país está en la lista sudamerica_nombres\n",
    "        paises[pais[\"id\"]] = pais[\"name\"] #Si el pais está se agrega al diccionario paises\n",
    "\n",
    "# DEFINIR INDICADORES A CONSULTAR EN LA API \n",
    "indicadores = {\n",
    "    \"SP.DYN.CBRT.IN\": \"Tasa de Natalidad (por 1000 habitantes)\", # Nacimientos por cada 1000 personas\n",
    "    \"SN.ITK.DEFC.ZS\": \"Desnutrición (%)\" # % de personas con desnutrición\n",
    "}\n",
    "fecha = \"2000:2024\" # Rango de años a consultar\n",
    "\n",
    "# FUNCIÓN PARA CONSULTAR LA API POR PAÍS E INDICADOR\n",
    "def obtener_datos(pais, indicador):\n",
    "    # Construir la URL para ese país e indicador\n",
    "    url = f\"http://api.worldbank.org/v2/country/{pais}/indicator/{indicador}?format=json&date={fecha}&per_page=100\"\n",
    "    r = requests.get(url)  # Realiza la solicitud\n",
    "\n",
    "    try:\n",
    "        data = r.json()  # Intenta convertir la respuesta a JSON\n",
    "    except:\n",
    "        # Si no es JSON (ej. error HTML), se usa BeautifulSoup para ver el error\n",
    "        soup = BeautifulSoup(r.text, \"html.parser\")\n",
    "        print(f\"Error en país {pais} - indicador {indicador}\")\n",
    "        return pd.DataFrame()  # Devuelve un DataFrame vacío\n",
    "\n",
    "    # Si hay datos válidos (más de un elemento)\n",
    "    if len(data) > 1:\n",
    "        datos = [\n",
    "            {\n",
    "                \"País\": paises[pais],                  # Nombre del país\n",
    "                \"Año\": int(d[\"date\"]),                 # Año como entero\n",
    "                \"Valor\": d[\"value\"],                   # Valor del indicador\n",
    "                \"Indicador\": indicadores[indicador]    # Nombre legible del indicador\n",
    "            }\n",
    "            for d in data[1] if d[\"value\"] is not None  # Solo incluir datos válidos\n",
    "        ]\n",
    "        return pd.DataFrame(datos)  # Devuelve los datos como DataFrame\n",
    "    else:\n",
    "        return pd.DataFrame()  # Si no hay datos, retorna DataFrame vacío\n",
    "\n",
    "\n",
    "\n",
    "# OBTENER DATOS DE TODOS LOS PAÍSES E INDICADORES\n",
    "dfs = []  # Lista vacía para guardar los dataframes\n",
    "for codigo_pais in paises:  # Para cada país sudamericano\n",
    "    for indicador in indicadores:  # Para cada indicador\n",
    "        df_temp = obtener_datos(codigo_pais, indicador)  # Obtener los datos desde la API\n",
    "        dfs.append(df_temp)  # Agregar el DataFrame a la lista\n",
    "\n",
    "\n",
    "# UNIR TODOS LOS DATAFRAMES EN UNO SOLO\n",
    "df = pd.concat(dfs, ignore_index=True)\n",
    "\n",
    "# TRANSFORMAR A FORMATO ANCHO\n",
    "df_pivot = df.pivot_table(index=[\"Año\", \"País\"], columns=\"Indicador\", values=\"Valor\").reset_index()\n",
    "df_pivot = df_pivot.sort_values([\"País\", \"Año\"]) # Ordenar por país y año\n",
    "\n",
    "# FILTRAR SOLO LOS AÑOS DE 2018 A 2024\n",
    "df_filtrado = df_pivot[(df_pivot[\"Año\"] >= 2018) & (df_pivot[\"Año\"] <= 2024)]\n",
    "\n",
    "# MOSTRAR EL RESULTADO FILTRADO\n",
    "df_filtrado\n"
   ]
  },
  {
   "cell_type": "markdown",
   "id": "56d2b124-ad2d-45ce-bd48-2ce035a77c53",
   "metadata": {},
   "source": [
    "### BASE DE DATOS"
   ]
  },
  {
   "cell_type": "code",
   "execution_count": 10,
   "id": "41cef267-694e-434a-92db-99b00bd8716f",
   "metadata": {},
   "outputs": [],
   "source": [
    "# GUARDAR EL RESULTADO EN UN ARCHIVO EXCEL\n",
    "df_filtrado.to_excel(\"Tasa_natalidad_y_desnutricion_2018_2024.xlsx\", index=False)"
   ]
  },
  {
   "cell_type": "markdown",
   "id": "85798186-2f6a-47f5-ab80-d7e420cf8c04",
   "metadata": {},
   "source": [
    "## 📊 Análisis: Tasa de natalidad y desnutrición en Sudamérica\n",
    "\n",
    "Los siguientes gráficos comparan la tasa de natalidad (nacimientos por cada 1,000 habitantes) y los niveles de desnutrición a lo largo del tiempo en países sudamericanos, analizando si el crecimiento poblacional se asocia con mayores carencias nutricionales en la población."
   ]
  },
  {
   "cell_type": "markdown",
   "id": "14036310-3312-4c22-8d0b-07680d6b1528",
   "metadata": {},
   "source": [
    "### GRÁFICA DE LINEAS CON DOBLE EJE Y DE LA TASA DE NATALIDAD Y DESNUTRICIÓN EN SUDAMERICA "
   ]
  },
  {
   "cell_type": "code",
   "execution_count": 20,
   "id": "971ed836-ed2b-4744-b307-4781ffc8156f",
   "metadata": {},
   "outputs": [
    {
     "data": {
      "image/png": "[encoded data removed]",
      "text/plain": [
       "<Figure size 1200x600 with 2 Axes>"
      ]
     },
     "metadata": {},
     "output_type": "display_data"
    },
    {
     "name": "stdin",
     "output_type": "stream",
     "text": [
      "🔎 Mostrando gráfico de Uruguay. Presiona ENTER para continuar... \n"
     ]
    }
   ],
   "source": [
    "# Importar librerías necesarias\n",
    "import matplotlib.pyplot as plt\n",
    "from IPython.display import clear_output  # Necesario para limpiar la salida\n",
    "\n",
    "# GRAFICAR POR PAÍS (solo de 2018 a 2024)\n",
    "for pais in df_filtrado[\"País\"].unique():  # Recorre cada país único del DataFrame filtrado\n",
    "    datos_pais = df_filtrado[df_filtrado[\"País\"] == pais]  # Filtra los datos solo para ese país\n",
    "\n",
    "    clear_output(wait=True)  # Limpia la salida del gráfico anterior\n",
    "\n",
    "    fig, ax1 = plt.subplots(figsize=(12, 6))  # Crea la figura y el eje izquierdo con tamaño personalizado\n",
    "    ax1.set_title(f\"{pais}: Tasa de Natalidad vs Desnutrición (2018–2024)\")  # Título con nombre del país\n",
    "\n",
    "    # EJE IZQUIERDO: Tasa de natalidad\n",
    "    ax1.set_xlabel(\"Año\")  # Etiqueta del eje X\n",
    "    ax1.set_ylabel(\"Tasa de Natalidad (por 1000 hab.)\", color=\"tab:blue\")  # Etiqueta del eje Y izquierdo en azul\n",
    "\n",
    "    # Gráfico de línea para la Tasa de Natalidad\n",
    "    ax1.plot(\n",
    "        datos_pais[\"Año\"],  # Eje X: años\n",
    "        datos_pais[\"Tasa de Natalidad (por 1000 habitantes)\"],  # Eje Y: valores de natalidad\n",
    "        color=\"tab:blue\",  # Color azul para natalidad\n",
    "        marker='o'  # Marca circular en cada punto\n",
    "    )\n",
    "    ax1.tick_params(axis=\"y\", labelcolor=\"tab:blue\")  # Los números del eje Y izquierdo también en azul\n",
    "\n",
    "    # EJE DERECHO: Desnutrición\n",
    "    ax2 = ax1.twinx()  # Crea un segundo eje Y compartiendo el mismo eje X\n",
    "    ax2.set_ylabel(\"Desnutrición (%)\", color=\"tab:red\")  # Etiqueta del eje derecho en rojo\n",
    "\n",
    "    # Gráfico de línea para la Desnutrición\n",
    "    ax2.plot(\n",
    "        datos_pais[\"Año\"],  # Eje X: años\n",
    "        datos_pais[\"Desnutrición (%)\"],  # Eje Y derecho: valores de desnutrición\n",
    "        color=\"tab:red\",  # Línea roja para desnutrición\n",
    "        marker='x'  # Marca en forma de \"x\"\n",
    "    )\n",
    "    ax2.tick_params(axis=\"y\", labelcolor=\"tab:red\")  # Números del eje Y derecho en rojo\n",
    "\n",
    "    plt.grid(True)  # Activa las líneas de cuadrícula \n",
    "    plt.tight_layout()  # Ajusta automáticamente el diseño para evitar solapamiento\n",
    "    plt.show()  # Muestra el gráfico para el país actual\n",
    "\n",
    "    # Pausa hasta que el usuario presione ENTER y pase al siguiente gráfico\n",
    "    input(f\"🔎 Mostrando gráfico de {pais}. Presiona ENTER para continuar...\")\n"
   ]
  },
  {
   "cell_type": "markdown",
   "id": "b075dadc-e34e-4b75-aec3-15ab54e7044f",
   "metadata": {},
   "source": [
    "### LINEA DE TIEMPO DE LA TASA DE NATALIDAD EN SUDAMERICA "
   ]
  },
  {
   "cell_type": "code",
   "execution_count": 16,
   "id": "7aadfb89-1de9-400f-b890-3e5a1f5c6f44",
   "metadata": {},
   "outputs": [
    {
     "data": {
      "image/png": "[encoded data removed]",
      "text/plain": [
       "<Figure size 1200x600 with 1 Axes>"
      ]
     },
     "metadata": {},
     "output_type": "display_data"
    }
   ],
   "source": [
    "# Se importa la librería matplotlib para graficar \n",
    "import matplotlib.pyplot as plt \n",
    "\n",
    "# Pivot para tener una columna por país\n",
    "df_natalidad = df_filtrado.pivot(\n",
    "    index=\"Año\",                      # Las filas serán los años\n",
    "    columns=\"País\",                   # Cada país se convertirá en una columna\n",
    "    values=\"Tasa de Natalidad (por 1000 habitantes)\"  # El valor que irá en la tabla será la tasa de natalidad\n",
    ")\n",
    "\n",
    "# Crear la figura\n",
    "plt.figure(figsize=(12, 6))  # Se define el tamaño del gráfico (ancho: 12, alto: 6)\n",
    "\n",
    "# Graficar una línea por cada país\n",
    "for pais in df_natalidad.columns:  # Recorre todos los países (columnas del DataFrame)\n",
    "    plt.plot(\n",
    "        df_natalidad.index,       # Eje X: los años\n",
    "        df_natalidad[pais],       # Eje Y: los valores de natalidad para ese país\n",
    "        marker='o',               # Dibuja círculos en cada punto\n",
    "        label=pais                # Etiqueta para la leyenda\n",
    "    )\n",
    "\n",
    "# Personalizar el gráfico\n",
    "plt.title(\"Comparación de la Tasa de Natalidad (2018–2024) en Sudamérica\")  # Título principal\n",
    "plt.xlabel(\"Año\")  # Etiqueta del eje X\n",
    "plt.ylabel(\"Tasa de Natalidad (por 1000 habitantes)\")  # Etiqueta del eje Y\n",
    "\n",
    "plt.legend(\n",
    "    title=\"País\",                   # Título de la leyenda\n",
    "    loc=\"center left\",             # Posición de la leyenda: centrado a la izquierda\n",
    "    bbox_to_anchor=(1, 0.5)        #  Coloca la leyenda fuera del gráfico, a la derecha\n",
    ")\n",
    "\n",
    "plt.grid(True)         # Agrega líneas de cuadrícula\n",
    "plt.tight_layout()     # Ajusta automáticamente los márgenes para evitar que se corten elementos\n"
   ]
  },
  {
   "cell_type": "markdown",
   "id": "90582290-91b8-4418-9bb0-40bfc8dda379",
   "metadata": {},
   "source": [
    "### LINEA DE TIEMPO INTERACTIVA DE LA TASA DE NATALIDAD EN SUDAMERICA "
   ]
  },
  {
   "cell_type": "code",
   "execution_count": 15,
   "id": "562fe9eb-4042-4b5b-9c2b-e88a5b00e853",
   "metadata": {},
   "outputs": [
    {
     "data": {
      "application/vnd.plotly.v1+json": {
       "config": {
        "plotlyServerURL": "https://plot.ly"
       },
       "data": [
        {
         "hovertemplate": "País=Argentina<br>Año=%{x}<br>Tasa de Natalidad (por 1000 habitantes)=%{y}<extra></extra>",
         "legendgroup": "Argentina",
         "line": {
          "color": "#636efa",
          "dash": "solid"
         },
         "marker": {
          "symbol": "circle"
         },
         "mode": "lines+markers",
         "name": "Argentina",
         "orientation": "v",
         "showlegend": true,
         "type": "scatter",
         "x": [
          2018,
          2019,
          2020,
          2021,
          2022,
          2023
         ],
         "xaxis": "x",
         "y": [
          15.332,
          13.902,
          11.799,
          11.682,
          10.926,
          11.064
         ],
         "yaxis": "y"
        },
        {
         "hovertemplate": "País=Bolivia<br>Año=%{x}<br>Tasa de Natalidad (por 1000 habitantes)=%{y}<extra></extra>",
         "legendgroup": "Bolivia",
         "line": {
          "color": "#EF553B",
          "dash": "solid"
         },
         "marker": {
          "symbol": "circle"
         },
         "mode": "lines+markers",
         "name": "Bolivia",
         "orientation": "v",
         "showlegend": true,
         "type": "scatter",
         "x": [
          2018,
          2019,
          2020,
          2021,
          2022,
          2023
         ],
         "xaxis": "x",
         "y": [
          22.574,
          22.257,
          21.996,
          21.808,
          21.566,
          21.247
         ],
         "yaxis": "y"
        },
        {
         "hovertemplate": "País=Brazil<br>Año=%{x}<br>Tasa de Natalidad (por 1000 habitantes)=%{y}<extra></extra>",
         "legendgroup": "Brazil",
         "line": {
          "color": "#00cc96",
          "dash": "solid"
         },
         "marker": {
          "symbol": "circle"
         },
         "mode": "lines+markers",
         "name": "Brazil",
         "orientation": "v",
         "showlegend": true,
         "type": "scatter",
         "x": [
          2018,
          2019,
          2020,
          2021,
          2022,
          2023
         ],
         "xaxis": "x",
         "y": [
          14.022,
          13.548,
          12.995,
          12.754,
          12.555,
          12.322
         ],
         "yaxis": "y"
        },
        {
         "hovertemplate": "País=Chile<br>Año=%{x}<br>Tasa de Natalidad (por 1000 habitantes)=%{y}<extra></extra>",
         "legendgroup": "Chile",
         "line": {
          "color": "#ab63fa",
          "dash": "solid"
         },
         "marker": {
          "symbol": "circle"
         },
         "mode": "lines+markers",
         "name": "Chile",
         "orientation": "v",
         "showlegend": true,
         "type": "scatter",
         "x": [
          2018,
          2019,
          2020,
          2021,
          2022,
          2023
         ],
         "xaxis": "x",
         "y": [
          11.698,
          10.94,
          10.097,
          9.07,
          9.672,
          8.963
         ],
         "yaxis": "y"
        },
        {
         "hovertemplate": "País=Colombia<br>Año=%{x}<br>Tasa de Natalidad (por 1000 habitantes)=%{y}<extra></extra>",
         "legendgroup": "Colombia",
         "line": {
          "color": "#FFA15A",
          "dash": "solid"
         },
         "marker": {
          "symbol": "circle"
         },
         "mode": "lines+markers",
         "name": "Colombia",
         "orientation": "v",
         "showlegend": true,
         "type": "scatter",
         "x": [
          2018,
          2019,
          2020,
          2021,
          2022,
          2023
         ],
         "xaxis": "x",
         "y": [
          14.195,
          14.218,
          14.106,
          13.947,
          13.731,
          13.475
         ],
         "yaxis": "y"
        },
        {
         "hovertemplate": "País=Ecuador<br>Año=%{x}<br>Tasa de Natalidad (por 1000 habitantes)=%{y}<extra></extra>",
         "legendgroup": "Ecuador",
         "line": {
          "color": "#19d3f3",
          "dash": "solid"
         },
         "marker": {
          "symbol": "circle"
         },
         "mode": "lines+markers",
         "name": "Ecuador",
         "orientation": "v",
         "showlegend": true,
         "type": "scatter",
         "x": [
          2018,
          2019,
          2020,
          2021,
          2022,
          2023
         ],
         "xaxis": "x",
         "y": [
          17.523,
          16.924,
          16.391,
          15.882,
          15.423,
          15.033
         ],
         "yaxis": "y"
        },
        {
         "hovertemplate": "País=Paraguay<br>Año=%{x}<br>Tasa de Natalidad (por 1000 habitantes)=%{y}<extra></extra>",
         "legendgroup": "Paraguay",
         "line": {
          "color": "#FF6692",
          "dash": "solid"
         },
         "marker": {
          "symbol": "circle"
         },
         "mode": "lines+markers",
         "name": "Paraguay",
         "orientation": "v",
         "showlegend": true,
         "type": "scatter",
         "x": [
          2018,
          2019,
          2020,
          2021,
          2022,
          2023
         ],
         "xaxis": "x",
         "y": [
          21.836,
          21.421,
          21.036,
          20.689,
          20.356,
          19.985
         ],
         "yaxis": "y"
        },
        {
         "hovertemplate": "País=Peru<br>Año=%{x}<br>Tasa de Natalidad (por 1000 habitantes)=%{y}<extra></extra>",
         "legendgroup": "Peru",
         "line": {
          "color": "#B6E880",
          "dash": "solid"
         },
         "marker": {
          "symbol": "circle"
         },
         "mode": "lines+markers",
         "name": "Peru",
         "orientation": "v",
         "showlegend": true,
         "type": "scatter",
         "x": [
          2018,
          2019,
          2020,
          2021,
          2022,
          2023
         ],
         "xaxis": "x",
         "y": [
          16.93,
          16.853,
          16.61,
          16.398,
          16.183,
          15.944
         ],
         "yaxis": "y"
        },
        {
         "hovertemplate": "País=Uruguay<br>Año=%{x}<br>Tasa de Natalidad (por 1000 habitantes)=%{y}<extra></extra>",
         "legendgroup": "Uruguay",
         "line": {
          "color": "#FF97FF",
          "dash": "solid"
         },
         "marker": {
          "symbol": "circle"
         },
         "mode": "lines+markers",
         "name": "Uruguay",
         "orientation": "v",
         "showlegend": true,
         "type": "scatter",
         "x": [
          2018,
          2019,
          2020,
          2021,
          2022,
          2023
         ],
         "xaxis": "x",
         "y": [
          11.687,
          10.894,
          10.41,
          10.071,
          9.958,
          9.871
         ],
         "yaxis": "y"
        }
       ],
       "layout": {
        "height": 500,
        "legend": {
         "title": {
          "text": "País"
         },
         "tracegroupgap": 0
        },
        "template": {
         "data": {
          "bar": [
           {
            "error_x": {
             "color": "#2a3f5f"
            },
            "error_y": {
             "color": "#2a3f5f"
            },
            "marker": {
             "line": {
              "color": "white",
              "width": 0.5
             },
             "pattern": {
              "fillmode": "overlay",
              "size": 10,
              "solidity": 0.2
             }
            },
            "type": "bar"
           }
          ],
          "barpolar": [
           {
            "marker": {
             "line": {
              "color": "white",
              "width": 0.5
             },
             "pattern": {
              "fillmode": "overlay",
              "size": 10,
              "solidity": 0.2
             }
            },
            "type": "barpolar"
           }
          ],
          "carpet": [
           {
            "aaxis": {
             "endlinecolor": "#2a3f5f",
             "gridcolor": "#C8D4E3",
             "linecolor": "#C8D4E3",
             "minorgridcolor": "#C8D4E3",
             "startlinecolor": "#2a3f5f"
            },
            "baxis": {
             "endlinecolor": "#2a3f5f",
             "gridcolor": "#C8D4E3",
             "linecolor": "#C8D4E3",
             "minorgridcolor": "#C8D4E3",
             "startlinecolor": "#2a3f5f"
            },
            "type": "carpet"
           }
          ],
          "choropleth": [
           {
            "colorbar": {
             "outlinewidth": 0,
             "ticks": ""
            },
            "type": "choropleth"
           }
          ],
          "contour": [
           {
            "colorbar": {
             "outlinewidth": 0,
             "ticks": ""
            },
            "colorscale": [
             [
              0,
              "#0d0887"
             ],
             [
              0.1111111111111111,
              "#46039f"
             ],
             [
              0.2222222222222222,
              "#7201a8"
             ],
             [
              0.3333333333333333,
              "#9c179e"
             ],
             [
              0.4444444444444444,
              "#bd3786"
             ],
             [
              0.5555555555555556,
              "#d8576b"
             ],
             [
              0.6666666666666666,
              "#ed7953"
             ],
             [
              0.7777777777777778,
              "#fb9f3a"
             ],
             [
              0.8888888888888888,
              "#fdca26"
             ],
             [
              1,
              "#f0f921"
             ]
            ],
            "type": "contour"
           }
          ],
          "contourcarpet": [
           {
            "colorbar": {
             "outlinewidth": 0,
             "ticks": ""
            },
            "type": "contourcarpet"
           }
          ],
          "heatmap": [
           {
            "colorbar": {
             "outlinewidth": 0,
             "ticks": ""
            },
            "colorscale": [
             [
              0,
              "#0d0887"
             ],
             [
              0.1111111111111111,
              "#46039f"
             ],
             [
              0.2222222222222222,
              "#7201a8"
             ],
             [
              0.3333333333333333,
              "#9c179e"
             ],
             [
              0.4444444444444444,
              "#bd3786"
             ],
             [
              0.5555555555555556,
              "#d8576b"
             ],
             [
              0.6666666666666666,
              "#ed7953"
             ],
             [
              0.7777777777777778,
              "#fb9f3a"
             ],
             [
              0.8888888888888888,
              "#fdca26"
             ],
             [
              1,
              "#f0f921"
             ]
            ],
            "type": "heatmap"
           }
          ],
          "heatmapgl": [
           {
            "colorbar": {
             "outlinewidth": 0,
             "ticks": ""
            },
            "colorscale": [
             [
              0,
              "#0d0887"
             ],
             [
              0.1111111111111111,
              "#46039f"
             ],
             [
              0.2222222222222222,
              "#7201a8"
             ],
             [
              0.3333333333333333,
              "#9c179e"
             ],
             [
              0.4444444444444444,
              "#bd3786"
             ],
             [
              0.5555555555555556,
              "#d8576b"
             ],
             [
              0.6666666666666666,
              "#ed7953"
             ],
             [
              0.7777777777777778,
              "#fb9f3a"
             ],
             [
              0.8888888888888888,
              "#fdca26"
             ],
             [
              1,
              "#f0f921"
             ]
            ],
            "type": "heatmapgl"
           }
          ],
          "histogram": [
           {
            "marker": {
             "pattern": {
              "fillmode": "overlay",
              "size": 10,
              "solidity": 0.2
             }
            },
            "type": "histogram"
           }
          ],
          "histogram2d": [
           {
            "colorbar": {
             "outlinewidth": 0,
             "ticks": ""
            },
            "colorscale": [
             [
              0,
              "#0d0887"
             ],
             [
              0.1111111111111111,
              "#46039f"
             ],
             [
              0.2222222222222222,
              "#7201a8"
             ],
             [
              0.3333333333333333,
              "#9c179e"
             ],
             [
              0.4444444444444444,
              "#bd3786"
             ],
             [
              0.5555555555555556,
              "#d8576b"
             ],
             [
              0.6666666666666666,
              "#ed7953"
             ],
             [
              0.7777777777777778,
              "#fb9f3a"
             ],
             [
              0.8888888888888888,
              "#fdca26"
             ],
             [
              1,
              "#f0f921"
             ]
            ],
            "type": "histogram2d"
           }
          ],
          "histogram2dcontour": [
           {
            "colorbar": {
             "outlinewidth": 0,
             "ticks": ""
            },
            "colorscale": [
             [
              0,
              "#0d0887"
             ],
             [
              0.1111111111111111,
              "#46039f"
             ],
             [
              0.2222222222222222,
              "#7201a8"
             ],
             [
              0.3333333333333333,
              "#9c179e"
             ],
             [
              0.4444444444444444,
              "#bd3786"
             ],
             [
              0.5555555555555556,
              "#d8576b"
             ],
             [
              0.6666666666666666,
              "#ed7953"
             ],
             [
              0.7777777777777778,
              "#fb9f3a"
             ],
             [
              0.8888888888888888,
              "#fdca26"
             ],
             [
              1,
              "#f0f921"
             ]
            ],
            "type": "histogram2dcontour"
           }
          ],
          "mesh3d": [
           {
            "colorbar": {
             "outlinewidth": 0,
             "ticks": ""
            },
            "type": "mesh3d"
           }
          ],
          "parcoords": [
           {
            "line": {
             "colorbar": {
              "outlinewidth": 0,
              "ticks": ""
             }
            },
            "type": "parcoords"
           }
          ],
          "pie": [
           {
            "automargin": true,
            "type": "pie"
           }
          ],
          "scatter": [
           {
            "fillpattern": {
             "fillmode": "overlay",
             "size": 10,
             "solidity": 0.2
            },
            "type": "scatter"
           }
          ],
          "scatter3d": [
           {
            "line": {
             "colorbar": {
              "outlinewidth": 0,
              "ticks": ""
             }
            },
            "marker": {
             "colorbar": {
              "outlinewidth": 0,
              "ticks": ""
             }
            },
            "type": "scatter3d"
           }
          ],
          "scattercarpet": [
           {
            "marker": {
             "colorbar": {
              "outlinewidth": 0,
              "ticks": ""
             }
            },
            "type": "scattercarpet"
           }
          ],
          "scattergeo": [
           {
            "marker": {
             "colorbar": {
              "outlinewidth": 0,
              "ticks": ""
             }
            },
            "type": "scattergeo"
           }
          ],
          "scattergl": [
           {
            "marker": {
             "colorbar": {
              "outlinewidth": 0,
              "ticks": ""
             }
            },
            "type": "scattergl"
           }
          ],
          "scattermapbox": [
           {
            "marker": {
             "colorbar": {
              "outlinewidth": 0,
              "ticks": ""
             }
            },
            "type": "scattermapbox"
           }
          ],
          "scatterpolar": [
           {
            "marker": {
             "colorbar": {
              "outlinewidth": 0,
              "ticks": ""
             }
            },
            "type": "scatterpolar"
           }
          ],
          "scatterpolargl": [
           {
            "marker": {
             "colorbar": {
              "outlinewidth": 0,
              "ticks": ""
             }
            },
            "type": "scatterpolargl"
           }
          ],
          "scatterternary": [
           {
            "marker": {
             "colorbar": {
              "outlinewidth": 0,
              "ticks": ""
             }
            },
            "type": "scatterternary"
           }
          ],
          "surface": [
           {
            "colorbar": {
             "outlinewidth": 0,
             "ticks": ""
            },
            "colorscale": [
             [
              0,
              "#0d0887"
             ],
             [
              0.1111111111111111,
              "#46039f"
             ],
             [
              0.2222222222222222,
              "#7201a8"
             ],
             [
              0.3333333333333333,
              "#9c179e"
             ],
             [
              0.4444444444444444,
              "#bd3786"
             ],
             [
              0.5555555555555556,
              "#d8576b"
             ],
             [
              0.6666666666666666,
              "#ed7953"
             ],
             [
              0.7777777777777778,
              "#fb9f3a"
             ],
             [
              0.8888888888888888,
              "#fdca26"
             ],
             [
              1,
              "#f0f921"
             ]
            ],
            "type": "surface"
           }
          ],
          "table": [
           {
            "cells": {
             "fill": {
              "color": "#EBF0F8"
             },
             "line": {
              "color": "white"
             }
            },
            "header": {
             "fill": {
              "color": "#C8D4E3"
             },
             "line": {
              "color": "white"
             }
            },
            "type": "table"
           }
          ]
         },
         "layout": {
          "annotationdefaults": {
           "arrowcolor": "#2a3f5f",
           "arrowhead": 0,
           "arrowwidth": 1
          },
          "autotypenumbers": "strict",
          "coloraxis": {
           "colorbar": {
            "outlinewidth": 0,
            "ticks": ""
           }
          },
          "colorscale": {
           "diverging": [
            [
             0,
             "#8e0152"
            ],
            [
             0.1,
             "#c51b7d"
            ],
            [
             0.2,
             "#de77ae"
            ],
            [
             0.3,
             "#f1b6da"
            ],
            [
             0.4,
             "#fde0ef"
            ],
            [
             0.5,
             "#f7f7f7"
            ],
            [
             0.6,
             "#e6f5d0"
            ],
            [
             0.7,
             "#b8e186"
            ],
            [
             0.8,
             "#7fbc41"
            ],
            [
             0.9,
             "#4d9221"
            ],
            [
             1,
             "#276419"
            ]
           ],
           "sequential": [
            [
             0,
             "#0d0887"
            ],
            [
             0.1111111111111111,
             "#46039f"
            ],
            [
             0.2222222222222222,
             "#7201a8"
            ],
            [
             0.3333333333333333,
             "#9c179e"
            ],
            [
             0.4444444444444444,
             "#bd3786"
            ],
            [
             0.5555555555555556,
             "#d8576b"
            ],
            [
             0.6666666666666666,
             "#ed7953"
            ],
            [
             0.7777777777777778,
             "#fb9f3a"
            ],
            [
             0.8888888888888888,
             "#fdca26"
            ],
            [
             1,
             "#f0f921"
            ]
           ],
           "sequentialminus": [
            [
             0,
             "#0d0887"
            ],
            [
             0.1111111111111111,
             "#46039f"
            ],
            [
             0.2222222222222222,
             "#7201a8"
            ],
            [
             0.3333333333333333,
             "#9c179e"
            ],
            [
             0.4444444444444444,
             "#bd3786"
            ],
            [
             0.5555555555555556,
             "#d8576b"
            ],
            [
             0.6666666666666666,
             "#ed7953"
            ],
            [
             0.7777777777777778,
             "#fb9f3a"
            ],
            [
             0.8888888888888888,
             "#fdca26"
            ],
            [
             1,
             "#f0f921"
            ]
           ]
          },
          "colorway": [
           "#636efa",
           "#EF553B",
           "#00cc96",
           "#ab63fa",
           "#FFA15A",
           "#19d3f3",
           "#FF6692",
           "#B6E880",
           "#FF97FF",
           "#FECB52"
          ],
          "font": {
           "color": "#2a3f5f"
          },
          "geo": {
           "bgcolor": "white",
           "lakecolor": "white",
           "landcolor": "white",
           "showlakes": true,
           "showland": true,
           "subunitcolor": "#C8D4E3"
          },
          "hoverlabel": {
           "align": "left"
          },
          "hovermode": "closest",
          "mapbox": {
           "style": "light"
          },
          "paper_bgcolor": "white",
          "plot_bgcolor": "white",
          "polar": {
           "angularaxis": {
            "gridcolor": "#EBF0F8",
            "linecolor": "#EBF0F8",
            "ticks": ""
           },
           "bgcolor": "white",
           "radialaxis": {
            "gridcolor": "#EBF0F8",
            "linecolor": "#EBF0F8",
            "ticks": ""
           }
          },
          "scene": {
           "xaxis": {
            "backgroundcolor": "white",
            "gridcolor": "#DFE8F3",
            "gridwidth": 2,
            "linecolor": "#EBF0F8",
            "showbackground": true,
            "ticks": "",
            "zerolinecolor": "#EBF0F8"
           },
           "yaxis": {
            "backgroundcolor": "white",
            "gridcolor": "#DFE8F3",
            "gridwidth": 2,
            "linecolor": "#EBF0F8",
            "showbackground": true,
            "ticks": "",
            "zerolinecolor": "#EBF0F8"
           },
           "zaxis": {
            "backgroundcolor": "white",
            "gridcolor": "#DFE8F3",
            "gridwidth": 2,
            "linecolor": "#EBF0F8",
            "showbackground": true,
            "ticks": "",
            "zerolinecolor": "#EBF0F8"
           }
          },
          "shapedefaults": {
           "line": {
            "color": "#2a3f5f"
           }
          },
          "ternary": {
           "aaxis": {
            "gridcolor": "#DFE8F3",
            "linecolor": "#A2B1C6",
            "ticks": ""
           },
           "baxis": {
            "gridcolor": "#DFE8F3",
            "linecolor": "#A2B1C6",
            "ticks": ""
           },
           "bgcolor": "white",
           "caxis": {
            "gridcolor": "#DFE8F3",
            "linecolor": "#A2B1C6",
            "ticks": ""
           }
          },
          "title": {
           "x": 0.05
          },
          "xaxis": {
           "automargin": true,
           "gridcolor": "#EBF0F8",
           "linecolor": "#EBF0F8",
           "ticks": "",
           "title": {
            "standoff": 15
           },
           "zerolinecolor": "#EBF0F8",
           "zerolinewidth": 2
          },
          "yaxis": {
           "automargin": true,
           "gridcolor": "#EBF0F8",
           "linecolor": "#EBF0F8",
           "ticks": "",
           "title": {
            "standoff": 15
           },
           "zerolinecolor": "#EBF0F8",
           "zerolinewidth": 2
          }
         }
        },
        "title": {
         "text": "📈 Comparación de la Tasa de Natalidad (2018–2024) en Sudamérica"
        },
        "width": 900,
        "xaxis": {
         "anchor": "y",
         "autorange": true,
         "domain": [
          0,
          1
         ],
         "range": [
          2017.6882141691153,
          2023.3117858308847
         ],
         "title": {
          "text": "Año"
         },
         "type": "linear"
        },
        "yaxis": {
         "anchor": "x",
         "autorange": true,
         "domain": [
          0,
          1
         ],
         "range": [
          8.00464973262032,
          23.53235026737968
         ],
         "title": {
          "text": "Tasa de Natalidad (por 1000 habitantes)"
         },
         "type": "linear"
        }
       }
      },
      "image/png": "[encoded data removed]",
      "text/html": [
       "<div>                            <div id=\"232dd3d9-08a2-4af1-95c7-6401a30d514e\" class=\"plotly-graph-div\" style=\"height:500px; width:900px;\"></div>            <script type=\"text/javascript\">                require([\"plotly\"], function(Plotly) {                    window.PLOTLYENV=window.PLOTLYENV || {};                                    if (document.getElementById(\"232dd3d9-08a2-4af1-95c7-6401a30d514e\")) {                    Plotly.newPlot(                        \"232dd3d9-08a2-4af1-95c7-6401a30d514e\",                        [{\"hovertemplate\":\"Pa\\u00eds=Argentina\\u003cbr\\u003eA\\u00f1o=%{x}\\u003cbr\\u003eTasa de Natalidad (por 1000 habitantes)=%{y}\\u003cextra\\u003e\\u003c\\u002fextra\\u003e\",\"legendgroup\":\"Argentina\",\"line\":{\"color\":\"#636efa\",\"dash\":\"solid\"},\"marker\":{\"symbol\":\"circle\"},\"mode\":\"lines+markers\",\"name\":\"Argentina\",\"orientation\":\"v\",\"showlegend\":true,\"x\":[2018,2019,2020,2021,2022,2023],\"xaxis\":\"x\",\"y\":[15.332,13.902,11.799,11.682,10.926,11.064],\"yaxis\":\"y\",\"type\":\"scatter\"},{\"hovertemplate\":\"Pa\\u00eds=Bolivia\\u003cbr\\u003eA\\u00f1o=%{x}\\u003cbr\\u003eTasa de Natalidad (por 1000 habitantes)=%{y}\\u003cextra\\u003e\\u003c\\u002fextra\\u003e\",\"legendgroup\":\"Bolivia\",\"line\":{\"color\":\"#EF553B\",\"dash\":\"solid\"},\"marker\":{\"symbol\":\"circle\"},\"mode\":\"lines+markers\",\"name\":\"Bolivia\",\"orientation\":\"v\",\"showlegend\":true,\"x\":[2018,2019,2020,2021,2022,2023],\"xaxis\":\"x\",\"y\":[22.574,22.257,21.996,21.808,21.566,21.247],\"yaxis\":\"y\",\"type\":\"scatter\"},{\"hovertemplate\":\"Pa\\u00eds=Brazil\\u003cbr\\u003eA\\u00f1o=%{x}\\u003cbr\\u003eTasa de Natalidad (por 1000 habitantes)=%{y}\\u003cextra\\u003e\\u003c\\u002fextra\\u003e\",\"legendgroup\":\"Brazil\",\"line\":{\"color\":\"#00cc96\",\"dash\":\"solid\"},\"marker\":{\"symbol\":\"circle\"},\"mode\":\"lines+markers\",\"name\":\"Brazil\",\"orientation\":\"v\",\"showlegend\":true,\"x\":[2018,2019,2020,2021,2022,2023],\"xaxis\":\"x\",\"y\":[14.022,13.548,12.995,12.754,12.555,12.322],\"yaxis\":\"y\",\"type\":\"scatter\"},{\"hovertemplate\":\"Pa\\u00eds=Chile\\u003cbr\\u003eA\\u00f1o=%{x}\\u003cbr\\u003eTasa de Natalidad (por 1000 habitantes)=%{y}\\u003cextra\\u003e\\u003c\\u002fextra\\u003e\",\"legendgroup\":\"Chile\",\"line\":{\"color\":\"#ab63fa\",\"dash\":\"solid\"},\"marker\":{\"symbol\":\"circle\"},\"mode\":\"lines+markers\",\"name\":\"Chile\",\"orientation\":\"v\",\"showlegend\":true,\"x\":[2018,2019,2020,2021,2022,2023],\"xaxis\":\"x\",\"y\":[11.698,10.94,10.097,9.07,9.672,8.963],\"yaxis\":\"y\",\"type\":\"scatter\"},{\"hovertemplate\":\"Pa\\u00eds=Colombia\\u003cbr\\u003eA\\u00f1o=%{x}\\u003cbr\\u003eTasa de Natalidad (por 1000 habitantes)=%{y}\\u003cextra\\u003e\\u003c\\u002fextra\\u003e\",\"legendgroup\":\"Colombia\",\"line\":{\"color\":\"#FFA15A\",\"dash\":\"solid\"},\"marker\":{\"symbol\":\"circle\"},\"mode\":\"lines+markers\",\"name\":\"Colombia\",\"orientation\":\"v\",\"showlegend\":true,\"x\":[2018,2019,2020,2021,2022,2023],\"xaxis\":\"x\",\"y\":[14.195,14.218,14.106,13.947,13.731,13.475],\"yaxis\":\"y\",\"type\":\"scatter\"},{\"hovertemplate\":\"Pa\\u00eds=Ecuador\\u003cbr\\u003eA\\u00f1o=%{x}\\u003cbr\\u003eTasa de Natalidad (por 1000 habitantes)=%{y}\\u003cextra\\u003e\\u003c\\u002fextra\\u003e\",\"legendgroup\":\"Ecuador\",\"line\":{\"color\":\"#19d3f3\",\"dash\":\"solid\"},\"marker\":{\"symbol\":\"circle\"},\"mode\":\"lines+markers\",\"name\":\"Ecuador\",\"orientation\":\"v\",\"showlegend\":true,\"x\":[2018,2019,2020,2021,2022,2023],\"xaxis\":\"x\",\"y\":[17.523,16.924,16.391,15.882,15.423,15.033],\"yaxis\":\"y\",\"type\":\"scatter\"},{\"hovertemplate\":\"Pa\\u00eds=Paraguay\\u003cbr\\u003eA\\u00f1o=%{x}\\u003cbr\\u003eTasa de Natalidad (por 1000 habitantes)=%{y}\\u003cextra\\u003e\\u003c\\u002fextra\\u003e\",\"legendgroup\":\"Paraguay\",\"line\":{\"color\":\"#FF6692\",\"dash\":\"solid\"},\"marker\":{\"symbol\":\"circle\"},\"mode\":\"lines+markers\",\"name\":\"Paraguay\",\"orientation\":\"v\",\"showlegend\":true,\"x\":[2018,2019,2020,2021,2022,2023],\"xaxis\":\"x\",\"y\":[21.836,21.421,21.036,20.689,20.356,19.985],\"yaxis\":\"y\",\"type\":\"scatter\"},{\"hovertemplate\":\"Pa\\u00eds=Peru\\u003cbr\\u003eA\\u00f1o=%{x}\\u003cbr\\u003eTasa de Natalidad (por 1000 habitantes)=%{y}\\u003cextra\\u003e\\u003c\\u002fextra\\u003e\",\"legendgroup\":\"Peru\",\"line\":{\"color\":\"#B6E880\",\"dash\":\"solid\"},\"marker\":{\"symbol\":\"circle\"},\"mode\":\"lines+markers\",\"name\":\"Peru\",\"orientation\":\"v\",\"showlegend\":true,\"x\":[2018,2019,2020,2021,2022,2023],\"xaxis\":\"x\",\"y\":[16.93,16.853,16.61,16.398,16.183,15.944],\"yaxis\":\"y\",\"type\":\"scatter\"},{\"hovertemplate\":\"Pa\\u00eds=Uruguay\\u003cbr\\u003eA\\u00f1o=%{x}\\u003cbr\\u003eTasa de Natalidad (por 1000 habitantes)=%{y}\\u003cextra\\u003e\\u003c\\u002fextra\\u003e\",\"legendgroup\":\"Uruguay\",\"line\":{\"color\":\"#FF97FF\",\"dash\":\"solid\"},\"marker\":{\"symbol\":\"circle\"},\"mode\":\"lines+markers\",\"name\":\"Uruguay\",\"orientation\":\"v\",\"showlegend\":true,\"x\":[2018,2019,2020,2021,2022,2023],\"xaxis\":\"x\",\"y\":[11.687,10.894,10.41,10.071,9.958,9.871],\"yaxis\":\"y\",\"type\":\"scatter\"}],                        {\"template\":{\"data\":{\"barpolar\":[{\"marker\":{\"line\":{\"color\":\"white\",\"width\":0.5},\"pattern\":{\"fillmode\":\"overlay\",\"size\":10,\"solidity\":0.2}},\"type\":\"barpolar\"}],\"bar\":[{\"error_x\":{\"color\":\"#2a3f5f\"},\"error_y\":{\"color\":\"#2a3f5f\"},\"marker\":{\"line\":{\"color\":\"white\",\"width\":0.5},\"pattern\":{\"fillmode\":\"overlay\",\"size\":10,\"solidity\":0.2}},\"type\":\"bar\"}],\"carpet\":[{\"aaxis\":{\"endlinecolor\":\"#2a3f5f\",\"gridcolor\":\"#C8D4E3\",\"linecolor\":\"#C8D4E3\",\"minorgridcolor\":\"#C8D4E3\",\"startlinecolor\":\"#2a3f5f\"},\"baxis\":{\"endlinecolor\":\"#2a3f5f\",\"gridcolor\":\"#C8D4E3\",\"linecolor\":\"#C8D4E3\",\"minorgridcolor\":\"#C8D4E3\",\"startlinecolor\":\"#2a3f5f\"},\"type\":\"carpet\"}],\"choropleth\":[{\"colorbar\":{\"outlinewidth\":0,\"ticks\":\"\"},\"type\":\"choropleth\"}],\"contourcarpet\":[{\"colorbar\":{\"outlinewidth\":0,\"ticks\":\"\"},\"type\":\"contourcarpet\"}],\"contour\":[{\"colorbar\":{\"outlinewidth\":0,\"ticks\":\"\"},\"colorscale\":[[0.0,\"#0d0887\"],[0.1111111111111111,\"#46039f\"],[0.2222222222222222,\"#7201a8\"],[0.3333333333333333,\"#9c179e\"],[0.4444444444444444,\"#bd3786\"],[0.5555555555555556,\"#d8576b\"],[0.6666666666666666,\"#ed7953\"],[0.7777777777777778,\"#fb9f3a\"],[0.8888888888888888,\"#fdca26\"],[1.0,\"#f0f921\"]],\"type\":\"contour\"}],\"heatmapgl\":[{\"colorbar\":{\"outlinewidth\":0,\"ticks\":\"\"},\"colorscale\":[[0.0,\"#0d0887\"],[0.1111111111111111,\"#46039f\"],[0.2222222222222222,\"#7201a8\"],[0.3333333333333333,\"#9c179e\"],[0.4444444444444444,\"#bd3786\"],[0.5555555555555556,\"#d8576b\"],[0.6666666666666666,\"#ed7953\"],[0.7777777777777778,\"#fb9f3a\"],[0.8888888888888888,\"#fdca26\"],[1.0,\"#f0f921\"]],\"type\":\"heatmapgl\"}],\"heatmap\":[{\"colorbar\":{\"outlinewidth\":0,\"ticks\":\"\"},\"colorscale\":[[0.0,\"#0d0887\"],[0.1111111111111111,\"#46039f\"],[0.2222222222222222,\"#7201a8\"],[0.3333333333333333,\"#9c179e\"],[0.4444444444444444,\"#bd3786\"],[0.5555555555555556,\"#d8576b\"],[0.6666666666666666,\"#ed7953\"],[0.7777777777777778,\"#fb9f3a\"],[0.8888888888888888,\"#fdca26\"],[1.0,\"#f0f921\"]],\"type\":\"heatmap\"}],\"histogram2dcontour\":[{\"colorbar\":{\"outlinewidth\":0,\"ticks\":\"\"},\"colorscale\":[[0.0,\"#0d0887\"],[0.1111111111111111,\"#46039f\"],[0.2222222222222222,\"#7201a8\"],[0.3333333333333333,\"#9c179e\"],[0.4444444444444444,\"#bd3786\"],[0.5555555555555556,\"#d8576b\"],[0.6666666666666666,\"#ed7953\"],[0.7777777777777778,\"#fb9f3a\"],[0.8888888888888888,\"#fdca26\"],[1.0,\"#f0f921\"]],\"type\":\"histogram2dcontour\"}],\"histogram2d\":[{\"colorbar\":{\"outlinewidth\":0,\"ticks\":\"\"},\"colorscale\":[[0.0,\"#0d0887\"],[0.1111111111111111,\"#46039f\"],[0.2222222222222222,\"#7201a8\"],[0.3333333333333333,\"#9c179e\"],[0.4444444444444444,\"#bd3786\"],[0.5555555555555556,\"#d8576b\"],[0.6666666666666666,\"#ed7953\"],[0.7777777777777778,\"#fb9f3a\"],[0.8888888888888888,\"#fdca26\"],[1.0,\"#f0f921\"]],\"type\":\"histogram2d\"}],\"histogram\":[{\"marker\":{\"pattern\":{\"fillmode\":\"overlay\",\"size\":10,\"solidity\":0.2}},\"type\":\"histogram\"}],\"mesh3d\":[{\"colorbar\":{\"outlinewidth\":0,\"ticks\":\"\"},\"type\":\"mesh3d\"}],\"parcoords\":[{\"line\":{\"colorbar\":{\"outlinewidth\":0,\"ticks\":\"\"}},\"type\":\"parcoords\"}],\"pie\":[{\"automargin\":true,\"type\":\"pie\"}],\"scatter3d\":[{\"line\":{\"colorbar\":{\"outlinewidth\":0,\"ticks\":\"\"}},\"marker\":{\"colorbar\":{\"outlinewidth\":0,\"ticks\":\"\"}},\"type\":\"scatter3d\"}],\"scattercarpet\":[{\"marker\":{\"colorbar\":{\"outlinewidth\":0,\"ticks\":\"\"}},\"type\":\"scattercarpet\"}],\"scattergeo\":[{\"marker\":{\"colorbar\":{\"outlinewidth\":0,\"ticks\":\"\"}},\"type\":\"scattergeo\"}],\"scattergl\":[{\"marker\":{\"colorbar\":{\"outlinewidth\":0,\"ticks\":\"\"}},\"type\":\"scattergl\"}],\"scattermapbox\":[{\"marker\":{\"colorbar\":{\"outlinewidth\":0,\"ticks\":\"\"}},\"type\":\"scattermapbox\"}],\"scatterpolargl\":[{\"marker\":{\"colorbar\":{\"outlinewidth\":0,\"ticks\":\"\"}},\"type\":\"scatterpolargl\"}],\"scatterpolar\":[{\"marker\":{\"colorbar\":{\"outlinewidth\":0,\"ticks\":\"\"}},\"type\":\"scatterpolar\"}],\"scatter\":[{\"fillpattern\":{\"fillmode\":\"overlay\",\"size\":10,\"solidity\":0.2},\"type\":\"scatter\"}],\"scatterternary\":[{\"marker\":{\"colorbar\":{\"outlinewidth\":0,\"ticks\":\"\"}},\"type\":\"scatterternary\"}],\"surface\":[{\"colorbar\":{\"outlinewidth\":0,\"ticks\":\"\"},\"colorscale\":[[0.0,\"#0d0887\"],[0.1111111111111111,\"#46039f\"],[0.2222222222222222,\"#7201a8\"],[0.3333333333333333,\"#9c179e\"],[0.4444444444444444,\"#bd3786\"],[0.5555555555555556,\"#d8576b\"],[0.6666666666666666,\"#ed7953\"],[0.7777777777777778,\"#fb9f3a\"],[0.8888888888888888,\"#fdca26\"],[1.0,\"#f0f921\"]],\"type\":\"surface\"}],\"table\":[{\"cells\":{\"fill\":{\"color\":\"#EBF0F8\"},\"line\":{\"color\":\"white\"}},\"header\":{\"fill\":{\"color\":\"#C8D4E3\"},\"line\":{\"color\":\"white\"}},\"type\":\"table\"}]},\"layout\":{\"annotationdefaults\":{\"arrowcolor\":\"#2a3f5f\",\"arrowhead\":0,\"arrowwidth\":1},\"autotypenumbers\":\"strict\",\"coloraxis\":{\"colorbar\":{\"outlinewidth\":0,\"ticks\":\"\"}},\"colorscale\":{\"diverging\":[[0,\"#8e0152\"],[0.1,\"#c51b7d\"],[0.2,\"#de77ae\"],[0.3,\"#f1b6da\"],[0.4,\"#fde0ef\"],[0.5,\"#f7f7f7\"],[0.6,\"#e6f5d0\"],[0.7,\"#b8e186\"],[0.8,\"#7fbc41\"],[0.9,\"#4d9221\"],[1,\"#276419\"]],\"sequential\":[[0.0,\"#0d0887\"],[0.1111111111111111,\"#46039f\"],[0.2222222222222222,\"#7201a8\"],[0.3333333333333333,\"#9c179e\"],[0.4444444444444444,\"#bd3786\"],[0.5555555555555556,\"#d8576b\"],[0.6666666666666666,\"#ed7953\"],[0.7777777777777778,\"#fb9f3a\"],[0.8888888888888888,\"#fdca26\"],[1.0,\"#f0f921\"]],\"sequentialminus\":[[0.0,\"#0d0887\"],[0.1111111111111111,\"#46039f\"],[0.2222222222222222,\"#7201a8\"],[0.3333333333333333,\"#9c179e\"],[0.4444444444444444,\"#bd3786\"],[0.5555555555555556,\"#d8576b\"],[0.6666666666666666,\"#ed7953\"],[0.7777777777777778,\"#fb9f3a\"],[0.8888888888888888,\"#fdca26\"],[1.0,\"#f0f921\"]]},\"colorway\":[\"#636efa\",\"#EF553B\",\"#00cc96\",\"#ab63fa\",\"#FFA15A\",\"#19d3f3\",\"#FF6692\",\"#B6E880\",\"#FF97FF\",\"#FECB52\"],\"font\":{\"color\":\"#2a3f5f\"},\"geo\":{\"bgcolor\":\"white\",\"lakecolor\":\"white\",\"landcolor\":\"white\",\"showlakes\":true,\"showland\":true,\"subunitcolor\":\"#C8D4E3\"},\"hoverlabel\":{\"align\":\"left\"},\"hovermode\":\"closest\",\"mapbox\":{\"style\":\"light\"},\"paper_bgcolor\":\"white\",\"plot_bgcolor\":\"white\",\"polar\":{\"angularaxis\":{\"gridcolor\":\"#EBF0F8\",\"linecolor\":\"#EBF0F8\",\"ticks\":\"\"},\"bgcolor\":\"white\",\"radialaxis\":{\"gridcolor\":\"#EBF0F8\",\"linecolor\":\"#EBF0F8\",\"ticks\":\"\"}},\"scene\":{\"xaxis\":{\"backgroundcolor\":\"white\",\"gridcolor\":\"#DFE8F3\",\"gridwidth\":2,\"linecolor\":\"#EBF0F8\",\"showbackground\":true,\"ticks\":\"\",\"zerolinecolor\":\"#EBF0F8\"},\"yaxis\":{\"backgroundcolor\":\"white\",\"gridcolor\":\"#DFE8F3\",\"gridwidth\":2,\"linecolor\":\"#EBF0F8\",\"showbackground\":true,\"ticks\":\"\",\"zerolinecolor\":\"#EBF0F8\"},\"zaxis\":{\"backgroundcolor\":\"white\",\"gridcolor\":\"#DFE8F3\",\"gridwidth\":2,\"linecolor\":\"#EBF0F8\",\"showbackground\":true,\"ticks\":\"\",\"zerolinecolor\":\"#EBF0F8\"}},\"shapedefaults\":{\"line\":{\"color\":\"#2a3f5f\"}},\"ternary\":{\"aaxis\":{\"gridcolor\":\"#DFE8F3\",\"linecolor\":\"#A2B1C6\",\"ticks\":\"\"},\"baxis\":{\"gridcolor\":\"#DFE8F3\",\"linecolor\":\"#A2B1C6\",\"ticks\":\"\"},\"bgcolor\":\"white\",\"caxis\":{\"gridcolor\":\"#DFE8F3\",\"linecolor\":\"#A2B1C6\",\"ticks\":\"\"}},\"title\":{\"x\":0.05},\"xaxis\":{\"automargin\":true,\"gridcolor\":\"#EBF0F8\",\"linecolor\":\"#EBF0F8\",\"ticks\":\"\",\"title\":{\"standoff\":15},\"zerolinecolor\":\"#EBF0F8\",\"zerolinewidth\":2},\"yaxis\":{\"automargin\":true,\"gridcolor\":\"#EBF0F8\",\"linecolor\":\"#EBF0F8\",\"ticks\":\"\",\"title\":{\"standoff\":15},\"zerolinecolor\":\"#EBF0F8\",\"zerolinewidth\":2}}},\"xaxis\":{\"anchor\":\"y\",\"domain\":[0.0,1.0],\"title\":{\"text\":\"A\\u00f1o\"}},\"yaxis\":{\"anchor\":\"x\",\"domain\":[0.0,1.0],\"title\":{\"text\":\"Tasa de Natalidad (por 1000 habitantes)\"}},\"legend\":{\"title\":{\"text\":\"Pa\\u00eds\"},\"tracegroupgap\":0},\"title\":{\"text\":\"\\ud83d\\udcc8 Comparaci\\u00f3n de la Tasa de Natalidad (2018\\u20132024) en Sudam\\u00e9rica\"},\"width\":900,\"height\":500},                        {\"responsive\": true}                    ).then(function(){\n",
       "                            \n",
       "var gd = document.getElementById('232dd3d9-08a2-4af1-95c7-6401a30d514e');\n",
       "var x = new MutationObserver(function (mutations, observer) {{\n",
       "        var display = window.getComputedStyle(gd).display;\n",
       "        if (!display || display === 'none') {{\n",
       "            console.log([gd, 'removed!']);\n",
       "            Plotly.purge(gd);\n",
       "            observer.disconnect();\n",
       "        }}\n",
       "}});\n",
       "\n",
       "// Listen for the removal of the full notebook cells\n",
       "var notebookContainer = gd.closest('#notebook-container');\n",
       "if (notebookContainer) {{\n",
       "    x.observe(notebookContainer, {childList: true});\n",
       "}}\n",
       "\n",
       "// Listen for the clearing of the current output cell\n",
       "var outputEl = gd.closest('.output');\n",
       "if (outputEl) {{\n",
       "    x.observe(outputEl, {childList: true});\n",
       "}}\n",
       "\n",
       "                        })                };                });            </script>        </div>"
      ]
     },
     "metadata": {},
     "output_type": "display_data"
    }
   ],
   "source": [
    " #  Importa la librería Plotly Express\n",
    "import plotly.express as px  \n",
    "\n",
    "# Reorganiza el DataFrame a formato largo y elimina valores nulos\n",
    "df_largo = df_filtrado[[\"Año\", \"País\", \"Tasa de Natalidad (por 1000 habitantes)\"]].dropna()\n",
    "\n",
    "# Crear gráfico de líneas interactivo con Plotly\n",
    "fig = px.line(\n",
    "    df_largo,                                       # DataFrame a graficar\n",
    "    x=\"Año\",                                        # Eje X: años\n",
    "    y=\"Tasa de Natalidad (por 1000 habitantes)\",    # Eje Y: tasa de natalidad\n",
    "    color=\"País\",                                   # Color diferente por cada país\n",
    "    markers=True,                                   # Muestra puntos (marcadores) en cada año\n",
    "    title=\"📈 Comparación de la Tasa de Natalidad (2018–2024) en Sudamérica\"  # Título del gráfico\n",
    ")\n",
    "\n",
    "# Personalización adicional del gráfico\n",
    "fig.update_layout(\n",
    "    xaxis_title=\"Año\",                                       # Título del eje X\n",
    "    yaxis_title=\"Tasa de Natalidad (por 1000 habitantes)\",   # Título del eje Y\n",
    "    legend_title=\"País\",                                     # Título de la leyenda\n",
    "    template=\"plotly_white\",                                 # Estilo visual claro y limpio\n",
    "    width=900,                                               # Ancho del gráfico en píxeles\n",
    "    height=500                                               # Alto del gráfico en píxeles\n",
    ")\n",
    "\n",
    "# Mostrar el gráfico interactivo \n",
    "fig.show()\n"
   ]
  },
  {
   "cell_type": "markdown",
   "id": "620681c6-c3db-4655-a6e5-d98bc21ddbaf",
   "metadata": {},
   "source": [
    "### LINEA DE TIEMPO INTERACTIVA ANIMADA DE LA TASA DE NATALIDAD EN SUDAMERICA "
   ]
  },
  {
   "cell_type": "code",
   "execution_count": 14,
   "id": "8937dd58-8d50-4b11-99cf-f90f8511dd57",
   "metadata": {},
   "outputs": [
    {
     "data": {
      "application/vnd.plotly.v1+json": {
       "config": {
        "plotlyServerURL": "https://plot.ly"
       },
       "data": [
        {
         "alignmentgroup": "True",
         "hovertemplate": "País=%{y}<br>Año=2023<br>Tasa de Natalidad (por 1000 habitantes)=%{x}<extra></extra>",
         "legendgroup": "Argentina",
         "marker": {
          "color": "#636efa",
          "pattern": {
           "shape": ""
          }
         },
         "name": "Argentina",
         "offsetgroup": "Argentina",
         "orientation": "h",
         "showlegend": true,
         "textposition": "auto",
         "type": "bar",
         "x": [
          11.064
         ],
         "xaxis": "x",
         "y": [
          "Argentina"
         ],
         "yaxis": "y"
        },
        {
         "alignmentgroup": "True",
         "hovertemplate": "País=%{y}<br>Año=2023<br>Tasa de Natalidad (por 1000 habitantes)=%{x}<extra></extra>",
         "legendgroup": "Bolivia",
         "marker": {
          "color": "#EF553B",
          "pattern": {
           "shape": ""
          }
         },
         "name": "Bolivia",
         "offsetgroup": "Bolivia",
         "orientation": "h",
         "showlegend": true,
         "textposition": "auto",
         "type": "bar",
         "x": [
          21.247
         ],
         "xaxis": "x",
         "y": [
          "Bolivia"
         ],
         "yaxis": "y"
        },
        {
         "alignmentgroup": "True",
         "hovertemplate": "País=%{y}<br>Año=2023<br>Tasa de Natalidad (por 1000 habitantes)=%{x}<extra></extra>",
         "legendgroup": "Brazil",
         "marker": {
          "color": "#00cc96",
          "pattern": {
           "shape": ""
          }
         },
         "name": "Brazil",
         "offsetgroup": "Brazil",
         "orientation": "h",
         "showlegend": true,
         "textposition": "auto",
         "type": "bar",
         "x": [
          12.322
         ],
         "xaxis": "x",
         "y": [
          "Brazil"
         ],
         "yaxis": "y"
        },
        {
         "alignmentgroup": "True",
         "hovertemplate": "País=%{y}<br>Año=2023<br>Tasa de Natalidad (por 1000 habitantes)=%{x}<extra></extra>",
         "legendgroup": "Chile",
         "marker": {
          "color": "#ab63fa",
          "pattern": {
           "shape": ""
          }
         },
         "name": "Chile",
         "offsetgroup": "Chile",
         "orientation": "h",
         "showlegend": true,
         "textposition": "auto",
         "type": "bar",
         "x": [
          8.963
         ],
         "xaxis": "x",
         "y": [
          "Chile"
         ],
         "yaxis": "y"
        },
        {
         "alignmentgroup": "True",
         "hovertemplate": "País=%{y}<br>Año=2023<br>Tasa de Natalidad (por 1000 habitantes)=%{x}<extra></extra>",
         "legendgroup": "Colombia",
         "marker": {
          "color": "#FFA15A",
          "pattern": {
           "shape": ""
          }
         },
         "name": "Colombia",
         "offsetgroup": "Colombia",
         "orientation": "h",
         "showlegend": true,
         "textposition": "auto",
         "type": "bar",
         "x": [
          13.475
         ],
         "xaxis": "x",
         "y": [
          "Colombia"
         ],
         "yaxis": "y"
        },
        {
         "alignmentgroup": "True",
         "hovertemplate": "País=%{y}<br>Año=2023<br>Tasa de Natalidad (por 1000 habitantes)=%{x}<extra></extra>",
         "legendgroup": "Ecuador",
         "marker": {
          "color": "#19d3f3",
          "pattern": {
           "shape": ""
          }
         },
         "name": "Ecuador",
         "offsetgroup": "Ecuador",
         "orientation": "h",
         "showlegend": true,
         "textposition": "auto",
         "type": "bar",
         "x": [
          15.033
         ],
         "xaxis": "x",
         "y": [
          "Ecuador"
         ],
         "yaxis": "y"
        },
        {
         "alignmentgroup": "True",
         "hovertemplate": "País=%{y}<br>Año=2023<br>Tasa de Natalidad (por 1000 habitantes)=%{x}<extra></extra>",
         "legendgroup": "Paraguay",
         "marker": {
          "color": "#FF6692",
          "pattern": {
           "shape": ""
          }
         },
         "name": "Paraguay",
         "offsetgroup": "Paraguay",
         "orientation": "h",
         "showlegend": true,
         "textposition": "auto",
         "type": "bar",
         "x": [
          19.985
         ],
         "xaxis": "x",
         "y": [
          "Paraguay"
         ],
         "yaxis": "y"
        },
        {
         "alignmentgroup": "True",
         "hovertemplate": "País=%{y}<br>Año=2023<br>Tasa de Natalidad (por 1000 habitantes)=%{x}<extra></extra>",
         "legendgroup": "Peru",
         "marker": {
          "color": "#B6E880",
          "pattern": {
           "shape": ""
          }
         },
         "name": "Peru",
         "offsetgroup": "Peru",
         "orientation": "h",
         "showlegend": true,
         "textposition": "auto",
         "type": "bar",
         "x": [
          15.944
         ],
         "xaxis": "x",
         "y": [
          "Peru"
         ],
         "yaxis": "y"
        },
        {
         "alignmentgroup": "True",
         "hovertemplate": "País=%{y}<br>Año=2023<br>Tasa de Natalidad (por 1000 habitantes)=%{x}<extra></extra>",
         "legendgroup": "Uruguay",
         "marker": {
          "color": "#FF97FF",
          "pattern": {
           "shape": ""
          }
         },
         "name": "Uruguay",
         "offsetgroup": "Uruguay",
         "orientation": "h",
         "showlegend": true,
         "textposition": "auto",
         "type": "bar",
         "x": [
          9.871
         ],
         "xaxis": "x",
         "y": [
          "Uruguay"
         ],
         "yaxis": "y"
        }
       ],
       "frames": [
        {
         "data": [
          {
           "alignmentgroup": "True",
           "hovertemplate": "País=%{y}<br>Año=2018<br>Tasa de Natalidad (por 1000 habitantes)=%{x}<extra></extra>",
           "legendgroup": "Argentina",
           "marker": {
            "color": "#636efa",
            "pattern": {
             "shape": ""
            }
           },
           "name": "Argentina",
           "offsetgroup": "Argentina",
           "orientation": "h",
           "showlegend": true,
           "textposition": "auto",
           "type": "bar",
           "x": [
            15.332
           ],
           "xaxis": "x",
           "y": [
            "Argentina"
           ],
           "yaxis": "y"
          },
          {
           "alignmentgroup": "True",
           "hovertemplate": "País=%{y}<br>Año=2018<br>Tasa de Natalidad (por 1000 habitantes)=%{x}<extra></extra>",
           "legendgroup": "Bolivia",
           "marker": {
            "color": "#EF553B",
            "pattern": {
             "shape": ""
            }
           },
           "name": "Bolivia",
           "offsetgroup": "Bolivia",
           "orientation": "h",
           "showlegend": true,
           "textposition": "auto",
           "type": "bar",
           "x": [
            22.574
           ],
           "xaxis": "x",
           "y": [
            "Bolivia"
           ],
           "yaxis": "y"
          },
          {
           "alignmentgroup": "True",
           "hovertemplate": "País=%{y}<br>Año=2018<br>Tasa de Natalidad (por 1000 habitantes)=%{x}<extra></extra>",
           "legendgroup": "Brazil",
           "marker": {
            "color": "#00cc96",
            "pattern": {
             "shape": ""
            }
           },
           "name": "Brazil",
           "offsetgroup": "Brazil",
           "orientation": "h",
           "showlegend": true,
           "textposition": "auto",
           "type": "bar",
           "x": [
            14.022
           ],
           "xaxis": "x",
           "y": [
            "Brazil"
           ],
           "yaxis": "y"
          },
          {
           "alignmentgroup": "True",
           "hovertemplate": "País=%{y}<br>Año=2018<br>Tasa de Natalidad (por 1000 habitantes)=%{x}<extra></extra>",
           "legendgroup": "Chile",
           "marker": {
            "color": "#ab63fa",
            "pattern": {
             "shape": ""
            }
           },
           "name": "Chile",
           "offsetgroup": "Chile",
           "orientation": "h",
           "showlegend": true,
           "textposition": "auto",
           "type": "bar",
           "x": [
            11.698
           ],
           "xaxis": "x",
           "y": [
            "Chile"
           ],
           "yaxis": "y"
          },
          {
           "alignmentgroup": "True",
           "hovertemplate": "País=%{y}<br>Año=2018<br>Tasa de Natalidad (por 1000 habitantes)=%{x}<extra></extra>",
           "legendgroup": "Colombia",
           "marker": {
            "color": "#FFA15A",
            "pattern": {
             "shape": ""
            }
           },
           "name": "Colombia",
           "offsetgroup": "Colombia",
           "orientation": "h",
           "showlegend": true,
           "textposition": "auto",
           "type": "bar",
           "x": [
            14.195
           ],
           "xaxis": "x",
           "y": [
            "Colombia"
           ],
           "yaxis": "y"
          },
          {
           "alignmentgroup": "True",
           "hovertemplate": "País=%{y}<br>Año=2018<br>Tasa de Natalidad (por 1000 habitantes)=%{x}<extra></extra>",
           "legendgroup": "Ecuador",
           "marker": {
            "color": "#19d3f3",
            "pattern": {
             "shape": ""
            }
           },
           "name": "Ecuador",
           "offsetgroup": "Ecuador",
           "orientation": "h",
           "showlegend": true,
           "textposition": "auto",
           "type": "bar",
           "x": [
            17.523
           ],
           "xaxis": "x",
           "y": [
            "Ecuador"
           ],
           "yaxis": "y"
          },
          {
           "alignmentgroup": "True",
           "hovertemplate": "País=%{y}<br>Año=2018<br>Tasa de Natalidad (por 1000 habitantes)=%{x}<extra></extra>",
           "legendgroup": "Paraguay",
           "marker": {
            "color": "#FF6692",
            "pattern": {
             "shape": ""
            }
           },
           "name": "Paraguay",
           "offsetgroup": "Paraguay",
           "orientation": "h",
           "showlegend": true,
           "textposition": "auto",
           "type": "bar",
           "x": [
            21.836
           ],
           "xaxis": "x",
           "y": [
            "Paraguay"
           ],
           "yaxis": "y"
          },
          {
           "alignmentgroup": "True",
           "hovertemplate": "País=%{y}<br>Año=2018<br>Tasa de Natalidad (por 1000 habitantes)=%{x}<extra></extra>",
           "legendgroup": "Peru",
           "marker": {
            "color": "#B6E880",
            "pattern": {
             "shape": ""
            }
           },
           "name": "Peru",
           "offsetgroup": "Peru",
           "orientation": "h",
           "showlegend": true,
           "textposition": "auto",
           "type": "bar",
           "x": [
            16.93
           ],
           "xaxis": "x",
           "y": [
            "Peru"
           ],
           "yaxis": "y"
          },
          {
           "alignmentgroup": "True",
           "hovertemplate": "País=%{y}<br>Año=2018<br>Tasa de Natalidad (por 1000 habitantes)=%{x}<extra></extra>",
           "legendgroup": "Uruguay",
           "marker": {
            "color": "#FF97FF",
            "pattern": {
             "shape": ""
            }
           },
           "name": "Uruguay",
           "offsetgroup": "Uruguay",
           "orientation": "h",
           "showlegend": true,
           "textposition": "auto",
           "type": "bar",
           "x": [
            11.687
           ],
           "xaxis": "x",
           "y": [
            "Uruguay"
           ],
           "yaxis": "y"
          }
         ],
         "name": "2018"
        },
        {
         "data": [
          {
           "alignmentgroup": "True",
           "hovertemplate": "País=%{y}<br>Año=2019<br>Tasa de Natalidad (por 1000 habitantes)=%{x}<extra></extra>",
           "legendgroup": "Argentina",
           "marker": {
            "color": "#636efa",
            "pattern": {
             "shape": ""
            }
           },
           "name": "Argentina",
           "offsetgroup": "Argentina",
           "orientation": "h",
           "showlegend": true,
           "textposition": "auto",
           "type": "bar",
           "x": [
            13.902
           ],
           "xaxis": "x",
           "y": [
            "Argentina"
           ],
           "yaxis": "y"
          },
          {
           "alignmentgroup": "True",
           "hovertemplate": "País=%{y}<br>Año=2019<br>Tasa de Natalidad (por 1000 habitantes)=%{x}<extra></extra>",
           "legendgroup": "Bolivia",
           "marker": {
            "color": "#EF553B",
            "pattern": {
             "shape": ""
            }
           },
           "name": "Bolivia",
           "offsetgroup": "Bolivia",
           "orientation": "h",
           "showlegend": true,
           "textposition": "auto",
           "type": "bar",
           "x": [
            22.257
           ],
           "xaxis": "x",
           "y": [
            "Bolivia"
           ],
           "yaxis": "y"
          },
          {
           "alignmentgroup": "True",
           "hovertemplate": "País=%{y}<br>Año=2019<br>Tasa de Natalidad (por 1000 habitantes)=%{x}<extra></extra>",
           "legendgroup": "Brazil",
           "marker": {
            "color": "#00cc96",
            "pattern": {
             "shape": ""
            }
           },
           "name": "Brazil",
           "offsetgroup": "Brazil",
           "orientation": "h",
           "showlegend": true,
           "textposition": "auto",
           "type": "bar",
           "x": [
            13.548
           ],
           "xaxis": "x",
           "y": [
            "Brazil"
           ],
           "yaxis": "y"
          },
          {
           "alignmentgroup": "True",
           "hovertemplate": "País=%{y}<br>Año=2019<br>Tasa de Natalidad (por 1000 habitantes)=%{x}<extra></extra>",
           "legendgroup": "Chile",
           "marker": {
            "color": "#ab63fa",
            "pattern": {
             "shape": ""
            }
           },
           "name": "Chile",
           "offsetgroup": "Chile",
           "orientation": "h",
           "showlegend": true,
           "textposition": "auto",
           "type": "bar",
           "x": [
            10.94
           ],
           "xaxis": "x",
           "y": [
            "Chile"
           ],
           "yaxis": "y"
          },
          {
           "alignmentgroup": "True",
           "hovertemplate": "País=%{y}<br>Año=2019<br>Tasa de Natalidad (por 1000 habitantes)=%{x}<extra></extra>",
           "legendgroup": "Colombia",
           "marker": {
            "color": "#FFA15A",
            "pattern": {
             "shape": ""
            }
           },
           "name": "Colombia",
           "offsetgroup": "Colombia",
           "orientation": "h",
           "showlegend": true,
           "textposition": "auto",
           "type": "bar",
           "x": [
            14.218
           ],
           "xaxis": "x",
           "y": [
            "Colombia"
           ],
           "yaxis": "y"
          },
          {
           "alignmentgroup": "True",
           "hovertemplate": "País=%{y}<br>Año=2019<br>Tasa de Natalidad (por 1000 habitantes)=%{x}<extra></extra>",
           "legendgroup": "Ecuador",
           "marker": {
            "color": "#19d3f3",
            "pattern": {
             "shape": ""
            }
           },
           "name": "Ecuador",
           "offsetgroup": "Ecuador",
           "orientation": "h",
           "showlegend": true,
           "textposition": "auto",
           "type": "bar",
           "x": [
            16.924
           ],
           "xaxis": "x",
           "y": [
            "Ecuador"
           ],
           "yaxis": "y"
          },
          {
           "alignmentgroup": "True",
           "hovertemplate": "País=%{y}<br>Año=2019<br>Tasa de Natalidad (por 1000 habitantes)=%{x}<extra></extra>",
           "legendgroup": "Paraguay",
           "marker": {
            "color": "#FF6692",
            "pattern": {
             "shape": ""
            }
           },
           "name": "Paraguay",
           "offsetgroup": "Paraguay",
           "orientation": "h",
           "showlegend": true,
           "textposition": "auto",
           "type": "bar",
           "x": [
            21.421
           ],
           "xaxis": "x",
           "y": [
            "Paraguay"
           ],
           "yaxis": "y"
          },
          {
           "alignmentgroup": "True",
           "hovertemplate": "País=%{y}<br>Año=2019<br>Tasa de Natalidad (por 1000 habitantes)=%{x}<extra></extra>",
           "legendgroup": "Peru",
           "marker": {
            "color": "#B6E880",
            "pattern": {
             "shape": ""
            }
           },
           "name": "Peru",
           "offsetgroup": "Peru",
           "orientation": "h",
           "showlegend": true,
           "textposition": "auto",
           "type": "bar",
           "x": [
            16.853
           ],
           "xaxis": "x",
           "y": [
            "Peru"
           ],
           "yaxis": "y"
          },
          {
           "alignmentgroup": "True",
           "hovertemplate": "País=%{y}<br>Año=2019<br>Tasa de Natalidad (por 1000 habitantes)=%{x}<extra></extra>",
           "legendgroup": "Uruguay",
           "marker": {
            "color": "#FF97FF",
            "pattern": {
             "shape": ""
            }
           },
           "name": "Uruguay",
           "offsetgroup": "Uruguay",
           "orientation": "h",
           "showlegend": true,
           "textposition": "auto",
           "type": "bar",
           "x": [
            10.894
           ],
           "xaxis": "x",
           "y": [
            "Uruguay"
           ],
           "yaxis": "y"
          }
         ],
         "name": "2019"
        },
        {
         "data": [
          {
           "alignmentgroup": "True",
           "hovertemplate": "País=%{y}<br>Año=2020<br>Tasa de Natalidad (por 1000 habitantes)=%{x}<extra></extra>",
           "legendgroup": "Argentina",
           "marker": {
            "color": "#636efa",
            "pattern": {
             "shape": ""
            }
           },
           "name": "Argentina",
           "offsetgroup": "Argentina",
           "orientation": "h",
           "showlegend": true,
           "textposition": "auto",
           "type": "bar",
           "x": [
            11.799
           ],
           "xaxis": "x",
           "y": [
            "Argentina"
           ],
           "yaxis": "y"
          },
          {
           "alignmentgroup": "True",
           "hovertemplate": "País=%{y}<br>Año=2020<br>Tasa de Natalidad (por 1000 habitantes)=%{x}<extra></extra>",
           "legendgroup": "Bolivia",
           "marker": {
            "color": "#EF553B",
            "pattern": {
             "shape": ""
            }
           },
           "name": "Bolivia",
           "offsetgroup": "Bolivia",
           "orientation": "h",
           "showlegend": true,
           "textposition": "auto",
           "type": "bar",
           "x": [
            21.996
           ],
           "xaxis": "x",
           "y": [
            "Bolivia"
           ],
           "yaxis": "y"
          },
          {
           "alignmentgroup": "True",
           "hovertemplate": "País=%{y}<br>Año=2020<br>Tasa de Natalidad (por 1000 habitantes)=%{x}<extra></extra>",
           "legendgroup": "Brazil",
           "marker": {
            "color": "#00cc96",
            "pattern": {
             "shape": ""
            }
           },
           "name": "Brazil",
           "offsetgroup": "Brazil",
           "orientation": "h",
           "showlegend": true,
           "textposition": "auto",
           "type": "bar",
           "x": [
            12.995
           ],
           "xaxis": "x",
           "y": [
            "Brazil"
           ],
           "yaxis": "y"
          },
          {
           "alignmentgroup": "True",
           "hovertemplate": "País=%{y}<br>Año=2020<br>Tasa de Natalidad (por 1000 habitantes)=%{x}<extra></extra>",
           "legendgroup": "Chile",
           "marker": {
            "color": "#ab63fa",
            "pattern": {
             "shape": ""
            }
           },
           "name": "Chile",
           "offsetgroup": "Chile",
           "orientation": "h",
           "showlegend": true,
           "textposition": "auto",
           "type": "bar",
           "x": [
            10.097
           ],
           "xaxis": "x",
           "y": [
            "Chile"
           ],
           "yaxis": "y"
          },
          {
           "alignmentgroup": "True",
           "hovertemplate": "País=%{y}<br>Año=2020<br>Tasa de Natalidad (por 1000 habitantes)=%{x}<extra></extra>",
           "legendgroup": "Colombia",
           "marker": {
            "color": "#FFA15A",
            "pattern": {
             "shape": ""
            }
           },
           "name": "Colombia",
           "offsetgroup": "Colombia",
           "orientation": "h",
           "showlegend": true,
           "textposition": "auto",
           "type": "bar",
           "x": [
            14.106
           ],
           "xaxis": "x",
           "y": [
            "Colombia"
           ],
           "yaxis": "y"
          },
          {
           "alignmentgroup": "True",
           "hovertemplate": "País=%{y}<br>Año=2020<br>Tasa de Natalidad (por 1000 habitantes)=%{x}<extra></extra>",
           "legendgroup": "Ecuador",
           "marker": {
            "color": "#19d3f3",
            "pattern": {
             "shape": ""
            }
           },
           "name": "Ecuador",
           "offsetgroup": "Ecuador",
           "orientation": "h",
           "showlegend": true,
           "textposition": "auto",
           "type": "bar",
           "x": [
            16.391
           ],
           "xaxis": "x",
           "y": [
            "Ecuador"
           ],
           "yaxis": "y"
          },
          {
           "alignmentgroup": "True",
           "hovertemplate": "País=%{y}<br>Año=2020<br>Tasa de Natalidad (por 1000 habitantes)=%{x}<extra></extra>",
           "legendgroup": "Paraguay",
           "marker": {
            "color": "#FF6692",
            "pattern": {
             "shape": ""
            }
           },
           "name": "Paraguay",
           "offsetgroup": "Paraguay",
           "orientation": "h",
           "showlegend": true,
           "textposition": "auto",
           "type": "bar",
           "x": [
            21.036
           ],
           "xaxis": "x",
           "y": [
            "Paraguay"
           ],
           "yaxis": "y"
          },
          {
           "alignmentgroup": "True",
           "hovertemplate": "País=%{y}<br>Año=2020<br>Tasa de Natalidad (por 1000 habitantes)=%{x}<extra></extra>",
           "legendgroup": "Peru",
           "marker": {
            "color": "#B6E880",
            "pattern": {
             "shape": ""
            }
           },
           "name": "Peru",
           "offsetgroup": "Peru",
           "orientation": "h",
           "showlegend": true,
           "textposition": "auto",
           "type": "bar",
           "x": [
            16.61
           ],
           "xaxis": "x",
           "y": [
            "Peru"
           ],
           "yaxis": "y"
          },
          {
           "alignmentgroup": "True",
           "hovertemplate": "País=%{y}<br>Año=2020<br>Tasa de Natalidad (por 1000 habitantes)=%{x}<extra></extra>",
           "legendgroup": "Uruguay",
           "marker": {
            "color": "#FF97FF",
            "pattern": {
             "shape": ""
            }
           },
           "name": "Uruguay",
           "offsetgroup": "Uruguay",
           "orientation": "h",
           "showlegend": true,
           "textposition": "auto",
           "type": "bar",
           "x": [
            10.41
           ],
           "xaxis": "x",
           "y": [
            "Uruguay"
           ],
           "yaxis": "y"
          }
         ],
         "name": "2020"
        },
        {
         "data": [
          {
           "alignmentgroup": "True",
           "hovertemplate": "País=%{y}<br>Año=2021<br>Tasa de Natalidad (por 1000 habitantes)=%{x}<extra></extra>",
           "legendgroup": "Argentina",
           "marker": {
            "color": "#636efa",
            "pattern": {
             "shape": ""
            }
           },
           "name": "Argentina",
           "offsetgroup": "Argentina",
           "orientation": "h",
           "showlegend": true,
           "textposition": "auto",
           "type": "bar",
           "x": [
            11.682
           ],
           "xaxis": "x",
           "y": [
            "Argentina"
           ],
           "yaxis": "y"
          },
          {
           "alignmentgroup": "True",
           "hovertemplate": "País=%{y}<br>Año=2021<br>Tasa de Natalidad (por 1000 habitantes)=%{x}<extra></extra>",
           "legendgroup": "Bolivia",
           "marker": {
            "color": "#EF553B",
            "pattern": {
             "shape": ""
            }
           },
           "name": "Bolivia",
           "offsetgroup": "Bolivia",
           "orientation": "h",
           "showlegend": true,
           "textposition": "auto",
           "type": "bar",
           "x": [
            21.808
           ],
           "xaxis": "x",
           "y": [
            "Bolivia"
           ],
           "yaxis": "y"
          },
          {
           "alignmentgroup": "True",
           "hovertemplate": "País=%{y}<br>Año=2021<br>Tasa de Natalidad (por 1000 habitantes)=%{x}<extra></extra>",
           "legendgroup": "Brazil",
           "marker": {
            "color": "#00cc96",
            "pattern": {
             "shape": ""
            }
           },
           "name": "Brazil",
           "offsetgroup": "Brazil",
           "orientation": "h",
           "showlegend": true,
           "textposition": "auto",
           "type": "bar",
           "x": [
            12.754
           ],
           "xaxis": "x",
           "y": [
            "Brazil"
           ],
           "yaxis": "y"
          },
          {
           "alignmentgroup": "True",
           "hovertemplate": "País=%{y}<br>Año=2021<br>Tasa de Natalidad (por 1000 habitantes)=%{x}<extra></extra>",
           "legendgroup": "Chile",
           "marker": {
            "color": "#ab63fa",
            "pattern": {
             "shape": ""
            }
           },
           "name": "Chile",
           "offsetgroup": "Chile",
           "orientation": "h",
           "showlegend": true,
           "textposition": "auto",
           "type": "bar",
           "x": [
            9.07
           ],
           "xaxis": "x",
           "y": [
            "Chile"
           ],
           "yaxis": "y"
          },
          {
           "alignmentgroup": "True",
           "hovertemplate": "País=%{y}<br>Año=2021<br>Tasa de Natalidad (por 1000 habitantes)=%{x}<extra></extra>",
           "legendgroup": "Colombia",
           "marker": {
            "color": "#FFA15A",
            "pattern": {
             "shape": ""
            }
           },
           "name": "Colombia",
           "offsetgroup": "Colombia",
           "orientation": "h",
           "showlegend": true,
           "textposition": "auto",
           "type": "bar",
           "x": [
            13.947
           ],
           "xaxis": "x",
           "y": [
            "Colombia"
           ],
           "yaxis": "y"
          },
          {
           "alignmentgroup": "True",
           "hovertemplate": "País=%{y}<br>Año=2021<br>Tasa de Natalidad (por 1000 habitantes)=%{x}<extra></extra>",
           "legendgroup": "Ecuador",
           "marker": {
            "color": "#19d3f3",
            "pattern": {
             "shape": ""
            }
           },
           "name": "Ecuador",
           "offsetgroup": "Ecuador",
           "orientation": "h",
           "showlegend": true,
           "textposition": "auto",
           "type": "bar",
           "x": [
            15.882
           ],
           "xaxis": "x",
           "y": [
            "Ecuador"
           ],
           "yaxis": "y"
          },
          {
           "alignmentgroup": "True",
           "hovertemplate": "País=%{y}<br>Año=2021<br>Tasa de Natalidad (por 1000 habitantes)=%{x}<extra></extra>",
           "legendgroup": "Paraguay",
           "marker": {
            "color": "#FF6692",
            "pattern": {
             "shape": ""
            }
           },
           "name": "Paraguay",
           "offsetgroup": "Paraguay",
           "orientation": "h",
           "showlegend": true,
           "textposition": "auto",
           "type": "bar",
           "x": [
            20.689
           ],
           "xaxis": "x",
           "y": [
            "Paraguay"
           ],
           "yaxis": "y"
          },
          {
           "alignmentgroup": "True",
           "hovertemplate": "País=%{y}<br>Año=2021<br>Tasa de Natalidad (por 1000 habitantes)=%{x}<extra></extra>",
           "legendgroup": "Peru",
           "marker": {
            "color": "#B6E880",
            "pattern": {
             "shape": ""
            }
           },
           "name": "Peru",
           "offsetgroup": "Peru",
           "orientation": "h",
           "showlegend": true,
           "textposition": "auto",
           "type": "bar",
           "x": [
            16.398
           ],
           "xaxis": "x",
           "y": [
            "Peru"
           ],
           "yaxis": "y"
          },
          {
           "alignmentgroup": "True",
           "hovertemplate": "País=%{y}<br>Año=2021<br>Tasa de Natalidad (por 1000 habitantes)=%{x}<extra></extra>",
           "legendgroup": "Uruguay",
           "marker": {
            "color": "#FF97FF",
            "pattern": {
             "shape": ""
            }
           },
           "name": "Uruguay",
           "offsetgroup": "Uruguay",
           "orientation": "h",
           "showlegend": true,
           "textposition": "auto",
           "type": "bar",
           "x": [
            10.071
           ],
           "xaxis": "x",
           "y": [
            "Uruguay"
           ],
           "yaxis": "y"
          }
         ],
         "name": "2021"
        },
        {
         "data": [
          {
           "alignmentgroup": "True",
           "hovertemplate": "País=%{y}<br>Año=2022<br>Tasa de Natalidad (por 1000 habitantes)=%{x}<extra></extra>",
           "legendgroup": "Argentina",
           "marker": {
            "color": "#636efa",
            "pattern": {
             "shape": ""
            }
           },
           "name": "Argentina",
           "offsetgroup": "Argentina",
           "orientation": "h",
           "showlegend": true,
           "textposition": "auto",
           "type": "bar",
           "x": [
            10.926
           ],
           "xaxis": "x",
           "y": [
            "Argentina"
           ],
           "yaxis": "y"
          },
          {
           "alignmentgroup": "True",
           "hovertemplate": "País=%{y}<br>Año=2022<br>Tasa de Natalidad (por 1000 habitantes)=%{x}<extra></extra>",
           "legendgroup": "Bolivia",
           "marker": {
            "color": "#EF553B",
            "pattern": {
             "shape": ""
            }
           },
           "name": "Bolivia",
           "offsetgroup": "Bolivia",
           "orientation": "h",
           "showlegend": true,
           "textposition": "auto",
           "type": "bar",
           "x": [
            21.566
           ],
           "xaxis": "x",
           "y": [
            "Bolivia"
           ],
           "yaxis": "y"
          },
          {
           "alignmentgroup": "True",
           "hovertemplate": "País=%{y}<br>Año=2022<br>Tasa de Natalidad (por 1000 habitantes)=%{x}<extra></extra>",
           "legendgroup": "Brazil",
           "marker": {
            "color": "#00cc96",
            "pattern": {
             "shape": ""
            }
           },
           "name": "Brazil",
           "offsetgroup": "Brazil",
           "orientation": "h",
           "showlegend": true,
           "textposition": "auto",
           "type": "bar",
           "x": [
            12.555
           ],
           "xaxis": "x",
           "y": [
            "Brazil"
           ],
           "yaxis": "y"
          },
          {
           "alignmentgroup": "True",
           "hovertemplate": "País=%{y}<br>Año=2022<br>Tasa de Natalidad (por 1000 habitantes)=%{x}<extra></extra>",
           "legendgroup": "Chile",
           "marker": {
            "color": "#ab63fa",
            "pattern": {
             "shape": ""
            }
           },
           "name": "Chile",
           "offsetgroup": "Chile",
           "orientation": "h",
           "showlegend": true,
           "textposition": "auto",
           "type": "bar",
           "x": [
            9.672
           ],
           "xaxis": "x",
           "y": [
            "Chile"
           ],
           "yaxis": "y"
          },
          {
           "alignmentgroup": "True",
           "hovertemplate": "País=%{y}<br>Año=2022<br>Tasa de Natalidad (por 1000 habitantes)=%{x}<extra></extra>",
           "legendgroup": "Colombia",
           "marker": {
            "color": "#FFA15A",
            "pattern": {
             "shape": ""
            }
           },
           "name": "Colombia",
           "offsetgroup": "Colombia",
           "orientation": "h",
           "showlegend": true,
           "textposition": "auto",
           "type": "bar",
           "x": [
            13.731
           ],
           "xaxis": "x",
           "y": [
            "Colombia"
           ],
           "yaxis": "y"
          },
          {
           "alignmentgroup": "True",
           "hovertemplate": "País=%{y}<br>Año=2022<br>Tasa de Natalidad (por 1000 habitantes)=%{x}<extra></extra>",
           "legendgroup": "Ecuador",
           "marker": {
            "color": "#19d3f3",
            "pattern": {
             "shape": ""
            }
           },
           "name": "Ecuador",
           "offsetgroup": "Ecuador",
           "orientation": "h",
           "showlegend": true,
           "textposition": "auto",
           "type": "bar",
           "x": [
            15.423
           ],
           "xaxis": "x",
           "y": [
            "Ecuador"
           ],
           "yaxis": "y"
          },
          {
           "alignmentgroup": "True",
           "hovertemplate": "País=%{y}<br>Año=2022<br>Tasa de Natalidad (por 1000 habitantes)=%{x}<extra></extra>",
           "legendgroup": "Paraguay",
           "marker": {
            "color": "#FF6692",
            "pattern": {
             "shape": ""
            }
           },
           "name": "Paraguay",
           "offsetgroup": "Paraguay",
           "orientation": "h",
           "showlegend": true,
           "textposition": "auto",
           "type": "bar",
           "x": [
            20.356
           ],
           "xaxis": "x",
           "y": [
            "Paraguay"
           ],
           "yaxis": "y"
          },
          {
           "alignmentgroup": "True",
           "hovertemplate": "País=%{y}<br>Año=2022<br>Tasa de Natalidad (por 1000 habitantes)=%{x}<extra></extra>",
           "legendgroup": "Peru",
           "marker": {
            "color": "#B6E880",
            "pattern": {
             "shape": ""
            }
           },
           "name": "Peru",
           "offsetgroup": "Peru",
           "orientation": "h",
           "showlegend": true,
           "textposition": "auto",
           "type": "bar",
           "x": [
            16.183
           ],
           "xaxis": "x",
           "y": [
            "Peru"
           ],
           "yaxis": "y"
          },
          {
           "alignmentgroup": "True",
           "hovertemplate": "País=%{y}<br>Año=2022<br>Tasa de Natalidad (por 1000 habitantes)=%{x}<extra></extra>",
           "legendgroup": "Uruguay",
           "marker": {
            "color": "#FF97FF",
            "pattern": {
             "shape": ""
            }
           },
           "name": "Uruguay",
           "offsetgroup": "Uruguay",
           "orientation": "h",
           "showlegend": true,
           "textposition": "auto",
           "type": "bar",
           "x": [
            9.958
           ],
           "xaxis": "x",
           "y": [
            "Uruguay"
           ],
           "yaxis": "y"
          }
         ],
         "name": "2022"
        },
        {
         "data": [
          {
           "alignmentgroup": "True",
           "hovertemplate": "País=%{y}<br>Año=2023<br>Tasa de Natalidad (por 1000 habitantes)=%{x}<extra></extra>",
           "legendgroup": "Argentina",
           "marker": {
            "color": "#636efa",
            "pattern": {
             "shape": ""
            }
           },
           "name": "Argentina",
           "offsetgroup": "Argentina",
           "orientation": "h",
           "showlegend": true,
           "textposition": "auto",
           "type": "bar",
           "x": [
            11.064
           ],
           "xaxis": "x",
           "y": [
            "Argentina"
           ],
           "yaxis": "y"
          },
          {
           "alignmentgroup": "True",
           "hovertemplate": "País=%{y}<br>Año=2023<br>Tasa de Natalidad (por 1000 habitantes)=%{x}<extra></extra>",
           "legendgroup": "Bolivia",
           "marker": {
            "color": "#EF553B",
            "pattern": {
             "shape": ""
            }
           },
           "name": "Bolivia",
           "offsetgroup": "Bolivia",
           "orientation": "h",
           "showlegend": true,
           "textposition": "auto",
           "type": "bar",
           "x": [
            21.247
           ],
           "xaxis": "x",
           "y": [
            "Bolivia"
           ],
           "yaxis": "y"
          },
          {
           "alignmentgroup": "True",
           "hovertemplate": "País=%{y}<br>Año=2023<br>Tasa de Natalidad (por 1000 habitantes)=%{x}<extra></extra>",
           "legendgroup": "Brazil",
           "marker": {
            "color": "#00cc96",
            "pattern": {
             "shape": ""
            }
           },
           "name": "Brazil",
           "offsetgroup": "Brazil",
           "orientation": "h",
           "showlegend": true,
           "textposition": "auto",
           "type": "bar",
           "x": [
            12.322
           ],
           "xaxis": "x",
           "y": [
            "Brazil"
           ],
           "yaxis": "y"
          },
          {
           "alignmentgroup": "True",
           "hovertemplate": "País=%{y}<br>Año=2023<br>Tasa de Natalidad (por 1000 habitantes)=%{x}<extra></extra>",
           "legendgroup": "Chile",
           "marker": {
            "color": "#ab63fa",
            "pattern": {
             "shape": ""
            }
           },
           "name": "Chile",
           "offsetgroup": "Chile",
           "orientation": "h",
           "showlegend": true,
           "textposition": "auto",
           "type": "bar",
           "x": [
            8.963
           ],
           "xaxis": "x",
           "y": [
            "Chile"
           ],
           "yaxis": "y"
          },
          {
           "alignmentgroup": "True",
           "hovertemplate": "País=%{y}<br>Año=2023<br>Tasa de Natalidad (por 1000 habitantes)=%{x}<extra></extra>",
           "legendgroup": "Colombia",
           "marker": {
            "color": "#FFA15A",
            "pattern": {
             "shape": ""
            }
           },
           "name": "Colombia",
           "offsetgroup": "Colombia",
           "orientation": "h",
           "showlegend": true,
           "textposition": "auto",
           "type": "bar",
           "x": [
            13.475
           ],
           "xaxis": "x",
           "y": [
            "Colombia"
           ],
           "yaxis": "y"
          },
          {
           "alignmentgroup": "True",
           "hovertemplate": "País=%{y}<br>Año=2023<br>Tasa de Natalidad (por 1000 habitantes)=%{x}<extra></extra>",
           "legendgroup": "Ecuador",
           "marker": {
            "color": "#19d3f3",
            "pattern": {
             "shape": ""
            }
           },
           "name": "Ecuador",
           "offsetgroup": "Ecuador",
           "orientation": "h",
           "showlegend": true,
           "textposition": "auto",
           "type": "bar",
           "x": [
            15.033
           ],
           "xaxis": "x",
           "y": [
            "Ecuador"
           ],
           "yaxis": "y"
          },
          {
           "alignmentgroup": "True",
           "hovertemplate": "País=%{y}<br>Año=2023<br>Tasa de Natalidad (por 1000 habitantes)=%{x}<extra></extra>",
           "legendgroup": "Paraguay",
           "marker": {
            "color": "#FF6692",
            "pattern": {
             "shape": ""
            }
           },
           "name": "Paraguay",
           "offsetgroup": "Paraguay",
           "orientation": "h",
           "showlegend": true,
           "textposition": "auto",
           "type": "bar",
           "x": [
            19.985
           ],
           "xaxis": "x",
           "y": [
            "Paraguay"
           ],
           "yaxis": "y"
          },
          {
           "alignmentgroup": "True",
           "hovertemplate": "País=%{y}<br>Año=2023<br>Tasa de Natalidad (por 1000 habitantes)=%{x}<extra></extra>",
           "legendgroup": "Peru",
           "marker": {
            "color": "#B6E880",
            "pattern": {
             "shape": ""
            }
           },
           "name": "Peru",
           "offsetgroup": "Peru",
           "orientation": "h",
           "showlegend": true,
           "textposition": "auto",
           "type": "bar",
           "x": [
            15.944
           ],
           "xaxis": "x",
           "y": [
            "Peru"
           ],
           "yaxis": "y"
          },
          {
           "alignmentgroup": "True",
           "hovertemplate": "País=%{y}<br>Año=2023<br>Tasa de Natalidad (por 1000 habitantes)=%{x}<extra></extra>",
           "legendgroup": "Uruguay",
           "marker": {
            "color": "#FF97FF",
            "pattern": {
             "shape": ""
            }
           },
           "name": "Uruguay",
           "offsetgroup": "Uruguay",
           "orientation": "h",
           "showlegend": true,
           "textposition": "auto",
           "type": "bar",
           "x": [
            9.871
           ],
           "xaxis": "x",
           "y": [
            "Uruguay"
           ],
           "yaxis": "y"
          }
         ],
         "name": "2023"
        }
       ],
       "layout": {
        "barmode": "relative",
        "height": 500,
        "legend": {
         "title": {
          "text": "País"
         },
         "tracegroupgap": 0
        },
        "sliders": [
         {
          "active": 5,
          "currentvalue": {
           "prefix": "Año="
          },
          "len": 0.9,
          "pad": {
           "b": 10,
           "t": 60
          },
          "steps": [
           {
            "args": [
             [
              "2018"
             ],
             {
              "frame": {
               "duration": 0,
               "redraw": true
              },
              "fromcurrent": true,
              "mode": "immediate",
              "transition": {
               "duration": 0,
               "easing": "linear"
              }
             }
            ],
            "label": "2018",
            "method": "animate"
           },
           {
            "args": [
             [
              "2019"
             ],
             {
              "frame": {
               "duration": 0,
               "redraw": true
              },
              "fromcurrent": true,
              "mode": "immediate",
              "transition": {
               "duration": 0,
               "easing": "linear"
              }
             }
            ],
            "label": "2019",
            "method": "animate"
           },
           {
            "args": [
             [
              "2020"
             ],
             {
              "frame": {
               "duration": 0,
               "redraw": true
              },
              "fromcurrent": true,
              "mode": "immediate",
              "transition": {
               "duration": 0,
               "easing": "linear"
              }
             }
            ],
            "label": "2020",
            "method": "animate"
           },
           {
            "args": [
             [
              "2021"
             ],
             {
              "frame": {
               "duration": 0,
               "redraw": true
              },
              "fromcurrent": true,
              "mode": "immediate",
              "transition": {
               "duration": 0,
               "easing": "linear"
              }
             }
            ],
            "label": "2021",
            "method": "animate"
           },
           {
            "args": [
             [
              "2022"
             ],
             {
              "frame": {
               "duration": 0,
               "redraw": true
              },
              "fromcurrent": true,
              "mode": "immediate",
              "transition": {
               "duration": 0,
               "easing": "linear"
              }
             }
            ],
            "label": "2022",
            "method": "animate"
           },
           {
            "args": [
             [
              "2023"
             ],
             {
              "frame": {
               "duration": 0,
               "redraw": true
              },
              "fromcurrent": true,
              "mode": "immediate",
              "transition": {
               "duration": 0,
               "easing": "linear"
              }
             }
            ],
            "label": "2023",
            "method": "animate"
           }
          ],
          "x": 0.1,
          "xanchor": "left",
          "y": 0,
          "yanchor": "top"
         }
        ],
        "template": {
         "data": {
          "bar": [
           {
            "error_x": {
             "color": "#2a3f5f"
            },
            "error_y": {
             "color": "#2a3f5f"
            },
            "marker": {
             "line": {
              "color": "white",
              "width": 0.5
             },
             "pattern": {
              "fillmode": "overlay",
              "size": 10,
              "solidity": 0.2
             }
            },
            "type": "bar"
           }
          ],
          "barpolar": [
           {
            "marker": {
             "line": {
              "color": "white",
              "width": 0.5
             },
             "pattern": {
              "fillmode": "overlay",
              "size": 10,
              "solidity": 0.2
             }
            },
            "type": "barpolar"
           }
          ],
          "carpet": [
           {
            "aaxis": {
             "endlinecolor": "#2a3f5f",
             "gridcolor": "#C8D4E3",
             "linecolor": "#C8D4E3",
             "minorgridcolor": "#C8D4E3",
             "startlinecolor": "#2a3f5f"
            },
            "baxis": {
             "endlinecolor": "#2a3f5f",
             "gridcolor": "#C8D4E3",
             "linecolor": "#C8D4E3",
             "minorgridcolor": "#C8D4E3",
             "startlinecolor": "#2a3f5f"
            },
            "type": "carpet"
           }
          ],
          "choropleth": [
           {
            "colorbar": {
             "outlinewidth": 0,
             "ticks": ""
            },
            "type": "choropleth"
           }
          ],
          "contour": [
           {
            "colorbar": {
             "outlinewidth": 0,
             "ticks": ""
            },
            "colorscale": [
             [
              0,
              "#0d0887"
             ],
             [
              0.1111111111111111,
              "#46039f"
             ],
             [
              0.2222222222222222,
              "#7201a8"
             ],
             [
              0.3333333333333333,
              "#9c179e"
             ],
             [
              0.4444444444444444,
              "#bd3786"
             ],
             [
              0.5555555555555556,
              "#d8576b"
             ],
             [
              0.6666666666666666,
              "#ed7953"
             ],
             [
              0.7777777777777778,
              "#fb9f3a"
             ],
             [
              0.8888888888888888,
              "#fdca26"
             ],
             [
              1,
              "#f0f921"
             ]
            ],
            "type": "contour"
           }
          ],
          "contourcarpet": [
           {
            "colorbar": {
             "outlinewidth": 0,
             "ticks": ""
            },
            "type": "contourcarpet"
           }
          ],
          "heatmap": [
           {
            "colorbar": {
             "outlinewidth": 0,
             "ticks": ""
            },
            "colorscale": [
             [
              0,
              "#0d0887"
             ],
             [
              0.1111111111111111,
              "#46039f"
             ],
             [
              0.2222222222222222,
              "#7201a8"
             ],
             [
              0.3333333333333333,
              "#9c179e"
             ],
             [
              0.4444444444444444,
              "#bd3786"
             ],
             [
              0.5555555555555556,
              "#d8576b"
             ],
             [
              0.6666666666666666,
              "#ed7953"
             ],
             [
              0.7777777777777778,
              "#fb9f3a"
             ],
             [
              0.8888888888888888,
              "#fdca26"
             ],
             [
              1,
              "#f0f921"
             ]
            ],
            "type": "heatmap"
           }
          ],
          "heatmapgl": [
           {
            "colorbar": {
             "outlinewidth": 0,
             "ticks": ""
            },
            "colorscale": [
             [
              0,
              "#0d0887"
             ],
             [
              0.1111111111111111,
              "#46039f"
             ],
             [
              0.2222222222222222,
              "#7201a8"
             ],
             [
              0.3333333333333333,
              "#9c179e"
             ],
             [
              0.4444444444444444,
              "#bd3786"
             ],
             [
              0.5555555555555556,
              "#d8576b"
             ],
             [
              0.6666666666666666,
              "#ed7953"
             ],
             [
              0.7777777777777778,
              "#fb9f3a"
             ],
             [
              0.8888888888888888,
              "#fdca26"
             ],
             [
              1,
              "#f0f921"
             ]
            ],
            "type": "heatmapgl"
           }
          ],
          "histogram": [
           {
            "marker": {
             "pattern": {
              "fillmode": "overlay",
              "size": 10,
              "solidity": 0.2
             }
            },
            "type": "histogram"
           }
          ],
          "histogram2d": [
           {
            "colorbar": {
             "outlinewidth": 0,
             "ticks": ""
            },
            "colorscale": [
             [
              0,
              "#0d0887"
             ],
             [
              0.1111111111111111,
              "#46039f"
             ],
             [
              0.2222222222222222,
              "#7201a8"
             ],
             [
              0.3333333333333333,
              "#9c179e"
             ],
             [
              0.4444444444444444,
              "#bd3786"
             ],
             [
              0.5555555555555556,
              "#d8576b"
             ],
             [
              0.6666666666666666,
              "#ed7953"
             ],
             [
              0.7777777777777778,
              "#fb9f3a"
             ],
             [
              0.8888888888888888,
              "#fdca26"
             ],
             [
              1,
              "#f0f921"
             ]
            ],
            "type": "histogram2d"
           }
          ],
          "histogram2dcontour": [
           {
            "colorbar": {
             "outlinewidth": 0,
             "ticks": ""
            },
            "colorscale": [
             [
              0,
              "#0d0887"
             ],
             [
              0.1111111111111111,
              "#46039f"
             ],
             [
              0.2222222222222222,
              "#7201a8"
             ],
             [
              0.3333333333333333,
              "#9c179e"
             ],
             [
              0.4444444444444444,
              "#bd3786"
             ],
             [
              0.5555555555555556,
              "#d8576b"
             ],
             [
              0.6666666666666666,
              "#ed7953"
             ],
             [
              0.7777777777777778,
              "#fb9f3a"
             ],
             [
              0.8888888888888888,
              "#fdca26"
             ],
             [
              1,
              "#f0f921"
             ]
            ],
            "type": "histogram2dcontour"
           }
          ],
          "mesh3d": [
           {
            "colorbar": {
             "outlinewidth": 0,
             "ticks": ""
            },
            "type": "mesh3d"
           }
          ],
          "parcoords": [
           {
            "line": {
             "colorbar": {
              "outlinewidth": 0,
              "ticks": ""
             }
            },
            "type": "parcoords"
           }
          ],
          "pie": [
           {
            "automargin": true,
            "type": "pie"
           }
          ],
          "scatter": [
           {
            "fillpattern": {
             "fillmode": "overlay",
             "size": 10,
             "solidity": 0.2
            },
            "type": "scatter"
           }
          ],
          "scatter3d": [
           {
            "line": {
             "colorbar": {
              "outlinewidth": 0,
              "ticks": ""
             }
            },
            "marker": {
             "colorbar": {
              "outlinewidth": 0,
              "ticks": ""
             }
            },
            "type": "scatter3d"
           }
          ],
          "scattercarpet": [
           {
            "marker": {
             "colorbar": {
              "outlinewidth": 0,
              "ticks": ""
             }
            },
            "type": "scattercarpet"
           }
          ],
          "scattergeo": [
           {
            "marker": {
             "colorbar": {
              "outlinewidth": 0,
              "ticks": ""
             }
            },
            "type": "scattergeo"
           }
          ],
          "scattergl": [
           {
            "marker": {
             "colorbar": {
              "outlinewidth": 0,
              "ticks": ""
             }
            },
            "type": "scattergl"
           }
          ],
          "scattermapbox": [
           {
            "marker": {
             "colorbar": {
              "outlinewidth": 0,
              "ticks": ""
             }
            },
            "type": "scattermapbox"
           }
          ],
          "scatterpolar": [
           {
            "marker": {
             "colorbar": {
              "outlinewidth": 0,
              "ticks": ""
             }
            },
            "type": "scatterpolar"
           }
          ],
          "scatterpolargl": [
           {
            "marker": {
             "colorbar": {
              "outlinewidth": 0,
              "ticks": ""
             }
            },
            "type": "scatterpolargl"
           }
          ],
          "scatterternary": [
           {
            "marker": {
             "colorbar": {
              "outlinewidth": 0,
              "ticks": ""
             }
            },
            "type": "scatterternary"
           }
          ],
          "surface": [
           {
            "colorbar": {
             "outlinewidth": 0,
             "ticks": ""
            },
            "colorscale": [
             [
              0,
              "#0d0887"
             ],
             [
              0.1111111111111111,
              "#46039f"
             ],
             [
              0.2222222222222222,
              "#7201a8"
             ],
             [
              0.3333333333333333,
              "#9c179e"
             ],
             [
              0.4444444444444444,
              "#bd3786"
             ],
             [
              0.5555555555555556,
              "#d8576b"
             ],
             [
              0.6666666666666666,
              "#ed7953"
             ],
             [
              0.7777777777777778,
              "#fb9f3a"
             ],
             [
              0.8888888888888888,
              "#fdca26"
             ],
             [
              1,
              "#f0f921"
             ]
            ],
            "type": "surface"
           }
          ],
          "table": [
           {
            "cells": {
             "fill": {
              "color": "#EBF0F8"
             },
             "line": {
              "color": "white"
             }
            },
            "header": {
             "fill": {
              "color": "#C8D4E3"
             },
             "line": {
              "color": "white"
             }
            },
            "type": "table"
           }
          ]
         },
         "layout": {
          "annotationdefaults": {
           "arrowcolor": "#2a3f5f",
           "arrowhead": 0,
           "arrowwidth": 1
          },
          "autotypenumbers": "strict",
          "coloraxis": {
           "colorbar": {
            "outlinewidth": 0,
            "ticks": ""
           }
          },
          "colorscale": {
           "diverging": [
            [
             0,
             "#8e0152"
            ],
            [
             0.1,
             "#c51b7d"
            ],
            [
             0.2,
             "#de77ae"
            ],
            [
             0.3,
             "#f1b6da"
            ],
            [
             0.4,
             "#fde0ef"
            ],
            [
             0.5,
             "#f7f7f7"
            ],
            [
             0.6,
             "#e6f5d0"
            ],
            [
             0.7,
             "#b8e186"
            ],
            [
             0.8,
             "#7fbc41"
            ],
            [
             0.9,
             "#4d9221"
            ],
            [
             1,
             "#276419"
            ]
           ],
           "sequential": [
            [
             0,
             "#0d0887"
            ],
            [
             0.1111111111111111,
             "#46039f"
            ],
            [
             0.2222222222222222,
             "#7201a8"
            ],
            [
             0.3333333333333333,
             "#9c179e"
            ],
            [
             0.4444444444444444,
             "#bd3786"
            ],
            [
             0.5555555555555556,
             "#d8576b"
            ],
            [
             0.6666666666666666,
             "#ed7953"
            ],
            [
             0.7777777777777778,
             "#fb9f3a"
            ],
            [
             0.8888888888888888,
             "#fdca26"
            ],
            [
             1,
             "#f0f921"
            ]
           ],
           "sequentialminus": [
            [
             0,
             "#0d0887"
            ],
            [
             0.1111111111111111,
             "#46039f"
            ],
            [
             0.2222222222222222,
             "#7201a8"
            ],
            [
             0.3333333333333333,
             "#9c179e"
            ],
            [
             0.4444444444444444,
             "#bd3786"
            ],
            [
             0.5555555555555556,
             "#d8576b"
            ],
            [
             0.6666666666666666,
             "#ed7953"
            ],
            [
             0.7777777777777778,
             "#fb9f3a"
            ],
            [
             0.8888888888888888,
             "#fdca26"
            ],
            [
             1,
             "#f0f921"
            ]
           ]
          },
          "colorway": [
           "#636efa",
           "#EF553B",
           "#00cc96",
           "#ab63fa",
           "#FFA15A",
           "#19d3f3",
           "#FF6692",
           "#B6E880",
           "#FF97FF",
           "#FECB52"
          ],
          "font": {
           "color": "#2a3f5f"
          },
          "geo": {
           "bgcolor": "white",
           "lakecolor": "white",
           "landcolor": "white",
           "showlakes": true,
           "showland": true,
           "subunitcolor": "#C8D4E3"
          },
          "hoverlabel": {
           "align": "left"
          },
          "hovermode": "closest",
          "mapbox": {
           "style": "light"
          },
          "paper_bgcolor": "white",
          "plot_bgcolor": "white",
          "polar": {
           "angularaxis": {
            "gridcolor": "#EBF0F8",
            "linecolor": "#EBF0F8",
            "ticks": ""
           },
           "bgcolor": "white",
           "radialaxis": {
            "gridcolor": "#EBF0F8",
            "linecolor": "#EBF0F8",
            "ticks": ""
           }
          },
          "scene": {
           "xaxis": {
            "backgroundcolor": "white",
            "gridcolor": "#DFE8F3",
            "gridwidth": 2,
            "linecolor": "#EBF0F8",
            "showbackground": true,
            "ticks": "",
            "zerolinecolor": "#EBF0F8"
           },
           "yaxis": {
            "backgroundcolor": "white",
            "gridcolor": "#DFE8F3",
            "gridwidth": 2,
            "linecolor": "#EBF0F8",
            "showbackground": true,
            "ticks": "",
            "zerolinecolor": "#EBF0F8"
           },
           "zaxis": {
            "backgroundcolor": "white",
            "gridcolor": "#DFE8F3",
            "gridwidth": 2,
            "linecolor": "#EBF0F8",
            "showbackground": true,
            "ticks": "",
            "zerolinecolor": "#EBF0F8"
           }
          },
          "shapedefaults": {
           "line": {
            "color": "#2a3f5f"
           }
          },
          "ternary": {
           "aaxis": {
            "gridcolor": "#DFE8F3",
            "linecolor": "#A2B1C6",
            "ticks": ""
           },
           "baxis": {
            "gridcolor": "#DFE8F3",
            "linecolor": "#A2B1C6",
            "ticks": ""
           },
           "bgcolor": "white",
           "caxis": {
            "gridcolor": "#DFE8F3",
            "linecolor": "#A2B1C6",
            "ticks": ""
           }
          },
          "title": {
           "x": 0.05
          },
          "xaxis": {
           "automargin": true,
           "gridcolor": "#EBF0F8",
           "linecolor": "#EBF0F8",
           "ticks": "",
           "title": {
            "standoff": 15
           },
           "zerolinecolor": "#EBF0F8",
           "zerolinewidth": 2
          },
          "yaxis": {
           "automargin": true,
           "gridcolor": "#EBF0F8",
           "linecolor": "#EBF0F8",
           "ticks": "",
           "title": {
            "standoff": 15
           },
           "zerolinecolor": "#EBF0F8",
           "zerolinewidth": 2
          }
         }
        },
        "title": {
         "text": "🎬 Tasa de Natalidad (por 1000 hab.) en Sudamérica (2018–2024)"
        },
        "updatemenus": [
         {
          "active": 0,
          "buttons": [
           {
            "args": [
             null,
             {
              "frame": {
               "duration": 500,
               "redraw": true
              },
              "fromcurrent": true,
              "mode": "immediate",
              "transition": {
               "duration": 500,
               "easing": "linear"
              }
             }
            ],
            "label": "&#9654;",
            "method": "animate"
           },
           {
            "args": [
             [
              null
             ],
             {
              "frame": {
               "duration": 0,
               "redraw": true
              },
              "fromcurrent": true,
              "mode": "immediate",
              "transition": {
               "duration": 0,
               "easing": "linear"
              }
             }
            ],
            "label": "&#9724;",
            "method": "animate"
           }
          ],
          "direction": "left",
          "pad": {
           "r": 10,
           "t": 70
          },
          "showactive": false,
          "type": "buttons",
          "x": 0.1,
          "xanchor": "right",
          "y": 0,
          "yanchor": "top"
         }
        ],
        "width": 800,
        "xaxis": {
         "anchor": "y",
         "domain": [
          0,
          1
         ],
         "range": [
          0,
          27.574
         ],
         "title": {
          "text": "Tasa de Natalidad (por 1000 habitantes)"
         },
         "type": "linear"
        },
        "yaxis": {
         "anchor": "x",
         "autorange": true,
         "categoryarray": [
          "Uruguay",
          "Peru",
          "Paraguay",
          "Ecuador",
          "Colombia",
          "Chile",
          "Brazil",
          "Bolivia",
          "Argentina"
         ],
         "categoryorder": "array",
         "domain": [
          0,
          1
         ],
         "range": [
          -0.5,
          8.5
         ],
         "title": {
          "text": "País"
         },
         "type": "category"
        }
       }
      },
      "image/png": "[encoded data removed]",
      "text/html": [
       "<div>                            <div id=\"c1f1944a-902f-47c4-b7d8-b8d6d686b414\" class=\"plotly-graph-div\" style=\"height:500px; width:800px;\"></div>            <script type=\"text/javascript\">                require([\"plotly\"], function(Plotly) {                    window.PLOTLYENV=window.PLOTLYENV || {};                                    if (document.getElementById(\"c1f1944a-902f-47c4-b7d8-b8d6d686b414\")) {                    Plotly.newPlot(                        \"c1f1944a-902f-47c4-b7d8-b8d6d686b414\",                        [{\"alignmentgroup\":\"True\",\"hovertemplate\":\"Pa\\u00eds=%{y}\\u003cbr\\u003eA\\u00f1o=2018\\u003cbr\\u003eTasa de Natalidad (por 1000 habitantes)=%{x}\\u003cextra\\u003e\\u003c\\u002fextra\\u003e\",\"legendgroup\":\"Argentina\",\"marker\":{\"color\":\"#636efa\",\"pattern\":{\"shape\":\"\"}},\"name\":\"Argentina\",\"offsetgroup\":\"Argentina\",\"orientation\":\"h\",\"showlegend\":true,\"textposition\":\"auto\",\"x\":[15.332],\"xaxis\":\"x\",\"y\":[\"Argentina\"],\"yaxis\":\"y\",\"type\":\"bar\"},{\"alignmentgroup\":\"True\",\"hovertemplate\":\"Pa\\u00eds=%{y}\\u003cbr\\u003eA\\u00f1o=2018\\u003cbr\\u003eTasa de Natalidad (por 1000 habitantes)=%{x}\\u003cextra\\u003e\\u003c\\u002fextra\\u003e\",\"legendgroup\":\"Bolivia\",\"marker\":{\"color\":\"#EF553B\",\"pattern\":{\"shape\":\"\"}},\"name\":\"Bolivia\",\"offsetgroup\":\"Bolivia\",\"orientation\":\"h\",\"showlegend\":true,\"textposition\":\"auto\",\"x\":[22.574],\"xaxis\":\"x\",\"y\":[\"Bolivia\"],\"yaxis\":\"y\",\"type\":\"bar\"},{\"alignmentgroup\":\"True\",\"hovertemplate\":\"Pa\\u00eds=%{y}\\u003cbr\\u003eA\\u00f1o=2018\\u003cbr\\u003eTasa de Natalidad (por 1000 habitantes)=%{x}\\u003cextra\\u003e\\u003c\\u002fextra\\u003e\",\"legendgroup\":\"Brazil\",\"marker\":{\"color\":\"#00cc96\",\"pattern\":{\"shape\":\"\"}},\"name\":\"Brazil\",\"offsetgroup\":\"Brazil\",\"orientation\":\"h\",\"showlegend\":true,\"textposition\":\"auto\",\"x\":[14.022],\"xaxis\":\"x\",\"y\":[\"Brazil\"],\"yaxis\":\"y\",\"type\":\"bar\"},{\"alignmentgroup\":\"True\",\"hovertemplate\":\"Pa\\u00eds=%{y}\\u003cbr\\u003eA\\u00f1o=2018\\u003cbr\\u003eTasa de Natalidad (por 1000 habitantes)=%{x}\\u003cextra\\u003e\\u003c\\u002fextra\\u003e\",\"legendgroup\":\"Chile\",\"marker\":{\"color\":\"#ab63fa\",\"pattern\":{\"shape\":\"\"}},\"name\":\"Chile\",\"offsetgroup\":\"Chile\",\"orientation\":\"h\",\"showlegend\":true,\"textposition\":\"auto\",\"x\":[11.698],\"xaxis\":\"x\",\"y\":[\"Chile\"],\"yaxis\":\"y\",\"type\":\"bar\"},{\"alignmentgroup\":\"True\",\"hovertemplate\":\"Pa\\u00eds=%{y}\\u003cbr\\u003eA\\u00f1o=2018\\u003cbr\\u003eTasa de Natalidad (por 1000 habitantes)=%{x}\\u003cextra\\u003e\\u003c\\u002fextra\\u003e\",\"legendgroup\":\"Colombia\",\"marker\":{\"color\":\"#FFA15A\",\"pattern\":{\"shape\":\"\"}},\"name\":\"Colombia\",\"offsetgroup\":\"Colombia\",\"orientation\":\"h\",\"showlegend\":true,\"textposition\":\"auto\",\"x\":[14.195],\"xaxis\":\"x\",\"y\":[\"Colombia\"],\"yaxis\":\"y\",\"type\":\"bar\"},{\"alignmentgroup\":\"True\",\"hovertemplate\":\"Pa\\u00eds=%{y}\\u003cbr\\u003eA\\u00f1o=2018\\u003cbr\\u003eTasa de Natalidad (por 1000 habitantes)=%{x}\\u003cextra\\u003e\\u003c\\u002fextra\\u003e\",\"legendgroup\":\"Ecuador\",\"marker\":{\"color\":\"#19d3f3\",\"pattern\":{\"shape\":\"\"}},\"name\":\"Ecuador\",\"offsetgroup\":\"Ecuador\",\"orientation\":\"h\",\"showlegend\":true,\"textposition\":\"auto\",\"x\":[17.523],\"xaxis\":\"x\",\"y\":[\"Ecuador\"],\"yaxis\":\"y\",\"type\":\"bar\"},{\"alignmentgroup\":\"True\",\"hovertemplate\":\"Pa\\u00eds=%{y}\\u003cbr\\u003eA\\u00f1o=2018\\u003cbr\\u003eTasa de Natalidad (por 1000 habitantes)=%{x}\\u003cextra\\u003e\\u003c\\u002fextra\\u003e\",\"legendgroup\":\"Paraguay\",\"marker\":{\"color\":\"#FF6692\",\"pattern\":{\"shape\":\"\"}},\"name\":\"Paraguay\",\"offsetgroup\":\"Paraguay\",\"orientation\":\"h\",\"showlegend\":true,\"textposition\":\"auto\",\"x\":[21.836],\"xaxis\":\"x\",\"y\":[\"Paraguay\"],\"yaxis\":\"y\",\"type\":\"bar\"},{\"alignmentgroup\":\"True\",\"hovertemplate\":\"Pa\\u00eds=%{y}\\u003cbr\\u003eA\\u00f1o=2018\\u003cbr\\u003eTasa de Natalidad (por 1000 habitantes)=%{x}\\u003cextra\\u003e\\u003c\\u002fextra\\u003e\",\"legendgroup\":\"Peru\",\"marker\":{\"color\":\"#B6E880\",\"pattern\":{\"shape\":\"\"}},\"name\":\"Peru\",\"offsetgroup\":\"Peru\",\"orientation\":\"h\",\"showlegend\":true,\"textposition\":\"auto\",\"x\":[16.93],\"xaxis\":\"x\",\"y\":[\"Peru\"],\"yaxis\":\"y\",\"type\":\"bar\"},{\"alignmentgroup\":\"True\",\"hovertemplate\":\"Pa\\u00eds=%{y}\\u003cbr\\u003eA\\u00f1o=2018\\u003cbr\\u003eTasa de Natalidad (por 1000 habitantes)=%{x}\\u003cextra\\u003e\\u003c\\u002fextra\\u003e\",\"legendgroup\":\"Uruguay\",\"marker\":{\"color\":\"#FF97FF\",\"pattern\":{\"shape\":\"\"}},\"name\":\"Uruguay\",\"offsetgroup\":\"Uruguay\",\"orientation\":\"h\",\"showlegend\":true,\"textposition\":\"auto\",\"x\":[11.687],\"xaxis\":\"x\",\"y\":[\"Uruguay\"],\"yaxis\":\"y\",\"type\":\"bar\"}],                        {\"template\":{\"data\":{\"barpolar\":[{\"marker\":{\"line\":{\"color\":\"white\",\"width\":0.5},\"pattern\":{\"fillmode\":\"overlay\",\"size\":10,\"solidity\":0.2}},\"type\":\"barpolar\"}],\"bar\":[{\"error_x\":{\"color\":\"#2a3f5f\"},\"error_y\":{\"color\":\"#2a3f5f\"},\"marker\":{\"line\":{\"color\":\"white\",\"width\":0.5},\"pattern\":{\"fillmode\":\"overlay\",\"size\":10,\"solidity\":0.2}},\"type\":\"bar\"}],\"carpet\":[{\"aaxis\":{\"endlinecolor\":\"#2a3f5f\",\"gridcolor\":\"#C8D4E3\",\"linecolor\":\"#C8D4E3\",\"minorgridcolor\":\"#C8D4E3\",\"startlinecolor\":\"#2a3f5f\"},\"baxis\":{\"endlinecolor\":\"#2a3f5f\",\"gridcolor\":\"#C8D4E3\",\"linecolor\":\"#C8D4E3\",\"minorgridcolor\":\"#C8D4E3\",\"startlinecolor\":\"#2a3f5f\"},\"type\":\"carpet\"}],\"choropleth\":[{\"colorbar\":{\"outlinewidth\":0,\"ticks\":\"\"},\"type\":\"choropleth\"}],\"contourcarpet\":[{\"colorbar\":{\"outlinewidth\":0,\"ticks\":\"\"},\"type\":\"contourcarpet\"}],\"contour\":[{\"colorbar\":{\"outlinewidth\":0,\"ticks\":\"\"},\"colorscale\":[[0.0,\"#0d0887\"],[0.1111111111111111,\"#46039f\"],[0.2222222222222222,\"#7201a8\"],[0.3333333333333333,\"#9c179e\"],[0.4444444444444444,\"#bd3786\"],[0.5555555555555556,\"#d8576b\"],[0.6666666666666666,\"#ed7953\"],[0.7777777777777778,\"#fb9f3a\"],[0.8888888888888888,\"#fdca26\"],[1.0,\"#f0f921\"]],\"type\":\"contour\"}],\"heatmapgl\":[{\"colorbar\":{\"outlinewidth\":0,\"ticks\":\"\"},\"colorscale\":[[0.0,\"#0d0887\"],[0.1111111111111111,\"#46039f\"],[0.2222222222222222,\"#7201a8\"],[0.3333333333333333,\"#9c179e\"],[0.4444444444444444,\"#bd3786\"],[0.5555555555555556,\"#d8576b\"],[0.6666666666666666,\"#ed7953\"],[0.7777777777777778,\"#fb9f3a\"],[0.8888888888888888,\"#fdca26\"],[1.0,\"#f0f921\"]],\"type\":\"heatmapgl\"}],\"heatmap\":[{\"colorbar\":{\"outlinewidth\":0,\"ticks\":\"\"},\"colorscale\":[[0.0,\"#0d0887\"],[0.1111111111111111,\"#46039f\"],[0.2222222222222222,\"#7201a8\"],[0.3333333333333333,\"#9c179e\"],[0.4444444444444444,\"#bd3786\"],[0.5555555555555556,\"#d8576b\"],[0.6666666666666666,\"#ed7953\"],[0.7777777777777778,\"#fb9f3a\"],[0.8888888888888888,\"#fdca26\"],[1.0,\"#f0f921\"]],\"type\":\"heatmap\"}],\"histogram2dcontour\":[{\"colorbar\":{\"outlinewidth\":0,\"ticks\":\"\"},\"colorscale\":[[0.0,\"#0d0887\"],[0.1111111111111111,\"#46039f\"],[0.2222222222222222,\"#7201a8\"],[0.3333333333333333,\"#9c179e\"],[0.4444444444444444,\"#bd3786\"],[0.5555555555555556,\"#d8576b\"],[0.6666666666666666,\"#ed7953\"],[0.7777777777777778,\"#fb9f3a\"],[0.8888888888888888,\"#fdca26\"],[1.0,\"#f0f921\"]],\"type\":\"histogram2dcontour\"}],\"histogram2d\":[{\"colorbar\":{\"outlinewidth\":0,\"ticks\":\"\"},\"colorscale\":[[0.0,\"#0d0887\"],[0.1111111111111111,\"#46039f\"],[0.2222222222222222,\"#7201a8\"],[0.3333333333333333,\"#9c179e\"],[0.4444444444444444,\"#bd3786\"],[0.5555555555555556,\"#d8576b\"],[0.6666666666666666,\"#ed7953\"],[0.7777777777777778,\"#fb9f3a\"],[0.8888888888888888,\"#fdca26\"],[1.0,\"#f0f921\"]],\"type\":\"histogram2d\"}],\"histogram\":[{\"marker\":{\"pattern\":{\"fillmode\":\"overlay\",\"size\":10,\"solidity\":0.2}},\"type\":\"histogram\"}],\"mesh3d\":[{\"colorbar\":{\"outlinewidth\":0,\"ticks\":\"\"},\"type\":\"mesh3d\"}],\"parcoords\":[{\"line\":{\"colorbar\":{\"outlinewidth\":0,\"ticks\":\"\"}},\"type\":\"parcoords\"}],\"pie\":[{\"automargin\":true,\"type\":\"pie\"}],\"scatter3d\":[{\"line\":{\"colorbar\":{\"outlinewidth\":0,\"ticks\":\"\"}},\"marker\":{\"colorbar\":{\"outlinewidth\":0,\"ticks\":\"\"}},\"type\":\"scatter3d\"}],\"scattercarpet\":[{\"marker\":{\"colorbar\":{\"outlinewidth\":0,\"ticks\":\"\"}},\"type\":\"scattercarpet\"}],\"scattergeo\":[{\"marker\":{\"colorbar\":{\"outlinewidth\":0,\"ticks\":\"\"}},\"type\":\"scattergeo\"}],\"scattergl\":[{\"marker\":{\"colorbar\":{\"outlinewidth\":0,\"ticks\":\"\"}},\"type\":\"scattergl\"}],\"scattermapbox\":[{\"marker\":{\"colorbar\":{\"outlinewidth\":0,\"ticks\":\"\"}},\"type\":\"scattermapbox\"}],\"scatterpolargl\":[{\"marker\":{\"colorbar\":{\"outlinewidth\":0,\"ticks\":\"\"}},\"type\":\"scatterpolargl\"}],\"scatterpolar\":[{\"marker\":{\"colorbar\":{\"outlinewidth\":0,\"ticks\":\"\"}},\"type\":\"scatterpolar\"}],\"scatter\":[{\"fillpattern\":{\"fillmode\":\"overlay\",\"size\":10,\"solidity\":0.2},\"type\":\"scatter\"}],\"scatterternary\":[{\"marker\":{\"colorbar\":{\"outlinewidth\":0,\"ticks\":\"\"}},\"type\":\"scatterternary\"}],\"surface\":[{\"colorbar\":{\"outlinewidth\":0,\"ticks\":\"\"},\"colorscale\":[[0.0,\"#0d0887\"],[0.1111111111111111,\"#46039f\"],[0.2222222222222222,\"#7201a8\"],[0.3333333333333333,\"#9c179e\"],[0.4444444444444444,\"#bd3786\"],[0.5555555555555556,\"#d8576b\"],[0.6666666666666666,\"#ed7953\"],[0.7777777777777778,\"#fb9f3a\"],[0.8888888888888888,\"#fdca26\"],[1.0,\"#f0f921\"]],\"type\":\"surface\"}],\"table\":[{\"cells\":{\"fill\":{\"color\":\"#EBF0F8\"},\"line\":{\"color\":\"white\"}},\"header\":{\"fill\":{\"color\":\"#C8D4E3\"},\"line\":{\"color\":\"white\"}},\"type\":\"table\"}]},\"layout\":{\"annotationdefaults\":{\"arrowcolor\":\"#2a3f5f\",\"arrowhead\":0,\"arrowwidth\":1},\"autotypenumbers\":\"strict\",\"coloraxis\":{\"colorbar\":{\"outlinewidth\":0,\"ticks\":\"\"}},\"colorscale\":{\"diverging\":[[0,\"#8e0152\"],[0.1,\"#c51b7d\"],[0.2,\"#de77ae\"],[0.3,\"#f1b6da\"],[0.4,\"#fde0ef\"],[0.5,\"#f7f7f7\"],[0.6,\"#e6f5d0\"],[0.7,\"#b8e186\"],[0.8,\"#7fbc41\"],[0.9,\"#4d9221\"],[1,\"#276419\"]],\"sequential\":[[0.0,\"#0d0887\"],[0.1111111111111111,\"#46039f\"],[0.2222222222222222,\"#7201a8\"],[0.3333333333333333,\"#9c179e\"],[0.4444444444444444,\"#bd3786\"],[0.5555555555555556,\"#d8576b\"],[0.6666666666666666,\"#ed7953\"],[0.7777777777777778,\"#fb9f3a\"],[0.8888888888888888,\"#fdca26\"],[1.0,\"#f0f921\"]],\"sequentialminus\":[[0.0,\"#0d0887\"],[0.1111111111111111,\"#46039f\"],[0.2222222222222222,\"#7201a8\"],[0.3333333333333333,\"#9c179e\"],[0.4444444444444444,\"#bd3786\"],[0.5555555555555556,\"#d8576b\"],[0.6666666666666666,\"#ed7953\"],[0.7777777777777778,\"#fb9f3a\"],[0.8888888888888888,\"#fdca26\"],[1.0,\"#f0f921\"]]},\"colorway\":[\"#636efa\",\"#EF553B\",\"#00cc96\",\"#ab63fa\",\"#FFA15A\",\"#19d3f3\",\"#FF6692\",\"#B6E880\",\"#FF97FF\",\"#FECB52\"],\"font\":{\"color\":\"#2a3f5f\"},\"geo\":{\"bgcolor\":\"white\",\"lakecolor\":\"white\",\"landcolor\":\"white\",\"showlakes\":true,\"showland\":true,\"subunitcolor\":\"#C8D4E3\"},\"hoverlabel\":{\"align\":\"left\"},\"hovermode\":\"closest\",\"mapbox\":{\"style\":\"light\"},\"paper_bgcolor\":\"white\",\"plot_bgcolor\":\"white\",\"polar\":{\"angularaxis\":{\"gridcolor\":\"#EBF0F8\",\"linecolor\":\"#EBF0F8\",\"ticks\":\"\"},\"bgcolor\":\"white\",\"radialaxis\":{\"gridcolor\":\"#EBF0F8\",\"linecolor\":\"#EBF0F8\",\"ticks\":\"\"}},\"scene\":{\"xaxis\":{\"backgroundcolor\":\"white\",\"gridcolor\":\"#DFE8F3\",\"gridwidth\":2,\"linecolor\":\"#EBF0F8\",\"showbackground\":true,\"ticks\":\"\",\"zerolinecolor\":\"#EBF0F8\"},\"yaxis\":{\"backgroundcolor\":\"white\",\"gridcolor\":\"#DFE8F3\",\"gridwidth\":2,\"linecolor\":\"#EBF0F8\",\"showbackground\":true,\"ticks\":\"\",\"zerolinecolor\":\"#EBF0F8\"},\"zaxis\":{\"backgroundcolor\":\"white\",\"gridcolor\":\"#DFE8F3\",\"gridwidth\":2,\"linecolor\":\"#EBF0F8\",\"showbackground\":true,\"ticks\":\"\",\"zerolinecolor\":\"#EBF0F8\"}},\"shapedefaults\":{\"line\":{\"color\":\"#2a3f5f\"}},\"ternary\":{\"aaxis\":{\"gridcolor\":\"#DFE8F3\",\"linecolor\":\"#A2B1C6\",\"ticks\":\"\"},\"baxis\":{\"gridcolor\":\"#DFE8F3\",\"linecolor\":\"#A2B1C6\",\"ticks\":\"\"},\"bgcolor\":\"white\",\"caxis\":{\"gridcolor\":\"#DFE8F3\",\"linecolor\":\"#A2B1C6\",\"ticks\":\"\"}},\"title\":{\"x\":0.05},\"xaxis\":{\"automargin\":true,\"gridcolor\":\"#EBF0F8\",\"linecolor\":\"#EBF0F8\",\"ticks\":\"\",\"title\":{\"standoff\":15},\"zerolinecolor\":\"#EBF0F8\",\"zerolinewidth\":2},\"yaxis\":{\"automargin\":true,\"gridcolor\":\"#EBF0F8\",\"linecolor\":\"#EBF0F8\",\"ticks\":\"\",\"title\":{\"standoff\":15},\"zerolinecolor\":\"#EBF0F8\",\"zerolinewidth\":2}}},\"xaxis\":{\"anchor\":\"y\",\"domain\":[0.0,1.0],\"title\":{\"text\":\"Tasa de Natalidad (por 1000 habitantes)\"},\"range\":[0,27.574]},\"yaxis\":{\"anchor\":\"x\",\"domain\":[0.0,1.0],\"title\":{\"text\":\"Pa\\u00eds\"},\"categoryorder\":\"array\",\"categoryarray\":[\"Uruguay\",\"Peru\",\"Paraguay\",\"Ecuador\",\"Colombia\",\"Chile\",\"Brazil\",\"Bolivia\",\"Argentina\"]},\"legend\":{\"title\":{\"text\":\"Pa\\u00eds\"},\"tracegroupgap\":0},\"title\":{\"text\":\"\\ud83c\\udfac Tasa de Natalidad (por 1000 hab.) en Sudam\\u00e9rica (2018\\u20132024)\"},\"barmode\":\"relative\",\"updatemenus\":[{\"buttons\":[{\"args\":[null,{\"frame\":{\"duration\":500,\"redraw\":true},\"mode\":\"immediate\",\"fromcurrent\":true,\"transition\":{\"duration\":500,\"easing\":\"linear\"}}],\"label\":\"&#9654;\",\"method\":\"animate\"},{\"args\":[[null],{\"frame\":{\"duration\":0,\"redraw\":true},\"mode\":\"immediate\",\"fromcurrent\":true,\"transition\":{\"duration\":0,\"easing\":\"linear\"}}],\"label\":\"&#9724;\",\"method\":\"animate\"}],\"direction\":\"left\",\"pad\":{\"r\":10,\"t\":70},\"showactive\":false,\"type\":\"buttons\",\"x\":0.1,\"xanchor\":\"right\",\"y\":0,\"yanchor\":\"top\"}],\"sliders\":[{\"active\":0,\"currentvalue\":{\"prefix\":\"A\\u00f1o=\"},\"len\":0.9,\"pad\":{\"b\":10,\"t\":60},\"steps\":[{\"args\":[[\"2018\"],{\"frame\":{\"duration\":0,\"redraw\":true},\"mode\":\"immediate\",\"fromcurrent\":true,\"transition\":{\"duration\":0,\"easing\":\"linear\"}}],\"label\":\"2018\",\"method\":\"animate\"},{\"args\":[[\"2019\"],{\"frame\":{\"duration\":0,\"redraw\":true},\"mode\":\"immediate\",\"fromcurrent\":true,\"transition\":{\"duration\":0,\"easing\":\"linear\"}}],\"label\":\"2019\",\"method\":\"animate\"},{\"args\":[[\"2020\"],{\"frame\":{\"duration\":0,\"redraw\":true},\"mode\":\"immediate\",\"fromcurrent\":true,\"transition\":{\"duration\":0,\"easing\":\"linear\"}}],\"label\":\"2020\",\"method\":\"animate\"},{\"args\":[[\"2021\"],{\"frame\":{\"duration\":0,\"redraw\":true},\"mode\":\"immediate\",\"fromcurrent\":true,\"transition\":{\"duration\":0,\"easing\":\"linear\"}}],\"label\":\"2021\",\"method\":\"animate\"},{\"args\":[[\"2022\"],{\"frame\":{\"duration\":0,\"redraw\":true},\"mode\":\"immediate\",\"fromcurrent\":true,\"transition\":{\"duration\":0,\"easing\":\"linear\"}}],\"label\":\"2022\",\"method\":\"animate\"},{\"args\":[[\"2023\"],{\"frame\":{\"duration\":0,\"redraw\":true},\"mode\":\"immediate\",\"fromcurrent\":true,\"transition\":{\"duration\":0,\"easing\":\"linear\"}}],\"label\":\"2023\",\"method\":\"animate\"}],\"x\":0.1,\"xanchor\":\"left\",\"y\":0,\"yanchor\":\"top\"}],\"width\":800,\"height\":500},                        {\"responsive\": true}                    ).then(function(){\n",
       "                            Plotly.addFrames('c1f1944a-902f-47c4-b7d8-b8d6d686b414', [{\"data\":[{\"alignmentgroup\":\"True\",\"hovertemplate\":\"Pa\\u00eds=%{y}\\u003cbr\\u003eA\\u00f1o=2018\\u003cbr\\u003eTasa de Natalidad (por 1000 habitantes)=%{x}\\u003cextra\\u003e\\u003c\\u002fextra\\u003e\",\"legendgroup\":\"Argentina\",\"marker\":{\"color\":\"#636efa\",\"pattern\":{\"shape\":\"\"}},\"name\":\"Argentina\",\"offsetgroup\":\"Argentina\",\"orientation\":\"h\",\"showlegend\":true,\"textposition\":\"auto\",\"x\":[15.332],\"xaxis\":\"x\",\"y\":[\"Argentina\"],\"yaxis\":\"y\",\"type\":\"bar\"},{\"alignmentgroup\":\"True\",\"hovertemplate\":\"Pa\\u00eds=%{y}\\u003cbr\\u003eA\\u00f1o=2018\\u003cbr\\u003eTasa de Natalidad (por 1000 habitantes)=%{x}\\u003cextra\\u003e\\u003c\\u002fextra\\u003e\",\"legendgroup\":\"Bolivia\",\"marker\":{\"color\":\"#EF553B\",\"pattern\":{\"shape\":\"\"}},\"name\":\"Bolivia\",\"offsetgroup\":\"Bolivia\",\"orientation\":\"h\",\"showlegend\":true,\"textposition\":\"auto\",\"x\":[22.574],\"xaxis\":\"x\",\"y\":[\"Bolivia\"],\"yaxis\":\"y\",\"type\":\"bar\"},{\"alignmentgroup\":\"True\",\"hovertemplate\":\"Pa\\u00eds=%{y}\\u003cbr\\u003eA\\u00f1o=2018\\u003cbr\\u003eTasa de Natalidad (por 1000 habitantes)=%{x}\\u003cextra\\u003e\\u003c\\u002fextra\\u003e\",\"legendgroup\":\"Brazil\",\"marker\":{\"color\":\"#00cc96\",\"pattern\":{\"shape\":\"\"}},\"name\":\"Brazil\",\"offsetgroup\":\"Brazil\",\"orientation\":\"h\",\"showlegend\":true,\"textposition\":\"auto\",\"x\":[14.022],\"xaxis\":\"x\",\"y\":[\"Brazil\"],\"yaxis\":\"y\",\"type\":\"bar\"},{\"alignmentgroup\":\"True\",\"hovertemplate\":\"Pa\\u00eds=%{y}\\u003cbr\\u003eA\\u00f1o=2018\\u003cbr\\u003eTasa de Natalidad (por 1000 habitantes)=%{x}\\u003cextra\\u003e\\u003c\\u002fextra\\u003e\",\"legendgroup\":\"Chile\",\"marker\":{\"color\":\"#ab63fa\",\"pattern\":{\"shape\":\"\"}},\"name\":\"Chile\",\"offsetgroup\":\"Chile\",\"orientation\":\"h\",\"showlegend\":true,\"textposition\":\"auto\",\"x\":[11.698],\"xaxis\":\"x\",\"y\":[\"Chile\"],\"yaxis\":\"y\",\"type\":\"bar\"},{\"alignmentgroup\":\"True\",\"hovertemplate\":\"Pa\\u00eds=%{y}\\u003cbr\\u003eA\\u00f1o=2018\\u003cbr\\u003eTasa de Natalidad (por 1000 habitantes)=%{x}\\u003cextra\\u003e\\u003c\\u002fextra\\u003e\",\"legendgroup\":\"Colombia\",\"marker\":{\"color\":\"#FFA15A\",\"pattern\":{\"shape\":\"\"}},\"name\":\"Colombia\",\"offsetgroup\":\"Colombia\",\"orientation\":\"h\",\"showlegend\":true,\"textposition\":\"auto\",\"x\":[14.195],\"xaxis\":\"x\",\"y\":[\"Colombia\"],\"yaxis\":\"y\",\"type\":\"bar\"},{\"alignmentgroup\":\"True\",\"hovertemplate\":\"Pa\\u00eds=%{y}\\u003cbr\\u003eA\\u00f1o=2018\\u003cbr\\u003eTasa de Natalidad (por 1000 habitantes)=%{x}\\u003cextra\\u003e\\u003c\\u002fextra\\u003e\",\"legendgroup\":\"Ecuador\",\"marker\":{\"color\":\"#19d3f3\",\"pattern\":{\"shape\":\"\"}},\"name\":\"Ecuador\",\"offsetgroup\":\"Ecuador\",\"orientation\":\"h\",\"showlegend\":true,\"textposition\":\"auto\",\"x\":[17.523],\"xaxis\":\"x\",\"y\":[\"Ecuador\"],\"yaxis\":\"y\",\"type\":\"bar\"},{\"alignmentgroup\":\"True\",\"hovertemplate\":\"Pa\\u00eds=%{y}\\u003cbr\\u003eA\\u00f1o=2018\\u003cbr\\u003eTasa de Natalidad (por 1000 habitantes)=%{x}\\u003cextra\\u003e\\u003c\\u002fextra\\u003e\",\"legendgroup\":\"Paraguay\",\"marker\":{\"color\":\"#FF6692\",\"pattern\":{\"shape\":\"\"}},\"name\":\"Paraguay\",\"offsetgroup\":\"Paraguay\",\"orientation\":\"h\",\"showlegend\":true,\"textposition\":\"auto\",\"x\":[21.836],\"xaxis\":\"x\",\"y\":[\"Paraguay\"],\"yaxis\":\"y\",\"type\":\"bar\"},{\"alignmentgroup\":\"True\",\"hovertemplate\":\"Pa\\u00eds=%{y}\\u003cbr\\u003eA\\u00f1o=2018\\u003cbr\\u003eTasa de Natalidad (por 1000 habitantes)=%{x}\\u003cextra\\u003e\\u003c\\u002fextra\\u003e\",\"legendgroup\":\"Peru\",\"marker\":{\"color\":\"#B6E880\",\"pattern\":{\"shape\":\"\"}},\"name\":\"Peru\",\"offsetgroup\":\"Peru\",\"orientation\":\"h\",\"showlegend\":true,\"textposition\":\"auto\",\"x\":[16.93],\"xaxis\":\"x\",\"y\":[\"Peru\"],\"yaxis\":\"y\",\"type\":\"bar\"},{\"alignmentgroup\":\"True\",\"hovertemplate\":\"Pa\\u00eds=%{y}\\u003cbr\\u003eA\\u00f1o=2018\\u003cbr\\u003eTasa de Natalidad (por 1000 habitantes)=%{x}\\u003cextra\\u003e\\u003c\\u002fextra\\u003e\",\"legendgroup\":\"Uruguay\",\"marker\":{\"color\":\"#FF97FF\",\"pattern\":{\"shape\":\"\"}},\"name\":\"Uruguay\",\"offsetgroup\":\"Uruguay\",\"orientation\":\"h\",\"showlegend\":true,\"textposition\":\"auto\",\"x\":[11.687],\"xaxis\":\"x\",\"y\":[\"Uruguay\"],\"yaxis\":\"y\",\"type\":\"bar\"}],\"name\":\"2018\"},{\"data\":[{\"alignmentgroup\":\"True\",\"hovertemplate\":\"Pa\\u00eds=%{y}\\u003cbr\\u003eA\\u00f1o=2019\\u003cbr\\u003eTasa de Natalidad (por 1000 habitantes)=%{x}\\u003cextra\\u003e\\u003c\\u002fextra\\u003e\",\"legendgroup\":\"Argentina\",\"marker\":{\"color\":\"#636efa\",\"pattern\":{\"shape\":\"\"}},\"name\":\"Argentina\",\"offsetgroup\":\"Argentina\",\"orientation\":\"h\",\"showlegend\":true,\"textposition\":\"auto\",\"x\":[13.902],\"xaxis\":\"x\",\"y\":[\"Argentina\"],\"yaxis\":\"y\",\"type\":\"bar\"},{\"alignmentgroup\":\"True\",\"hovertemplate\":\"Pa\\u00eds=%{y}\\u003cbr\\u003eA\\u00f1o=2019\\u003cbr\\u003eTasa de Natalidad (por 1000 habitantes)=%{x}\\u003cextra\\u003e\\u003c\\u002fextra\\u003e\",\"legendgroup\":\"Bolivia\",\"marker\":{\"color\":\"#EF553B\",\"pattern\":{\"shape\":\"\"}},\"name\":\"Bolivia\",\"offsetgroup\":\"Bolivia\",\"orientation\":\"h\",\"showlegend\":true,\"textposition\":\"auto\",\"x\":[22.257],\"xaxis\":\"x\",\"y\":[\"Bolivia\"],\"yaxis\":\"y\",\"type\":\"bar\"},{\"alignmentgroup\":\"True\",\"hovertemplate\":\"Pa\\u00eds=%{y}\\u003cbr\\u003eA\\u00f1o=2019\\u003cbr\\u003eTasa de Natalidad (por 1000 habitantes)=%{x}\\u003cextra\\u003e\\u003c\\u002fextra\\u003e\",\"legendgroup\":\"Brazil\",\"marker\":{\"color\":\"#00cc96\",\"pattern\":{\"shape\":\"\"}},\"name\":\"Brazil\",\"offsetgroup\":\"Brazil\",\"orientation\":\"h\",\"showlegend\":true,\"textposition\":\"auto\",\"x\":[13.548],\"xaxis\":\"x\",\"y\":[\"Brazil\"],\"yaxis\":\"y\",\"type\":\"bar\"},{\"alignmentgroup\":\"True\",\"hovertemplate\":\"Pa\\u00eds=%{y}\\u003cbr\\u003eA\\u00f1o=2019\\u003cbr\\u003eTasa de Natalidad (por 1000 habitantes)=%{x}\\u003cextra\\u003e\\u003c\\u002fextra\\u003e\",\"legendgroup\":\"Chile\",\"marker\":{\"color\":\"#ab63fa\",\"pattern\":{\"shape\":\"\"}},\"name\":\"Chile\",\"offsetgroup\":\"Chile\",\"orientation\":\"h\",\"showlegend\":true,\"textposition\":\"auto\",\"x\":[10.94],\"xaxis\":\"x\",\"y\":[\"Chile\"],\"yaxis\":\"y\",\"type\":\"bar\"},{\"alignmentgroup\":\"True\",\"hovertemplate\":\"Pa\\u00eds=%{y}\\u003cbr\\u003eA\\u00f1o=2019\\u003cbr\\u003eTasa de Natalidad (por 1000 habitantes)=%{x}\\u003cextra\\u003e\\u003c\\u002fextra\\u003e\",\"legendgroup\":\"Colombia\",\"marker\":{\"color\":\"#FFA15A\",\"pattern\":{\"shape\":\"\"}},\"name\":\"Colombia\",\"offsetgroup\":\"Colombia\",\"orientation\":\"h\",\"showlegend\":true,\"textposition\":\"auto\",\"x\":[14.218],\"xaxis\":\"x\",\"y\":[\"Colombia\"],\"yaxis\":\"y\",\"type\":\"bar\"},{\"alignmentgroup\":\"True\",\"hovertemplate\":\"Pa\\u00eds=%{y}\\u003cbr\\u003eA\\u00f1o=2019\\u003cbr\\u003eTasa de Natalidad (por 1000 habitantes)=%{x}\\u003cextra\\u003e\\u003c\\u002fextra\\u003e\",\"legendgroup\":\"Ecuador\",\"marker\":{\"color\":\"#19d3f3\",\"pattern\":{\"shape\":\"\"}},\"name\":\"Ecuador\",\"offsetgroup\":\"Ecuador\",\"orientation\":\"h\",\"showlegend\":true,\"textposition\":\"auto\",\"x\":[16.924],\"xaxis\":\"x\",\"y\":[\"Ecuador\"],\"yaxis\":\"y\",\"type\":\"bar\"},{\"alignmentgroup\":\"True\",\"hovertemplate\":\"Pa\\u00eds=%{y}\\u003cbr\\u003eA\\u00f1o=2019\\u003cbr\\u003eTasa de Natalidad (por 1000 habitantes)=%{x}\\u003cextra\\u003e\\u003c\\u002fextra\\u003e\",\"legendgroup\":\"Paraguay\",\"marker\":{\"color\":\"#FF6692\",\"pattern\":{\"shape\":\"\"}},\"name\":\"Paraguay\",\"offsetgroup\":\"Paraguay\",\"orientation\":\"h\",\"showlegend\":true,\"textposition\":\"auto\",\"x\":[21.421],\"xaxis\":\"x\",\"y\":[\"Paraguay\"],\"yaxis\":\"y\",\"type\":\"bar\"},{\"alignmentgroup\":\"True\",\"hovertemplate\":\"Pa\\u00eds=%{y}\\u003cbr\\u003eA\\u00f1o=2019\\u003cbr\\u003eTasa de Natalidad (por 1000 habitantes)=%{x}\\u003cextra\\u003e\\u003c\\u002fextra\\u003e\",\"legendgroup\":\"Peru\",\"marker\":{\"color\":\"#B6E880\",\"pattern\":{\"shape\":\"\"}},\"name\":\"Peru\",\"offsetgroup\":\"Peru\",\"orientation\":\"h\",\"showlegend\":true,\"textposition\":\"auto\",\"x\":[16.853],\"xaxis\":\"x\",\"y\":[\"Peru\"],\"yaxis\":\"y\",\"type\":\"bar\"},{\"alignmentgroup\":\"True\",\"hovertemplate\":\"Pa\\u00eds=%{y}\\u003cbr\\u003eA\\u00f1o=2019\\u003cbr\\u003eTasa de Natalidad (por 1000 habitantes)=%{x}\\u003cextra\\u003e\\u003c\\u002fextra\\u003e\",\"legendgroup\":\"Uruguay\",\"marker\":{\"color\":\"#FF97FF\",\"pattern\":{\"shape\":\"\"}},\"name\":\"Uruguay\",\"offsetgroup\":\"Uruguay\",\"orientation\":\"h\",\"showlegend\":true,\"textposition\":\"auto\",\"x\":[10.894],\"xaxis\":\"x\",\"y\":[\"Uruguay\"],\"yaxis\":\"y\",\"type\":\"bar\"}],\"name\":\"2019\"},{\"data\":[{\"alignmentgroup\":\"True\",\"hovertemplate\":\"Pa\\u00eds=%{y}\\u003cbr\\u003eA\\u00f1o=2020\\u003cbr\\u003eTasa de Natalidad (por 1000 habitantes)=%{x}\\u003cextra\\u003e\\u003c\\u002fextra\\u003e\",\"legendgroup\":\"Argentina\",\"marker\":{\"color\":\"#636efa\",\"pattern\":{\"shape\":\"\"}},\"name\":\"Argentina\",\"offsetgroup\":\"Argentina\",\"orientation\":\"h\",\"showlegend\":true,\"textposition\":\"auto\",\"x\":[11.799],\"xaxis\":\"x\",\"y\":[\"Argentina\"],\"yaxis\":\"y\",\"type\":\"bar\"},{\"alignmentgroup\":\"True\",\"hovertemplate\":\"Pa\\u00eds=%{y}\\u003cbr\\u003eA\\u00f1o=2020\\u003cbr\\u003eTasa de Natalidad (por 1000 habitantes)=%{x}\\u003cextra\\u003e\\u003c\\u002fextra\\u003e\",\"legendgroup\":\"Bolivia\",\"marker\":{\"color\":\"#EF553B\",\"pattern\":{\"shape\":\"\"}},\"name\":\"Bolivia\",\"offsetgroup\":\"Bolivia\",\"orientation\":\"h\",\"showlegend\":true,\"textposition\":\"auto\",\"x\":[21.996],\"xaxis\":\"x\",\"y\":[\"Bolivia\"],\"yaxis\":\"y\",\"type\":\"bar\"},{\"alignmentgroup\":\"True\",\"hovertemplate\":\"Pa\\u00eds=%{y}\\u003cbr\\u003eA\\u00f1o=2020\\u003cbr\\u003eTasa de Natalidad (por 1000 habitantes)=%{x}\\u003cextra\\u003e\\u003c\\u002fextra\\u003e\",\"legendgroup\":\"Brazil\",\"marker\":{\"color\":\"#00cc96\",\"pattern\":{\"shape\":\"\"}},\"name\":\"Brazil\",\"offsetgroup\":\"Brazil\",\"orientation\":\"h\",\"showlegend\":true,\"textposition\":\"auto\",\"x\":[12.995],\"xaxis\":\"x\",\"y\":[\"Brazil\"],\"yaxis\":\"y\",\"type\":\"bar\"},{\"alignmentgroup\":\"True\",\"hovertemplate\":\"Pa\\u00eds=%{y}\\u003cbr\\u003eA\\u00f1o=2020\\u003cbr\\u003eTasa de Natalidad (por 1000 habitantes)=%{x}\\u003cextra\\u003e\\u003c\\u002fextra\\u003e\",\"legendgroup\":\"Chile\",\"marker\":{\"color\":\"#ab63fa\",\"pattern\":{\"shape\":\"\"}},\"name\":\"Chile\",\"offsetgroup\":\"Chile\",\"orientation\":\"h\",\"showlegend\":true,\"textposition\":\"auto\",\"x\":[10.097],\"xaxis\":\"x\",\"y\":[\"Chile\"],\"yaxis\":\"y\",\"type\":\"bar\"},{\"alignmentgroup\":\"True\",\"hovertemplate\":\"Pa\\u00eds=%{y}\\u003cbr\\u003eA\\u00f1o=2020\\u003cbr\\u003eTasa de Natalidad (por 1000 habitantes)=%{x}\\u003cextra\\u003e\\u003c\\u002fextra\\u003e\",\"legendgroup\":\"Colombia\",\"marker\":{\"color\":\"#FFA15A\",\"pattern\":{\"shape\":\"\"}},\"name\":\"Colombia\",\"offsetgroup\":\"Colombia\",\"orientation\":\"h\",\"showlegend\":true,\"textposition\":\"auto\",\"x\":[14.106],\"xaxis\":\"x\",\"y\":[\"Colombia\"],\"yaxis\":\"y\",\"type\":\"bar\"},{\"alignmentgroup\":\"True\",\"hovertemplate\":\"Pa\\u00eds=%{y}\\u003cbr\\u003eA\\u00f1o=2020\\u003cbr\\u003eTasa de Natalidad (por 1000 habitantes)=%{x}\\u003cextra\\u003e\\u003c\\u002fextra\\u003e\",\"legendgroup\":\"Ecuador\",\"marker\":{\"color\":\"#19d3f3\",\"pattern\":{\"shape\":\"\"}},\"name\":\"Ecuador\",\"offsetgroup\":\"Ecuador\",\"orientation\":\"h\",\"showlegend\":true,\"textposition\":\"auto\",\"x\":[16.391],\"xaxis\":\"x\",\"y\":[\"Ecuador\"],\"yaxis\":\"y\",\"type\":\"bar\"},{\"alignmentgroup\":\"True\",\"hovertemplate\":\"Pa\\u00eds=%{y}\\u003cbr\\u003eA\\u00f1o=2020\\u003cbr\\u003eTasa de Natalidad (por 1000 habitantes)=%{x}\\u003cextra\\u003e\\u003c\\u002fextra\\u003e\",\"legendgroup\":\"Paraguay\",\"marker\":{\"color\":\"#FF6692\",\"pattern\":{\"shape\":\"\"}},\"name\":\"Paraguay\",\"offsetgroup\":\"Paraguay\",\"orientation\":\"h\",\"showlegend\":true,\"textposition\":\"auto\",\"x\":[21.036],\"xaxis\":\"x\",\"y\":[\"Paraguay\"],\"yaxis\":\"y\",\"type\":\"bar\"},{\"alignmentgroup\":\"True\",\"hovertemplate\":\"Pa\\u00eds=%{y}\\u003cbr\\u003eA\\u00f1o=2020\\u003cbr\\u003eTasa de Natalidad (por 1000 habitantes)=%{x}\\u003cextra\\u003e\\u003c\\u002fextra\\u003e\",\"legendgroup\":\"Peru\",\"marker\":{\"color\":\"#B6E880\",\"pattern\":{\"shape\":\"\"}},\"name\":\"Peru\",\"offsetgroup\":\"Peru\",\"orientation\":\"h\",\"showlegend\":true,\"textposition\":\"auto\",\"x\":[16.61],\"xaxis\":\"x\",\"y\":[\"Peru\"],\"yaxis\":\"y\",\"type\":\"bar\"},{\"alignmentgroup\":\"True\",\"hovertemplate\":\"Pa\\u00eds=%{y}\\u003cbr\\u003eA\\u00f1o=2020\\u003cbr\\u003eTasa de Natalidad (por 1000 habitantes)=%{x}\\u003cextra\\u003e\\u003c\\u002fextra\\u003e\",\"legendgroup\":\"Uruguay\",\"marker\":{\"color\":\"#FF97FF\",\"pattern\":{\"shape\":\"\"}},\"name\":\"Uruguay\",\"offsetgroup\":\"Uruguay\",\"orientation\":\"h\",\"showlegend\":true,\"textposition\":\"auto\",\"x\":[10.41],\"xaxis\":\"x\",\"y\":[\"Uruguay\"],\"yaxis\":\"y\",\"type\":\"bar\"}],\"name\":\"2020\"},{\"data\":[{\"alignmentgroup\":\"True\",\"hovertemplate\":\"Pa\\u00eds=%{y}\\u003cbr\\u003eA\\u00f1o=2021\\u003cbr\\u003eTasa de Natalidad (por 1000 habitantes)=%{x}\\u003cextra\\u003e\\u003c\\u002fextra\\u003e\",\"legendgroup\":\"Argentina\",\"marker\":{\"color\":\"#636efa\",\"pattern\":{\"shape\":\"\"}},\"name\":\"Argentina\",\"offsetgroup\":\"Argentina\",\"orientation\":\"h\",\"showlegend\":true,\"textposition\":\"auto\",\"x\":[11.682],\"xaxis\":\"x\",\"y\":[\"Argentina\"],\"yaxis\":\"y\",\"type\":\"bar\"},{\"alignmentgroup\":\"True\",\"hovertemplate\":\"Pa\\u00eds=%{y}\\u003cbr\\u003eA\\u00f1o=2021\\u003cbr\\u003eTasa de Natalidad (por 1000 habitantes)=%{x}\\u003cextra\\u003e\\u003c\\u002fextra\\u003e\",\"legendgroup\":\"Bolivia\",\"marker\":{\"color\":\"#EF553B\",\"pattern\":{\"shape\":\"\"}},\"name\":\"Bolivia\",\"offsetgroup\":\"Bolivia\",\"orientation\":\"h\",\"showlegend\":true,\"textposition\":\"auto\",\"x\":[21.808],\"xaxis\":\"x\",\"y\":[\"Bolivia\"],\"yaxis\":\"y\",\"type\":\"bar\"},{\"alignmentgroup\":\"True\",\"hovertemplate\":\"Pa\\u00eds=%{y}\\u003cbr\\u003eA\\u00f1o=2021\\u003cbr\\u003eTasa de Natalidad (por 1000 habitantes)=%{x}\\u003cextra\\u003e\\u003c\\u002fextra\\u003e\",\"legendgroup\":\"Brazil\",\"marker\":{\"color\":\"#00cc96\",\"pattern\":{\"shape\":\"\"}},\"name\":\"Brazil\",\"offsetgroup\":\"Brazil\",\"orientation\":\"h\",\"showlegend\":true,\"textposition\":\"auto\",\"x\":[12.754],\"xaxis\":\"x\",\"y\":[\"Brazil\"],\"yaxis\":\"y\",\"type\":\"bar\"},{\"alignmentgroup\":\"True\",\"hovertemplate\":\"Pa\\u00eds=%{y}\\u003cbr\\u003eA\\u00f1o=2021\\u003cbr\\u003eTasa de Natalidad (por 1000 habitantes)=%{x}\\u003cextra\\u003e\\u003c\\u002fextra\\u003e\",\"legendgroup\":\"Chile\",\"marker\":{\"color\":\"#ab63fa\",\"pattern\":{\"shape\":\"\"}},\"name\":\"Chile\",\"offsetgroup\":\"Chile\",\"orientation\":\"h\",\"showlegend\":true,\"textposition\":\"auto\",\"x\":[9.07],\"xaxis\":\"x\",\"y\":[\"Chile\"],\"yaxis\":\"y\",\"type\":\"bar\"},{\"alignmentgroup\":\"True\",\"hovertemplate\":\"Pa\\u00eds=%{y}\\u003cbr\\u003eA\\u00f1o=2021\\u003cbr\\u003eTasa de Natalidad (por 1000 habitantes)=%{x}\\u003cextra\\u003e\\u003c\\u002fextra\\u003e\",\"legendgroup\":\"Colombia\",\"marker\":{\"color\":\"#FFA15A\",\"pattern\":{\"shape\":\"\"}},\"name\":\"Colombia\",\"offsetgroup\":\"Colombia\",\"orientation\":\"h\",\"showlegend\":true,\"textposition\":\"auto\",\"x\":[13.947],\"xaxis\":\"x\",\"y\":[\"Colombia\"],\"yaxis\":\"y\",\"type\":\"bar\"},{\"alignmentgroup\":\"True\",\"hovertemplate\":\"Pa\\u00eds=%{y}\\u003cbr\\u003eA\\u00f1o=2021\\u003cbr\\u003eTasa de Natalidad (por 1000 habitantes)=%{x}\\u003cextra\\u003e\\u003c\\u002fextra\\u003e\",\"legendgroup\":\"Ecuador\",\"marker\":{\"color\":\"#19d3f3\",\"pattern\":{\"shape\":\"\"}},\"name\":\"Ecuador\",\"offsetgroup\":\"Ecuador\",\"orientation\":\"h\",\"showlegend\":true,\"textposition\":\"auto\",\"x\":[15.882],\"xaxis\":\"x\",\"y\":[\"Ecuador\"],\"yaxis\":\"y\",\"type\":\"bar\"},{\"alignmentgroup\":\"True\",\"hovertemplate\":\"Pa\\u00eds=%{y}\\u003cbr\\u003eA\\u00f1o=2021\\u003cbr\\u003eTasa de Natalidad (por 1000 habitantes)=%{x}\\u003cextra\\u003e\\u003c\\u002fextra\\u003e\",\"legendgroup\":\"Paraguay\",\"marker\":{\"color\":\"#FF6692\",\"pattern\":{\"shape\":\"\"}},\"name\":\"Paraguay\",\"offsetgroup\":\"Paraguay\",\"orientation\":\"h\",\"showlegend\":true,\"textposition\":\"auto\",\"x\":[20.689],\"xaxis\":\"x\",\"y\":[\"Paraguay\"],\"yaxis\":\"y\",\"type\":\"bar\"},{\"alignmentgroup\":\"True\",\"hovertemplate\":\"Pa\\u00eds=%{y}\\u003cbr\\u003eA\\u00f1o=2021\\u003cbr\\u003eTasa de Natalidad (por 1000 habitantes)=%{x}\\u003cextra\\u003e\\u003c\\u002fextra\\u003e\",\"legendgroup\":\"Peru\",\"marker\":{\"color\":\"#B6E880\",\"pattern\":{\"shape\":\"\"}},\"name\":\"Peru\",\"offsetgroup\":\"Peru\",\"orientation\":\"h\",\"showlegend\":true,\"textposition\":\"auto\",\"x\":[16.398],\"xaxis\":\"x\",\"y\":[\"Peru\"],\"yaxis\":\"y\",\"type\":\"bar\"},{\"alignmentgroup\":\"True\",\"hovertemplate\":\"Pa\\u00eds=%{y}\\u003cbr\\u003eA\\u00f1o=2021\\u003cbr\\u003eTasa de Natalidad (por 1000 habitantes)=%{x}\\u003cextra\\u003e\\u003c\\u002fextra\\u003e\",\"legendgroup\":\"Uruguay\",\"marker\":{\"color\":\"#FF97FF\",\"pattern\":{\"shape\":\"\"}},\"name\":\"Uruguay\",\"offsetgroup\":\"Uruguay\",\"orientation\":\"h\",\"showlegend\":true,\"textposition\":\"auto\",\"x\":[10.071],\"xaxis\":\"x\",\"y\":[\"Uruguay\"],\"yaxis\":\"y\",\"type\":\"bar\"}],\"name\":\"2021\"},{\"data\":[{\"alignmentgroup\":\"True\",\"hovertemplate\":\"Pa\\u00eds=%{y}\\u003cbr\\u003eA\\u00f1o=2022\\u003cbr\\u003eTasa de Natalidad (por 1000 habitantes)=%{x}\\u003cextra\\u003e\\u003c\\u002fextra\\u003e\",\"legendgroup\":\"Argentina\",\"marker\":{\"color\":\"#636efa\",\"pattern\":{\"shape\":\"\"}},\"name\":\"Argentina\",\"offsetgroup\":\"Argentina\",\"orientation\":\"h\",\"showlegend\":true,\"textposition\":\"auto\",\"x\":[10.926],\"xaxis\":\"x\",\"y\":[\"Argentina\"],\"yaxis\":\"y\",\"type\":\"bar\"},{\"alignmentgroup\":\"True\",\"hovertemplate\":\"Pa\\u00eds=%{y}\\u003cbr\\u003eA\\u00f1o=2022\\u003cbr\\u003eTasa de Natalidad (por 1000 habitantes)=%{x}\\u003cextra\\u003e\\u003c\\u002fextra\\u003e\",\"legendgroup\":\"Bolivia\",\"marker\":{\"color\":\"#EF553B\",\"pattern\":{\"shape\":\"\"}},\"name\":\"Bolivia\",\"offsetgroup\":\"Bolivia\",\"orientation\":\"h\",\"showlegend\":true,\"textposition\":\"auto\",\"x\":[21.566],\"xaxis\":\"x\",\"y\":[\"Bolivia\"],\"yaxis\":\"y\",\"type\":\"bar\"},{\"alignmentgroup\":\"True\",\"hovertemplate\":\"Pa\\u00eds=%{y}\\u003cbr\\u003eA\\u00f1o=2022\\u003cbr\\u003eTasa de Natalidad (por 1000 habitantes)=%{x}\\u003cextra\\u003e\\u003c\\u002fextra\\u003e\",\"legendgroup\":\"Brazil\",\"marker\":{\"color\":\"#00cc96\",\"pattern\":{\"shape\":\"\"}},\"name\":\"Brazil\",\"offsetgroup\":\"Brazil\",\"orientation\":\"h\",\"showlegend\":true,\"textposition\":\"auto\",\"x\":[12.555],\"xaxis\":\"x\",\"y\":[\"Brazil\"],\"yaxis\":\"y\",\"type\":\"bar\"},{\"alignmentgroup\":\"True\",\"hovertemplate\":\"Pa\\u00eds=%{y}\\u003cbr\\u003eA\\u00f1o=2022\\u003cbr\\u003eTasa de Natalidad (por 1000 habitantes)=%{x}\\u003cextra\\u003e\\u003c\\u002fextra\\u003e\",\"legendgroup\":\"Chile\",\"marker\":{\"color\":\"#ab63fa\",\"pattern\":{\"shape\":\"\"}},\"name\":\"Chile\",\"offsetgroup\":\"Chile\",\"orientation\":\"h\",\"showlegend\":true,\"textposition\":\"auto\",\"x\":[9.672],\"xaxis\":\"x\",\"y\":[\"Chile\"],\"yaxis\":\"y\",\"type\":\"bar\"},{\"alignmentgroup\":\"True\",\"hovertemplate\":\"Pa\\u00eds=%{y}\\u003cbr\\u003eA\\u00f1o=2022\\u003cbr\\u003eTasa de Natalidad (por 1000 habitantes)=%{x}\\u003cextra\\u003e\\u003c\\u002fextra\\u003e\",\"legendgroup\":\"Colombia\",\"marker\":{\"color\":\"#FFA15A\",\"pattern\":{\"shape\":\"\"}},\"name\":\"Colombia\",\"offsetgroup\":\"Colombia\",\"orientation\":\"h\",\"showlegend\":true,\"textposition\":\"auto\",\"x\":[13.731],\"xaxis\":\"x\",\"y\":[\"Colombia\"],\"yaxis\":\"y\",\"type\":\"bar\"},{\"alignmentgroup\":\"True\",\"hovertemplate\":\"Pa\\u00eds=%{y}\\u003cbr\\u003eA\\u00f1o=2022\\u003cbr\\u003eTasa de Natalidad (por 1000 habitantes)=%{x}\\u003cextra\\u003e\\u003c\\u002fextra\\u003e\",\"legendgroup\":\"Ecuador\",\"marker\":{\"color\":\"#19d3f3\",\"pattern\":{\"shape\":\"\"}},\"name\":\"Ecuador\",\"offsetgroup\":\"Ecuador\",\"orientation\":\"h\",\"showlegend\":true,\"textposition\":\"auto\",\"x\":[15.423],\"xaxis\":\"x\",\"y\":[\"Ecuador\"],\"yaxis\":\"y\",\"type\":\"bar\"},{\"alignmentgroup\":\"True\",\"hovertemplate\":\"Pa\\u00eds=%{y}\\u003cbr\\u003eA\\u00f1o=2022\\u003cbr\\u003eTasa de Natalidad (por 1000 habitantes)=%{x}\\u003cextra\\u003e\\u003c\\u002fextra\\u003e\",\"legendgroup\":\"Paraguay\",\"marker\":{\"color\":\"#FF6692\",\"pattern\":{\"shape\":\"\"}},\"name\":\"Paraguay\",\"offsetgroup\":\"Paraguay\",\"orientation\":\"h\",\"showlegend\":true,\"textposition\":\"auto\",\"x\":[20.356],\"xaxis\":\"x\",\"y\":[\"Paraguay\"],\"yaxis\":\"y\",\"type\":\"bar\"},{\"alignmentgroup\":\"True\",\"hovertemplate\":\"Pa\\u00eds=%{y}\\u003cbr\\u003eA\\u00f1o=2022\\u003cbr\\u003eTasa de Natalidad (por 1000 habitantes)=%{x}\\u003cextra\\u003e\\u003c\\u002fextra\\u003e\",\"legendgroup\":\"Peru\",\"marker\":{\"color\":\"#B6E880\",\"pattern\":{\"shape\":\"\"}},\"name\":\"Peru\",\"offsetgroup\":\"Peru\",\"orientation\":\"h\",\"showlegend\":true,\"textposition\":\"auto\",\"x\":[16.183],\"xaxis\":\"x\",\"y\":[\"Peru\"],\"yaxis\":\"y\",\"type\":\"bar\"},{\"alignmentgroup\":\"True\",\"hovertemplate\":\"Pa\\u00eds=%{y}\\u003cbr\\u003eA\\u00f1o=2022\\u003cbr\\u003eTasa de Natalidad (por 1000 habitantes)=%{x}\\u003cextra\\u003e\\u003c\\u002fextra\\u003e\",\"legendgroup\":\"Uruguay\",\"marker\":{\"color\":\"#FF97FF\",\"pattern\":{\"shape\":\"\"}},\"name\":\"Uruguay\",\"offsetgroup\":\"Uruguay\",\"orientation\":\"h\",\"showlegend\":true,\"textposition\":\"auto\",\"x\":[9.958],\"xaxis\":\"x\",\"y\":[\"Uruguay\"],\"yaxis\":\"y\",\"type\":\"bar\"}],\"name\":\"2022\"},{\"data\":[{\"alignmentgroup\":\"True\",\"hovertemplate\":\"Pa\\u00eds=%{y}\\u003cbr\\u003eA\\u00f1o=2023\\u003cbr\\u003eTasa de Natalidad (por 1000 habitantes)=%{x}\\u003cextra\\u003e\\u003c\\u002fextra\\u003e\",\"legendgroup\":\"Argentina\",\"marker\":{\"color\":\"#636efa\",\"pattern\":{\"shape\":\"\"}},\"name\":\"Argentina\",\"offsetgroup\":\"Argentina\",\"orientation\":\"h\",\"showlegend\":true,\"textposition\":\"auto\",\"x\":[11.064],\"xaxis\":\"x\",\"y\":[\"Argentina\"],\"yaxis\":\"y\",\"type\":\"bar\"},{\"alignmentgroup\":\"True\",\"hovertemplate\":\"Pa\\u00eds=%{y}\\u003cbr\\u003eA\\u00f1o=2023\\u003cbr\\u003eTasa de Natalidad (por 1000 habitantes)=%{x}\\u003cextra\\u003e\\u003c\\u002fextra\\u003e\",\"legendgroup\":\"Bolivia\",\"marker\":{\"color\":\"#EF553B\",\"pattern\":{\"shape\":\"\"}},\"name\":\"Bolivia\",\"offsetgroup\":\"Bolivia\",\"orientation\":\"h\",\"showlegend\":true,\"textposition\":\"auto\",\"x\":[21.247],\"xaxis\":\"x\",\"y\":[\"Bolivia\"],\"yaxis\":\"y\",\"type\":\"bar\"},{\"alignmentgroup\":\"True\",\"hovertemplate\":\"Pa\\u00eds=%{y}\\u003cbr\\u003eA\\u00f1o=2023\\u003cbr\\u003eTasa de Natalidad (por 1000 habitantes)=%{x}\\u003cextra\\u003e\\u003c\\u002fextra\\u003e\",\"legendgroup\":\"Brazil\",\"marker\":{\"color\":\"#00cc96\",\"pattern\":{\"shape\":\"\"}},\"name\":\"Brazil\",\"offsetgroup\":\"Brazil\",\"orientation\":\"h\",\"showlegend\":true,\"textposition\":\"auto\",\"x\":[12.322],\"xaxis\":\"x\",\"y\":[\"Brazil\"],\"yaxis\":\"y\",\"type\":\"bar\"},{\"alignmentgroup\":\"True\",\"hovertemplate\":\"Pa\\u00eds=%{y}\\u003cbr\\u003eA\\u00f1o=2023\\u003cbr\\u003eTasa de Natalidad (por 1000 habitantes)=%{x}\\u003cextra\\u003e\\u003c\\u002fextra\\u003e\",\"legendgroup\":\"Chile\",\"marker\":{\"color\":\"#ab63fa\",\"pattern\":{\"shape\":\"\"}},\"name\":\"Chile\",\"offsetgroup\":\"Chile\",\"orientation\":\"h\",\"showlegend\":true,\"textposition\":\"auto\",\"x\":[8.963],\"xaxis\":\"x\",\"y\":[\"Chile\"],\"yaxis\":\"y\",\"type\":\"bar\"},{\"alignmentgroup\":\"True\",\"hovertemplate\":\"Pa\\u00eds=%{y}\\u003cbr\\u003eA\\u00f1o=2023\\u003cbr\\u003eTasa de Natalidad (por 1000 habitantes)=%{x}\\u003cextra\\u003e\\u003c\\u002fextra\\u003e\",\"legendgroup\":\"Colombia\",\"marker\":{\"color\":\"#FFA15A\",\"pattern\":{\"shape\":\"\"}},\"name\":\"Colombia\",\"offsetgroup\":\"Colombia\",\"orientation\":\"h\",\"showlegend\":true,\"textposition\":\"auto\",\"x\":[13.475],\"xaxis\":\"x\",\"y\":[\"Colombia\"],\"yaxis\":\"y\",\"type\":\"bar\"},{\"alignmentgroup\":\"True\",\"hovertemplate\":\"Pa\\u00eds=%{y}\\u003cbr\\u003eA\\u00f1o=2023\\u003cbr\\u003eTasa de Natalidad (por 1000 habitantes)=%{x}\\u003cextra\\u003e\\u003c\\u002fextra\\u003e\",\"legendgroup\":\"Ecuador\",\"marker\":{\"color\":\"#19d3f3\",\"pattern\":{\"shape\":\"\"}},\"name\":\"Ecuador\",\"offsetgroup\":\"Ecuador\",\"orientation\":\"h\",\"showlegend\":true,\"textposition\":\"auto\",\"x\":[15.033],\"xaxis\":\"x\",\"y\":[\"Ecuador\"],\"yaxis\":\"y\",\"type\":\"bar\"},{\"alignmentgroup\":\"True\",\"hovertemplate\":\"Pa\\u00eds=%{y}\\u003cbr\\u003eA\\u00f1o=2023\\u003cbr\\u003eTasa de Natalidad (por 1000 habitantes)=%{x}\\u003cextra\\u003e\\u003c\\u002fextra\\u003e\",\"legendgroup\":\"Paraguay\",\"marker\":{\"color\":\"#FF6692\",\"pattern\":{\"shape\":\"\"}},\"name\":\"Paraguay\",\"offsetgroup\":\"Paraguay\",\"orientation\":\"h\",\"showlegend\":true,\"textposition\":\"auto\",\"x\":[19.985],\"xaxis\":\"x\",\"y\":[\"Paraguay\"],\"yaxis\":\"y\",\"type\":\"bar\"},{\"alignmentgroup\":\"True\",\"hovertemplate\":\"Pa\\u00eds=%{y}\\u003cbr\\u003eA\\u00f1o=2023\\u003cbr\\u003eTasa de Natalidad (por 1000 habitantes)=%{x}\\u003cextra\\u003e\\u003c\\u002fextra\\u003e\",\"legendgroup\":\"Peru\",\"marker\":{\"color\":\"#B6E880\",\"pattern\":{\"shape\":\"\"}},\"name\":\"Peru\",\"offsetgroup\":\"Peru\",\"orientation\":\"h\",\"showlegend\":true,\"textposition\":\"auto\",\"x\":[15.944],\"xaxis\":\"x\",\"y\":[\"Peru\"],\"yaxis\":\"y\",\"type\":\"bar\"},{\"alignmentgroup\":\"True\",\"hovertemplate\":\"Pa\\u00eds=%{y}\\u003cbr\\u003eA\\u00f1o=2023\\u003cbr\\u003eTasa de Natalidad (por 1000 habitantes)=%{x}\\u003cextra\\u003e\\u003c\\u002fextra\\u003e\",\"legendgroup\":\"Uruguay\",\"marker\":{\"color\":\"#FF97FF\",\"pattern\":{\"shape\":\"\"}},\"name\":\"Uruguay\",\"offsetgroup\":\"Uruguay\",\"orientation\":\"h\",\"showlegend\":true,\"textposition\":\"auto\",\"x\":[9.871],\"xaxis\":\"x\",\"y\":[\"Uruguay\"],\"yaxis\":\"y\",\"type\":\"bar\"}],\"name\":\"2023\"}]);\n",
       "                        }).then(function(){\n",
       "                            \n",
       "var gd = document.getElementById('c1f1944a-902f-47c4-b7d8-b8d6d686b414');\n",
       "var x = new MutationObserver(function (mutations, observer) {{\n",
       "        var display = window.getComputedStyle(gd).display;\n",
       "        if (!display || display === 'none') {{\n",
       "            console.log([gd, 'removed!']);\n",
       "            Plotly.purge(gd);\n",
       "            observer.disconnect();\n",
       "        }}\n",
       "}});\n",
       "\n",
       "// Listen for the removal of the full notebook cells\n",
       "var notebookContainer = gd.closest('#notebook-container');\n",
       "if (notebookContainer) {{\n",
       "    x.observe(notebookContainer, {childList: true});\n",
       "}}\n",
       "\n",
       "// Listen for the clearing of the current output cell\n",
       "var outputEl = gd.closest('.output');\n",
       "if (outputEl) {{\n",
       "    x.observe(outputEl, {childList: true});\n",
       "}}\n",
       "\n",
       "                        })                };                });            </script>        </div>"
      ]
     },
     "metadata": {},
     "output_type": "display_data"
    }
   ],
   "source": [
    "# Importamos Plotly Express para gráficos interactivos\n",
    "import plotly.express as px  \n",
    "\n",
    "# Seleccionamos solo las columnas necesarias y eliminamos los valores nulos\n",
    "df_anim = df_filtrado[[\"Año\", \"País\", \"Tasa de Natalidad (por 1000 habitantes)\"]].dropna()\n",
    "\n",
    "# Crear gráfico de barras horizontales animadas\n",
    "fig = px.bar(\n",
    "    df_anim,                                # DataFrame de entrada\n",
    "    x=\"Tasa de Natalidad (por 1000 habitantes)\",  # Longitud de la barra (eje X)\n",
    "    y=\"País\",                               # País en eje Y (barras horizontales)\n",
    "    color=\"País\",                           # Color diferente por país\n",
    "    orientation='h',                        # Esto indica que las barras son horizontales\n",
    "    animation_frame=\"Año\",                  # Frame de animación: se actualiza por año\n",
    "    range_x=[0, df_anim[\"Tasa de Natalidad (por 1000 habitantes)\"].max() + 5],  # Ajusta el rango del eje X\n",
    "    title=\"🎬 Tasa de Natalidad (por 1000 hab.) en Sudamérica (2018–2024)\"  # Título del gráfico\n",
    ")\n",
    "\n",
    "# Personalizamos el gráfico\n",
    "fig.update_layout(\n",
    "    xaxis_title=\"Tasa de Natalidad (por 1000 habitantes)\",  # Etiqueta del eje X\n",
    "    yaxis_title=\"País\",                                     # Etiqueta del eje Y\n",
    "    template=\"plotly_white\",                                # Estilo limpio y profesional\n",
    "    width=800,                                              # Ancho del gráfico\n",
    "    height=500                                              # Alto del gráfico\n",
    ")\n",
    "\n",
    "# Mostrar gráfico animado e interactivo\n",
    "fig.show()\n",
    "\n"
   ]
  },
  {
   "cell_type": "markdown",
   "id": "db302a8e-56fc-44e1-a68b-3fae25660f6c",
   "metadata": {},
   "source": [
    "### ANÁLISIS DESCRIPTIVO \n",
    "Un análisis descriptivo del indicador \"Tasa de natalidad\" en Sudamérica, específicamente entre los años 2018 y 2024."
   ]
  },
  {
   "cell_type": "code",
   "execution_count": 19,
   "id": "e86ea7ec-0d24-4737-9df9-d3383bda8614",
   "metadata": {},
   "outputs": [
    {
     "name": "stdout",
     "output_type": "stream",
     "text": [
      "        País  Tasa de Natalidad (por 1000 habitantes)\n",
      "1    Bolivia                                21.908000\n",
      "6   Paraguay                                20.887167\n",
      "7       Peru                                16.486333\n",
      "5    Ecuador                                16.196000\n",
      "4   Colombia                                13.945333\n",
      "2     Brazil                                13.032667\n",
      "0  Argentina                                12.450833\n",
      "8    Uruguay                                10.481833\n",
      "3      Chile                                10.073333\n"
     ]
    }
   ],
   "source": [
    "\n",
    "# 1. Agrupar los datos por país y calcular el promedio de la Tasa de Natalidad\n",
    "promedios = df_filtrado.groupby(\"País\")[\"Tasa de Natalidad (por 1000 habitantes)\"].mean().reset_index()\n",
    "\n",
    "# 2. Ordenar los países de mayor a menor según su tasa promedio de natalidad\n",
    "promedios = promedios.sort_values(by=\"Tasa de Natalidad (por 1000 habitantes)\", ascending=False)\n",
    "\n",
    "# 3. Mostrar el DataFrame con los promedios ordenados\n",
    "print(promedios)\n"
   ]
  },
  {
   "cell_type": "code",
   "execution_count": 22,
   "id": "8b3fec90-3b11-4941-b23a-3f2d460faa11",
   "metadata": {},
   "outputs": [
    {
     "data": {
      "application/vnd.plotly.v1+json": {
       "config": {
        "plotlyServerURL": "https://plot.ly"
       },
       "data": [
        {
         "alignmentgroup": "True",
         "hovertemplate": "País=%{y}<br>Tasa de Natalidad=%{x}<extra></extra>",
         "legendgroup": "Bolivia",
         "marker": {
          "color": "#636efa",
          "pattern": {
           "shape": ""
          }
         },
         "name": "Bolivia",
         "offsetgroup": "Bolivia",
         "orientation": "h",
         "showlegend": true,
         "textposition": "auto",
         "type": "bar",
         "x": [
          21.908
         ],
         "xaxis": "x",
         "y": [
          "Bolivia"
         ],
         "yaxis": "y"
        },
        {
         "alignmentgroup": "True",
         "hovertemplate": "País=%{y}<br>Tasa de Natalidad=%{x}<extra></extra>",
         "legendgroup": "Paraguay",
         "marker": {
          "color": "#EF553B",
          "pattern": {
           "shape": ""
          }
         },
         "name": "Paraguay",
         "offsetgroup": "Paraguay",
         "orientation": "h",
         "showlegend": true,
         "textposition": "auto",
         "type": "bar",
         "x": [
          20.88716666666667
         ],
         "xaxis": "x",
         "y": [
          "Paraguay"
         ],
         "yaxis": "y"
        },
        {
         "alignmentgroup": "True",
         "hovertemplate": "País=%{y}<br>Tasa de Natalidad=%{x}<extra></extra>",
         "legendgroup": "Peru",
         "marker": {
          "color": "#00cc96",
          "pattern": {
           "shape": ""
          }
         },
         "name": "Peru",
         "offsetgroup": "Peru",
         "orientation": "h",
         "showlegend": true,
         "textposition": "auto",
         "type": "bar",
         "x": [
          16.486333333333334
         ],
         "xaxis": "x",
         "y": [
          "Peru"
         ],
         "yaxis": "y"
        },
        {
         "alignmentgroup": "True",
         "hovertemplate": "País=%{y}<br>Tasa de Natalidad=%{x}<extra></extra>",
         "legendgroup": "Ecuador",
         "marker": {
          "color": "#ab63fa",
          "pattern": {
           "shape": ""
          }
         },
         "name": "Ecuador",
         "offsetgroup": "Ecuador",
         "orientation": "h",
         "showlegend": true,
         "textposition": "auto",
         "type": "bar",
         "x": [
          16.196
         ],
         "xaxis": "x",
         "y": [
          "Ecuador"
         ],
         "yaxis": "y"
        },
        {
         "alignmentgroup": "True",
         "hovertemplate": "País=%{y}<br>Tasa de Natalidad=%{x}<extra></extra>",
         "legendgroup": "Colombia",
         "marker": {
          "color": "#FFA15A",
          "pattern": {
           "shape": ""
          }
         },
         "name": "Colombia",
         "offsetgroup": "Colombia",
         "orientation": "h",
         "showlegend": true,
         "textposition": "auto",
         "type": "bar",
         "x": [
          13.945333333333332
         ],
         "xaxis": "x",
         "y": [
          "Colombia"
         ],
         "yaxis": "y"
        },
        {
         "alignmentgroup": "True",
         "hovertemplate": "País=%{y}<br>Tasa de Natalidad=%{x}<extra></extra>",
         "legendgroup": "Brazil",
         "marker": {
          "color": "#19d3f3",
          "pattern": {
           "shape": ""
          }
         },
         "name": "Brazil",
         "offsetgroup": "Brazil",
         "orientation": "h",
         "showlegend": true,
         "textposition": "auto",
         "type": "bar",
         "x": [
          13.032666666666666
         ],
         "xaxis": "x",
         "y": [
          "Brazil"
         ],
         "yaxis": "y"
        },
        {
         "alignmentgroup": "True",
         "hovertemplate": "País=%{y}<br>Tasa de Natalidad=%{x}<extra></extra>",
         "legendgroup": "Argentina",
         "marker": {
          "color": "#FF6692",
          "pattern": {
           "shape": ""
          }
         },
         "name": "Argentina",
         "offsetgroup": "Argentina",
         "orientation": "h",
         "showlegend": true,
         "textposition": "auto",
         "type": "bar",
         "x": [
          12.450833333333334
         ],
         "xaxis": "x",
         "y": [
          "Argentina"
         ],
         "yaxis": "y"
        },
        {
         "alignmentgroup": "True",
         "hovertemplate": "País=%{y}<br>Tasa de Natalidad=%{x}<extra></extra>",
         "legendgroup": "Uruguay",
         "marker": {
          "color": "#B6E880",
          "pattern": {
           "shape": ""
          }
         },
         "name": "Uruguay",
         "offsetgroup": "Uruguay",
         "orientation": "h",
         "showlegend": true,
         "textposition": "auto",
         "type": "bar",
         "x": [
          10.481833333333332
         ],
         "xaxis": "x",
         "y": [
          "Uruguay"
         ],
         "yaxis": "y"
        },
        {
         "alignmentgroup": "True",
         "hovertemplate": "País=%{y}<br>Tasa de Natalidad=%{x}<extra></extra>",
         "legendgroup": "Chile",
         "marker": {
          "color": "#FF97FF",
          "pattern": {
           "shape": ""
          }
         },
         "name": "Chile",
         "offsetgroup": "Chile",
         "orientation": "h",
         "showlegend": true,
         "textposition": "auto",
         "type": "bar",
         "x": [
          10.073333333333332
         ],
         "xaxis": "x",
         "y": [
          "Chile"
         ],
         "yaxis": "y"
        }
       ],
       "layout": {
        "autosize": true,
        "barmode": "relative",
        "legend": {
         "title": {
          "text": "País"
         },
         "tracegroupgap": 0
        },
        "showlegend": false,
        "template": {
         "data": {
          "bar": [
           {
            "error_x": {
             "color": "#2a3f5f"
            },
            "error_y": {
             "color": "#2a3f5f"
            },
            "marker": {
             "line": {
              "color": "white",
              "width": 0.5
             },
             "pattern": {
              "fillmode": "overlay",
              "size": 10,
              "solidity": 0.2
             }
            },
            "type": "bar"
           }
          ],
          "barpolar": [
           {
            "marker": {
             "line": {
              "color": "white",
              "width": 0.5
             },
             "pattern": {
              "fillmode": "overlay",
              "size": 10,
              "solidity": 0.2
             }
            },
            "type": "barpolar"
           }
          ],
          "carpet": [
           {
            "aaxis": {
             "endlinecolor": "#2a3f5f",
             "gridcolor": "#C8D4E3",
             "linecolor": "#C8D4E3",
             "minorgridcolor": "#C8D4E3",
             "startlinecolor": "#2a3f5f"
            },
            "baxis": {
             "endlinecolor": "#2a3f5f",
             "gridcolor": "#C8D4E3",
             "linecolor": "#C8D4E3",
             "minorgridcolor": "#C8D4E3",
             "startlinecolor": "#2a3f5f"
            },
            "type": "carpet"
           }
          ],
          "choropleth": [
           {
            "colorbar": {
             "outlinewidth": 0,
             "ticks": ""
            },
            "type": "choropleth"
           }
          ],
          "contour": [
           {
            "colorbar": {
             "outlinewidth": 0,
             "ticks": ""
            },
            "colorscale": [
             [
              0,
              "#0d0887"
             ],
             [
              0.1111111111111111,
              "#46039f"
             ],
             [
              0.2222222222222222,
              "#7201a8"
             ],
             [
              0.3333333333333333,
              "#9c179e"
             ],
             [
              0.4444444444444444,
              "#bd3786"
             ],
             [
              0.5555555555555556,
              "#d8576b"
             ],
             [
              0.6666666666666666,
              "#ed7953"
             ],
             [
              0.7777777777777778,
              "#fb9f3a"
             ],
             [
              0.8888888888888888,
              "#fdca26"
             ],
             [
              1,
              "#f0f921"
             ]
            ],
            "type": "contour"
           }
          ],
          "contourcarpet": [
           {
            "colorbar": {
             "outlinewidth": 0,
             "ticks": ""
            },
            "type": "contourcarpet"
           }
          ],
          "heatmap": [
           {
            "colorbar": {
             "outlinewidth": 0,
             "ticks": ""
            },
            "colorscale": [
             [
              0,
              "#0d0887"
             ],
             [
              0.1111111111111111,
              "#46039f"
             ],
             [
              0.2222222222222222,
              "#7201a8"
             ],
             [
              0.3333333333333333,
              "#9c179e"
             ],
             [
              0.4444444444444444,
              "#bd3786"
             ],
             [
              0.5555555555555556,
              "#d8576b"
             ],
             [
              0.6666666666666666,
              "#ed7953"
             ],
             [
              0.7777777777777778,
              "#fb9f3a"
             ],
             [
              0.8888888888888888,
              "#fdca26"
             ],
             [
              1,
              "#f0f921"
             ]
            ],
            "type": "heatmap"
           }
          ],
          "heatmapgl": [
           {
            "colorbar": {
             "outlinewidth": 0,
             "ticks": ""
            },
            "colorscale": [
             [
              0,
              "#0d0887"
             ],
             [
              0.1111111111111111,
              "#46039f"
             ],
             [
              0.2222222222222222,
              "#7201a8"
             ],
             [
              0.3333333333333333,
              "#9c179e"
             ],
             [
              0.4444444444444444,
              "#bd3786"
             ],
             [
              0.5555555555555556,
              "#d8576b"
             ],
             [
              0.6666666666666666,
              "#ed7953"
             ],
             [
              0.7777777777777778,
              "#fb9f3a"
             ],
             [
              0.8888888888888888,
              "#fdca26"
             ],
             [
              1,
              "#f0f921"
             ]
            ],
            "type": "heatmapgl"
           }
          ],
          "histogram": [
           {
            "marker": {
             "pattern": {
              "fillmode": "overlay",
              "size": 10,
              "solidity": 0.2
             }
            },
            "type": "histogram"
           }
          ],
          "histogram2d": [
           {
            "colorbar": {
             "outlinewidth": 0,
             "ticks": ""
            },
            "colorscale": [
             [
              0,
              "#0d0887"
             ],
             [
              0.1111111111111111,
              "#46039f"
             ],
             [
              0.2222222222222222,
              "#7201a8"
             ],
             [
              0.3333333333333333,
              "#9c179e"
             ],
             [
              0.4444444444444444,
              "#bd3786"
             ],
             [
              0.5555555555555556,
              "#d8576b"
             ],
             [
              0.6666666666666666,
              "#ed7953"
             ],
             [
              0.7777777777777778,
              "#fb9f3a"
             ],
             [
              0.8888888888888888,
              "#fdca26"
             ],
             [
              1,
              "#f0f921"
             ]
            ],
            "type": "histogram2d"
           }
          ],
          "histogram2dcontour": [
           {
            "colorbar": {
             "outlinewidth": 0,
             "ticks": ""
            },
            "colorscale": [
             [
              0,
              "#0d0887"
             ],
             [
              0.1111111111111111,
              "#46039f"
             ],
             [
              0.2222222222222222,
              "#7201a8"
             ],
             [
              0.3333333333333333,
              "#9c179e"
             ],
             [
              0.4444444444444444,
              "#bd3786"
             ],
             [
              0.5555555555555556,
              "#d8576b"
             ],
             [
              0.6666666666666666,
              "#ed7953"
             ],
             [
              0.7777777777777778,
              "#fb9f3a"
             ],
             [
              0.8888888888888888,
              "#fdca26"
             ],
             [
              1,
              "#f0f921"
             ]
            ],
            "type": "histogram2dcontour"
           }
          ],
          "mesh3d": [
           {
            "colorbar": {
             "outlinewidth": 0,
             "ticks": ""
            },
            "type": "mesh3d"
           }
          ],
          "parcoords": [
           {
            "line": {
             "colorbar": {
              "outlinewidth": 0,
              "ticks": ""
             }
            },
            "type": "parcoords"
           }
          ],
          "pie": [
           {
            "automargin": true,
            "type": "pie"
           }
          ],
          "scatter": [
           {
            "fillpattern": {
             "fillmode": "overlay",
             "size": 10,
             "solidity": 0.2
            },
            "type": "scatter"
           }
          ],
          "scatter3d": [
           {
            "line": {
             "colorbar": {
              "outlinewidth": 0,
              "ticks": ""
             }
            },
            "marker": {
             "colorbar": {
              "outlinewidth": 0,
              "ticks": ""
             }
            },
            "type": "scatter3d"
           }
          ],
          "scattercarpet": [
           {
            "marker": {
             "colorbar": {
              "outlinewidth": 0,
              "ticks": ""
             }
            },
            "type": "scattercarpet"
           }
          ],
          "scattergeo": [
           {
            "marker": {
             "colorbar": {
              "outlinewidth": 0,
              "ticks": ""
             }
            },
            "type": "scattergeo"
           }
          ],
          "scattergl": [
           {
            "marker": {
             "colorbar": {
              "outlinewidth": 0,
              "ticks": ""
             }
            },
            "type": "scattergl"
           }
          ],
          "scattermapbox": [
           {
            "marker": {
             "colorbar": {
              "outlinewidth": 0,
              "ticks": ""
             }
            },
            "type": "scattermapbox"
           }
          ],
          "scatterpolar": [
           {
            "marker": {
             "colorbar": {
              "outlinewidth": 0,
              "ticks": ""
             }
            },
            "type": "scatterpolar"
           }
          ],
          "scatterpolargl": [
           {
            "marker": {
             "colorbar": {
              "outlinewidth": 0,
              "ticks": ""
             }
            },
            "type": "scatterpolargl"
           }
          ],
          "scatterternary": [
           {
            "marker": {
             "colorbar": {
              "outlinewidth": 0,
              "ticks": ""
             }
            },
            "type": "scatterternary"
           }
          ],
          "surface": [
           {
            "colorbar": {
             "outlinewidth": 0,
             "ticks": ""
            },
            "colorscale": [
             [
              0,
              "#0d0887"
             ],
             [
              0.1111111111111111,
              "#46039f"
             ],
             [
              0.2222222222222222,
              "#7201a8"
             ],
             [
              0.3333333333333333,
              "#9c179e"
             ],
             [
              0.4444444444444444,
              "#bd3786"
             ],
             [
              0.5555555555555556,
              "#d8576b"
             ],
             [
              0.6666666666666666,
              "#ed7953"
             ],
             [
              0.7777777777777778,
              "#fb9f3a"
             ],
             [
              0.8888888888888888,
              "#fdca26"
             ],
             [
              1,
              "#f0f921"
             ]
            ],
            "type": "surface"
           }
          ],
          "table": [
           {
            "cells": {
             "fill": {
              "color": "#EBF0F8"
             },
             "line": {
              "color": "white"
             }
            },
            "header": {
             "fill": {
              "color": "#C8D4E3"
             },
             "line": {
              "color": "white"
             }
            },
            "type": "table"
           }
          ]
         },
         "layout": {
          "annotationdefaults": {
           "arrowcolor": "#2a3f5f",
           "arrowhead": 0,
           "arrowwidth": 1
          },
          "autotypenumbers": "strict",
          "coloraxis": {
           "colorbar": {
            "outlinewidth": 0,
            "ticks": ""
           }
          },
          "colorscale": {
           "diverging": [
            [
             0,
             "#8e0152"
            ],
            [
             0.1,
             "#c51b7d"
            ],
            [
             0.2,
             "#de77ae"
            ],
            [
             0.3,
             "#f1b6da"
            ],
            [
             0.4,
             "#fde0ef"
            ],
            [
             0.5,
             "#f7f7f7"
            ],
            [
             0.6,
             "#e6f5d0"
            ],
            [
             0.7,
             "#b8e186"
            ],
            [
             0.8,
             "#7fbc41"
            ],
            [
             0.9,
             "#4d9221"
            ],
            [
             1,
             "#276419"
            ]
           ],
           "sequential": [
            [
             0,
             "#0d0887"
            ],
            [
             0.1111111111111111,
             "#46039f"
            ],
            [
             0.2222222222222222,
             "#7201a8"
            ],
            [
             0.3333333333333333,
             "#9c179e"
            ],
            [
             0.4444444444444444,
             "#bd3786"
            ],
            [
             0.5555555555555556,
             "#d8576b"
            ],
            [
             0.6666666666666666,
             "#ed7953"
            ],
            [
             0.7777777777777778,
             "#fb9f3a"
            ],
            [
             0.8888888888888888,
             "#fdca26"
            ],
            [
             1,
             "#f0f921"
            ]
           ],
           "sequentialminus": [
            [
             0,
             "#0d0887"
            ],
            [
             0.1111111111111111,
             "#46039f"
            ],
            [
             0.2222222222222222,
             "#7201a8"
            ],
            [
             0.3333333333333333,
             "#9c179e"
            ],
            [
             0.4444444444444444,
             "#bd3786"
            ],
            [
             0.5555555555555556,
             "#d8576b"
            ],
            [
             0.6666666666666666,
             "#ed7953"
            ],
            [
             0.7777777777777778,
             "#fb9f3a"
            ],
            [
             0.8888888888888888,
             "#fdca26"
            ],
            [
             1,
             "#f0f921"
            ]
           ]
          },
          "colorway": [
           "#636efa",
           "#EF553B",
           "#00cc96",
           "#ab63fa",
           "#FFA15A",
           "#19d3f3",
           "#FF6692",
           "#B6E880",
           "#FF97FF",
           "#FECB52"
          ],
          "font": {
           "color": "#2a3f5f"
          },
          "geo": {
           "bgcolor": "white",
           "lakecolor": "white",
           "landcolor": "white",
           "showlakes": true,
           "showland": true,
           "subunitcolor": "#C8D4E3"
          },
          "hoverlabel": {
           "align": "left"
          },
          "hovermode": "closest",
          "mapbox": {
           "style": "light"
          },
          "paper_bgcolor": "white",
          "plot_bgcolor": "white",
          "polar": {
           "angularaxis": {
            "gridcolor": "#EBF0F8",
            "linecolor": "#EBF0F8",
            "ticks": ""
           },
           "bgcolor": "white",
           "radialaxis": {
            "gridcolor": "#EBF0F8",
            "linecolor": "#EBF0F8",
            "ticks": ""
           }
          },
          "scene": {
           "xaxis": {
            "backgroundcolor": "white",
            "gridcolor": "#DFE8F3",
            "gridwidth": 2,
            "linecolor": "#EBF0F8",
            "showbackground": true,
            "ticks": "",
            "zerolinecolor": "#EBF0F8"
           },
           "yaxis": {
            "backgroundcolor": "white",
            "gridcolor": "#DFE8F3",
            "gridwidth": 2,
            "linecolor": "#EBF0F8",
            "showbackground": true,
            "ticks": "",
            "zerolinecolor": "#EBF0F8"
           },
           "zaxis": {
            "backgroundcolor": "white",
            "gridcolor": "#DFE8F3",
            "gridwidth": 2,
            "linecolor": "#EBF0F8",
            "showbackground": true,
            "ticks": "",
            "zerolinecolor": "#EBF0F8"
           }
          },
          "shapedefaults": {
           "line": {
            "color": "#2a3f5f"
           }
          },
          "ternary": {
           "aaxis": {
            "gridcolor": "#DFE8F3",
            "linecolor": "#A2B1C6",
            "ticks": ""
           },
           "baxis": {
            "gridcolor": "#DFE8F3",
            "linecolor": "#A2B1C6",
            "ticks": ""
           },
           "bgcolor": "white",
           "caxis": {
            "gridcolor": "#DFE8F3",
            "linecolor": "#A2B1C6",
            "ticks": ""
           }
          },
          "title": {
           "x": 0.05
          },
          "xaxis": {
           "automargin": true,
           "gridcolor": "#EBF0F8",
           "linecolor": "#EBF0F8",
           "ticks": "",
           "title": {
            "standoff": 15
           },
           "zerolinecolor": "#EBF0F8",
           "zerolinewidth": 2
          },
          "yaxis": {
           "automargin": true,
           "gridcolor": "#EBF0F8",
           "linecolor": "#EBF0F8",
           "ticks": "",
           "title": {
            "standoff": 15
           },
           "zerolinecolor": "#EBF0F8",
           "zerolinewidth": 2
          }
         }
        },
        "title": {
         "text": "📊 Promedio de Tasa de Natalidad (2018–2024) en Sudamérica"
        },
        "xaxis": {
         "anchor": "y",
         "autorange": true,
         "domain": [
          0,
          1
         ],
         "range": [
          0,
          23.06105263157895
         ],
         "title": {
          "text": "Tasa promedio (por 1000 habitantes)"
         },
         "type": "linear"
        },
        "yaxis": {
         "anchor": "x",
         "autorange": true,
         "categoryarray": [
          "Chile",
          "Uruguay",
          "Argentina",
          "Brazil",
          "Colombia",
          "Ecuador",
          "Peru",
          "Paraguay",
          "Bolivia"
         ],
         "categoryorder": "array",
         "domain": [
          0,
          1
         ],
         "range": [
          -0.5,
          8.5
         ],
         "title": {
          "text": "País"
         },
         "type": "category"
        }
       }
      },
      "image/png": "[encoded data removed]",
      "text/html": [
       "<div>                            <div id=\"4872eefd-4422-48f8-8c7f-b8e2d5e7a90d\" class=\"plotly-graph-div\" style=\"height:500px; width:100%;\"></div>            <script type=\"text/javascript\">                require([\"plotly\"], function(Plotly) {                    window.PLOTLYENV=window.PLOTLYENV || {};                                    if (document.getElementById(\"4872eefd-4422-48f8-8c7f-b8e2d5e7a90d\")) {                    Plotly.newPlot(                        \"4872eefd-4422-48f8-8c7f-b8e2d5e7a90d\",                        [{\"alignmentgroup\":\"True\",\"hovertemplate\":\"Pa\\u00eds=%{y}\\u003cbr\\u003eTasa de Natalidad=%{x}\\u003cextra\\u003e\\u003c\\u002fextra\\u003e\",\"legendgroup\":\"Bolivia\",\"marker\":{\"color\":\"#636efa\",\"pattern\":{\"shape\":\"\"}},\"name\":\"Bolivia\",\"offsetgroup\":\"Bolivia\",\"orientation\":\"h\",\"showlegend\":true,\"textposition\":\"auto\",\"x\":[21.908],\"xaxis\":\"x\",\"y\":[\"Bolivia\"],\"yaxis\":\"y\",\"type\":\"bar\"},{\"alignmentgroup\":\"True\",\"hovertemplate\":\"Pa\\u00eds=%{y}\\u003cbr\\u003eTasa de Natalidad=%{x}\\u003cextra\\u003e\\u003c\\u002fextra\\u003e\",\"legendgroup\":\"Paraguay\",\"marker\":{\"color\":\"#EF553B\",\"pattern\":{\"shape\":\"\"}},\"name\":\"Paraguay\",\"offsetgroup\":\"Paraguay\",\"orientation\":\"h\",\"showlegend\":true,\"textposition\":\"auto\",\"x\":[20.88716666666667],\"xaxis\":\"x\",\"y\":[\"Paraguay\"],\"yaxis\":\"y\",\"type\":\"bar\"},{\"alignmentgroup\":\"True\",\"hovertemplate\":\"Pa\\u00eds=%{y}\\u003cbr\\u003eTasa de Natalidad=%{x}\\u003cextra\\u003e\\u003c\\u002fextra\\u003e\",\"legendgroup\":\"Peru\",\"marker\":{\"color\":\"#00cc96\",\"pattern\":{\"shape\":\"\"}},\"name\":\"Peru\",\"offsetgroup\":\"Peru\",\"orientation\":\"h\",\"showlegend\":true,\"textposition\":\"auto\",\"x\":[16.486333333333334],\"xaxis\":\"x\",\"y\":[\"Peru\"],\"yaxis\":\"y\",\"type\":\"bar\"},{\"alignmentgroup\":\"True\",\"hovertemplate\":\"Pa\\u00eds=%{y}\\u003cbr\\u003eTasa de Natalidad=%{x}\\u003cextra\\u003e\\u003c\\u002fextra\\u003e\",\"legendgroup\":\"Ecuador\",\"marker\":{\"color\":\"#ab63fa\",\"pattern\":{\"shape\":\"\"}},\"name\":\"Ecuador\",\"offsetgroup\":\"Ecuador\",\"orientation\":\"h\",\"showlegend\":true,\"textposition\":\"auto\",\"x\":[16.196],\"xaxis\":\"x\",\"y\":[\"Ecuador\"],\"yaxis\":\"y\",\"type\":\"bar\"},{\"alignmentgroup\":\"True\",\"hovertemplate\":\"Pa\\u00eds=%{y}\\u003cbr\\u003eTasa de Natalidad=%{x}\\u003cextra\\u003e\\u003c\\u002fextra\\u003e\",\"legendgroup\":\"Colombia\",\"marker\":{\"color\":\"#FFA15A\",\"pattern\":{\"shape\":\"\"}},\"name\":\"Colombia\",\"offsetgroup\":\"Colombia\",\"orientation\":\"h\",\"showlegend\":true,\"textposition\":\"auto\",\"x\":[13.945333333333332],\"xaxis\":\"x\",\"y\":[\"Colombia\"],\"yaxis\":\"y\",\"type\":\"bar\"},{\"alignmentgroup\":\"True\",\"hovertemplate\":\"Pa\\u00eds=%{y}\\u003cbr\\u003eTasa de Natalidad=%{x}\\u003cextra\\u003e\\u003c\\u002fextra\\u003e\",\"legendgroup\":\"Brazil\",\"marker\":{\"color\":\"#19d3f3\",\"pattern\":{\"shape\":\"\"}},\"name\":\"Brazil\",\"offsetgroup\":\"Brazil\",\"orientation\":\"h\",\"showlegend\":true,\"textposition\":\"auto\",\"x\":[13.032666666666666],\"xaxis\":\"x\",\"y\":[\"Brazil\"],\"yaxis\":\"y\",\"type\":\"bar\"},{\"alignmentgroup\":\"True\",\"hovertemplate\":\"Pa\\u00eds=%{y}\\u003cbr\\u003eTasa de Natalidad=%{x}\\u003cextra\\u003e\\u003c\\u002fextra\\u003e\",\"legendgroup\":\"Argentina\",\"marker\":{\"color\":\"#FF6692\",\"pattern\":{\"shape\":\"\"}},\"name\":\"Argentina\",\"offsetgroup\":\"Argentina\",\"orientation\":\"h\",\"showlegend\":true,\"textposition\":\"auto\",\"x\":[12.450833333333334],\"xaxis\":\"x\",\"y\":[\"Argentina\"],\"yaxis\":\"y\",\"type\":\"bar\"},{\"alignmentgroup\":\"True\",\"hovertemplate\":\"Pa\\u00eds=%{y}\\u003cbr\\u003eTasa de Natalidad=%{x}\\u003cextra\\u003e\\u003c\\u002fextra\\u003e\",\"legendgroup\":\"Uruguay\",\"marker\":{\"color\":\"#B6E880\",\"pattern\":{\"shape\":\"\"}},\"name\":\"Uruguay\",\"offsetgroup\":\"Uruguay\",\"orientation\":\"h\",\"showlegend\":true,\"textposition\":\"auto\",\"x\":[10.481833333333332],\"xaxis\":\"x\",\"y\":[\"Uruguay\"],\"yaxis\":\"y\",\"type\":\"bar\"},{\"alignmentgroup\":\"True\",\"hovertemplate\":\"Pa\\u00eds=%{y}\\u003cbr\\u003eTasa de Natalidad=%{x}\\u003cextra\\u003e\\u003c\\u002fextra\\u003e\",\"legendgroup\":\"Chile\",\"marker\":{\"color\":\"#FF97FF\",\"pattern\":{\"shape\":\"\"}},\"name\":\"Chile\",\"offsetgroup\":\"Chile\",\"orientation\":\"h\",\"showlegend\":true,\"textposition\":\"auto\",\"x\":[10.073333333333332],\"xaxis\":\"x\",\"y\":[\"Chile\"],\"yaxis\":\"y\",\"type\":\"bar\"}],                        {\"template\":{\"data\":{\"barpolar\":[{\"marker\":{\"line\":{\"color\":\"white\",\"width\":0.5},\"pattern\":{\"fillmode\":\"overlay\",\"size\":10,\"solidity\":0.2}},\"type\":\"barpolar\"}],\"bar\":[{\"error_x\":{\"color\":\"#2a3f5f\"},\"error_y\":{\"color\":\"#2a3f5f\"},\"marker\":{\"line\":{\"color\":\"white\",\"width\":0.5},\"pattern\":{\"fillmode\":\"overlay\",\"size\":10,\"solidity\":0.2}},\"type\":\"bar\"}],\"carpet\":[{\"aaxis\":{\"endlinecolor\":\"#2a3f5f\",\"gridcolor\":\"#C8D4E3\",\"linecolor\":\"#C8D4E3\",\"minorgridcolor\":\"#C8D4E3\",\"startlinecolor\":\"#2a3f5f\"},\"baxis\":{\"endlinecolor\":\"#2a3f5f\",\"gridcolor\":\"#C8D4E3\",\"linecolor\":\"#C8D4E3\",\"minorgridcolor\":\"#C8D4E3\",\"startlinecolor\":\"#2a3f5f\"},\"type\":\"carpet\"}],\"choropleth\":[{\"colorbar\":{\"outlinewidth\":0,\"ticks\":\"\"},\"type\":\"choropleth\"}],\"contourcarpet\":[{\"colorbar\":{\"outlinewidth\":0,\"ticks\":\"\"},\"type\":\"contourcarpet\"}],\"contour\":[{\"colorbar\":{\"outlinewidth\":0,\"ticks\":\"\"},\"colorscale\":[[0.0,\"#0d0887\"],[0.1111111111111111,\"#46039f\"],[0.2222222222222222,\"#7201a8\"],[0.3333333333333333,\"#9c179e\"],[0.4444444444444444,\"#bd3786\"],[0.5555555555555556,\"#d8576b\"],[0.6666666666666666,\"#ed7953\"],[0.7777777777777778,\"#fb9f3a\"],[0.8888888888888888,\"#fdca26\"],[1.0,\"#f0f921\"]],\"type\":\"contour\"}],\"heatmapgl\":[{\"colorbar\":{\"outlinewidth\":0,\"ticks\":\"\"},\"colorscale\":[[0.0,\"#0d0887\"],[0.1111111111111111,\"#46039f\"],[0.2222222222222222,\"#7201a8\"],[0.3333333333333333,\"#9c179e\"],[0.4444444444444444,\"#bd3786\"],[0.5555555555555556,\"#d8576b\"],[0.6666666666666666,\"#ed7953\"],[0.7777777777777778,\"#fb9f3a\"],[0.8888888888888888,\"#fdca26\"],[1.0,\"#f0f921\"]],\"type\":\"heatmapgl\"}],\"heatmap\":[{\"colorbar\":{\"outlinewidth\":0,\"ticks\":\"\"},\"colorscale\":[[0.0,\"#0d0887\"],[0.1111111111111111,\"#46039f\"],[0.2222222222222222,\"#7201a8\"],[0.3333333333333333,\"#9c179e\"],[0.4444444444444444,\"#bd3786\"],[0.5555555555555556,\"#d8576b\"],[0.6666666666666666,\"#ed7953\"],[0.7777777777777778,\"#fb9f3a\"],[0.8888888888888888,\"#fdca26\"],[1.0,\"#f0f921\"]],\"type\":\"heatmap\"}],\"histogram2dcontour\":[{\"colorbar\":{\"outlinewidth\":0,\"ticks\":\"\"},\"colorscale\":[[0.0,\"#0d0887\"],[0.1111111111111111,\"#46039f\"],[0.2222222222222222,\"#7201a8\"],[0.3333333333333333,\"#9c179e\"],[0.4444444444444444,\"#bd3786\"],[0.5555555555555556,\"#d8576b\"],[0.6666666666666666,\"#ed7953\"],[0.7777777777777778,\"#fb9f3a\"],[0.8888888888888888,\"#fdca26\"],[1.0,\"#f0f921\"]],\"type\":\"histogram2dcontour\"}],\"histogram2d\":[{\"colorbar\":{\"outlinewidth\":0,\"ticks\":\"\"},\"colorscale\":[[0.0,\"#0d0887\"],[0.1111111111111111,\"#46039f\"],[0.2222222222222222,\"#7201a8\"],[0.3333333333333333,\"#9c179e\"],[0.4444444444444444,\"#bd3786\"],[0.5555555555555556,\"#d8576b\"],[0.6666666666666666,\"#ed7953\"],[0.7777777777777778,\"#fb9f3a\"],[0.8888888888888888,\"#fdca26\"],[1.0,\"#f0f921\"]],\"type\":\"histogram2d\"}],\"histogram\":[{\"marker\":{\"pattern\":{\"fillmode\":\"overlay\",\"size\":10,\"solidity\":0.2}},\"type\":\"histogram\"}],\"mesh3d\":[{\"colorbar\":{\"outlinewidth\":0,\"ticks\":\"\"},\"type\":\"mesh3d\"}],\"parcoords\":[{\"line\":{\"colorbar\":{\"outlinewidth\":0,\"ticks\":\"\"}},\"type\":\"parcoords\"}],\"pie\":[{\"automargin\":true,\"type\":\"pie\"}],\"scatter3d\":[{\"line\":{\"colorbar\":{\"outlinewidth\":0,\"ticks\":\"\"}},\"marker\":{\"colorbar\":{\"outlinewidth\":0,\"ticks\":\"\"}},\"type\":\"scatter3d\"}],\"scattercarpet\":[{\"marker\":{\"colorbar\":{\"outlinewidth\":0,\"ticks\":\"\"}},\"type\":\"scattercarpet\"}],\"scattergeo\":[{\"marker\":{\"colorbar\":{\"outlinewidth\":0,\"ticks\":\"\"}},\"type\":\"scattergeo\"}],\"scattergl\":[{\"marker\":{\"colorbar\":{\"outlinewidth\":0,\"ticks\":\"\"}},\"type\":\"scattergl\"}],\"scattermapbox\":[{\"marker\":{\"colorbar\":{\"outlinewidth\":0,\"ticks\":\"\"}},\"type\":\"scattermapbox\"}],\"scatterpolargl\":[{\"marker\":{\"colorbar\":{\"outlinewidth\":0,\"ticks\":\"\"}},\"type\":\"scatterpolargl\"}],\"scatterpolar\":[{\"marker\":{\"colorbar\":{\"outlinewidth\":0,\"ticks\":\"\"}},\"type\":\"scatterpolar\"}],\"scatter\":[{\"fillpattern\":{\"fillmode\":\"overlay\",\"size\":10,\"solidity\":0.2},\"type\":\"scatter\"}],\"scatterternary\":[{\"marker\":{\"colorbar\":{\"outlinewidth\":0,\"ticks\":\"\"}},\"type\":\"scatterternary\"}],\"surface\":[{\"colorbar\":{\"outlinewidth\":0,\"ticks\":\"\"},\"colorscale\":[[0.0,\"#0d0887\"],[0.1111111111111111,\"#46039f\"],[0.2222222222222222,\"#7201a8\"],[0.3333333333333333,\"#9c179e\"],[0.4444444444444444,\"#bd3786\"],[0.5555555555555556,\"#d8576b\"],[0.6666666666666666,\"#ed7953\"],[0.7777777777777778,\"#fb9f3a\"],[0.8888888888888888,\"#fdca26\"],[1.0,\"#f0f921\"]],\"type\":\"surface\"}],\"table\":[{\"cells\":{\"fill\":{\"color\":\"#EBF0F8\"},\"line\":{\"color\":\"white\"}},\"header\":{\"fill\":{\"color\":\"#C8D4E3\"},\"line\":{\"color\":\"white\"}},\"type\":\"table\"}]},\"layout\":{\"annotationdefaults\":{\"arrowcolor\":\"#2a3f5f\",\"arrowhead\":0,\"arrowwidth\":1},\"autotypenumbers\":\"strict\",\"coloraxis\":{\"colorbar\":{\"outlinewidth\":0,\"ticks\":\"\"}},\"colorscale\":{\"diverging\":[[0,\"#8e0152\"],[0.1,\"#c51b7d\"],[0.2,\"#de77ae\"],[0.3,\"#f1b6da\"],[0.4,\"#fde0ef\"],[0.5,\"#f7f7f7\"],[0.6,\"#e6f5d0\"],[0.7,\"#b8e186\"],[0.8,\"#7fbc41\"],[0.9,\"#4d9221\"],[1,\"#276419\"]],\"sequential\":[[0.0,\"#0d0887\"],[0.1111111111111111,\"#46039f\"],[0.2222222222222222,\"#7201a8\"],[0.3333333333333333,\"#9c179e\"],[0.4444444444444444,\"#bd3786\"],[0.5555555555555556,\"#d8576b\"],[0.6666666666666666,\"#ed7953\"],[0.7777777777777778,\"#fb9f3a\"],[0.8888888888888888,\"#fdca26\"],[1.0,\"#f0f921\"]],\"sequentialminus\":[[0.0,\"#0d0887\"],[0.1111111111111111,\"#46039f\"],[0.2222222222222222,\"#7201a8\"],[0.3333333333333333,\"#9c179e\"],[0.4444444444444444,\"#bd3786\"],[0.5555555555555556,\"#d8576b\"],[0.6666666666666666,\"#ed7953\"],[0.7777777777777778,\"#fb9f3a\"],[0.8888888888888888,\"#fdca26\"],[1.0,\"#f0f921\"]]},\"colorway\":[\"#636efa\",\"#EF553B\",\"#00cc96\",\"#ab63fa\",\"#FFA15A\",\"#19d3f3\",\"#FF6692\",\"#B6E880\",\"#FF97FF\",\"#FECB52\"],\"font\":{\"color\":\"#2a3f5f\"},\"geo\":{\"bgcolor\":\"white\",\"lakecolor\":\"white\",\"landcolor\":\"white\",\"showlakes\":true,\"showland\":true,\"subunitcolor\":\"#C8D4E3\"},\"hoverlabel\":{\"align\":\"left\"},\"hovermode\":\"closest\",\"mapbox\":{\"style\":\"light\"},\"paper_bgcolor\":\"white\",\"plot_bgcolor\":\"white\",\"polar\":{\"angularaxis\":{\"gridcolor\":\"#EBF0F8\",\"linecolor\":\"#EBF0F8\",\"ticks\":\"\"},\"bgcolor\":\"white\",\"radialaxis\":{\"gridcolor\":\"#EBF0F8\",\"linecolor\":\"#EBF0F8\",\"ticks\":\"\"}},\"scene\":{\"xaxis\":{\"backgroundcolor\":\"white\",\"gridcolor\":\"#DFE8F3\",\"gridwidth\":2,\"linecolor\":\"#EBF0F8\",\"showbackground\":true,\"ticks\":\"\",\"zerolinecolor\":\"#EBF0F8\"},\"yaxis\":{\"backgroundcolor\":\"white\",\"gridcolor\":\"#DFE8F3\",\"gridwidth\":2,\"linecolor\":\"#EBF0F8\",\"showbackground\":true,\"ticks\":\"\",\"zerolinecolor\":\"#EBF0F8\"},\"zaxis\":{\"backgroundcolor\":\"white\",\"gridcolor\":\"#DFE8F3\",\"gridwidth\":2,\"linecolor\":\"#EBF0F8\",\"showbackground\":true,\"ticks\":\"\",\"zerolinecolor\":\"#EBF0F8\"}},\"shapedefaults\":{\"line\":{\"color\":\"#2a3f5f\"}},\"ternary\":{\"aaxis\":{\"gridcolor\":\"#DFE8F3\",\"linecolor\":\"#A2B1C6\",\"ticks\":\"\"},\"baxis\":{\"gridcolor\":\"#DFE8F3\",\"linecolor\":\"#A2B1C6\",\"ticks\":\"\"},\"bgcolor\":\"white\",\"caxis\":{\"gridcolor\":\"#DFE8F3\",\"linecolor\":\"#A2B1C6\",\"ticks\":\"\"}},\"title\":{\"x\":0.05},\"xaxis\":{\"automargin\":true,\"gridcolor\":\"#EBF0F8\",\"linecolor\":\"#EBF0F8\",\"ticks\":\"\",\"title\":{\"standoff\":15},\"zerolinecolor\":\"#EBF0F8\",\"zerolinewidth\":2},\"yaxis\":{\"automargin\":true,\"gridcolor\":\"#EBF0F8\",\"linecolor\":\"#EBF0F8\",\"ticks\":\"\",\"title\":{\"standoff\":15},\"zerolinecolor\":\"#EBF0F8\",\"zerolinewidth\":2}}},\"xaxis\":{\"anchor\":\"y\",\"domain\":[0.0,1.0],\"title\":{\"text\":\"Tasa promedio (por 1000 habitantes)\"}},\"yaxis\":{\"anchor\":\"x\",\"domain\":[0.0,1.0],\"title\":{\"text\":\"Pa\\u00eds\"},\"categoryorder\":\"array\",\"categoryarray\":[\"Chile\",\"Uruguay\",\"Argentina\",\"Brazil\",\"Colombia\",\"Ecuador\",\"Peru\",\"Paraguay\",\"Bolivia\"]},\"legend\":{\"title\":{\"text\":\"Pa\\u00eds\"},\"tracegroupgap\":0},\"title\":{\"text\":\"\\ud83d\\udcca Promedio de Tasa de Natalidad (2018\\u20132024) en Sudam\\u00e9rica\"},\"barmode\":\"relative\",\"height\":500,\"showlegend\":false},                        {\"responsive\": true}                    ).then(function(){\n",
       "                            \n",
       "var gd = document.getElementById('4872eefd-4422-48f8-8c7f-b8e2d5e7a90d');\n",
       "var x = new MutationObserver(function (mutations, observer) {{\n",
       "        var display = window.getComputedStyle(gd).display;\n",
       "        if (!display || display === 'none') {{\n",
       "            console.log([gd, 'removed!']);\n",
       "            Plotly.purge(gd);\n",
       "            observer.disconnect();\n",
       "        }}\n",
       "}});\n",
       "\n",
       "// Listen for the removal of the full notebook cells\n",
       "var notebookContainer = gd.closest('#notebook-container');\n",
       "if (notebookContainer) {{\n",
       "    x.observe(notebookContainer, {childList: true});\n",
       "}}\n",
       "\n",
       "// Listen for the clearing of the current output cell\n",
       "var outputEl = gd.closest('.output');\n",
       "if (outputEl) {{\n",
       "    x.observe(outputEl, {childList: true});\n",
       "}}\n",
       "\n",
       "                        })                };                });            </script>        </div>"
      ]
     },
     "metadata": {},
     "output_type": "display_data"
    }
   ],
   "source": [
    "import plotly.express as px  # Importa la librería Plotly Express para crear gráficos interactivos\n",
    "\n",
    "# 1. Agrupar por país y calcular el promedio de la Tasa de Natalidad\n",
    "promedios = df_filtrado.groupby(\"País\")[\"Tasa de Natalidad (por 1000 habitantes)\"].mean().reset_index()\n",
    "\n",
    "# 2. Ordenar de mayor a menor tasa\n",
    "promedios = promedios.sort_values(by=\"Tasa de Natalidad (por 1000 habitantes)\", ascending=False)\n",
    "\n",
    "# 3. Crear gráfico de barras horizontales\n",
    "fig = px.bar(\n",
    "    promedios,  # DataFrame que contiene los promedios por país\n",
    "    x=\"Tasa de Natalidad (por 1000 habitantes)\",  # Eje X: la tasa promedio\n",
    "    y=\"País\",  # Eje Y: los nombres de los países\n",
    "    orientation='h',  # Barras horizontales\n",
    "    title=\"📊 Promedio de Tasa de Natalidad (2018–2024) en Sudamérica\",  # Título del gráfico\n",
    "    labels={\"Tasa de Natalidad (por 1000 habitantes)\": \"Tasa de Natalidad\"},  # Etiqueta personalizada\n",
    "    color=\"País\",  # Cada país tendrá un color distinto automáticamente\n",
    ")\n",
    "\n",
    "# 4. Personalización adicional del diseño\n",
    "fig.update_layout(\n",
    "    xaxis_title=\"Tasa promedio (por 1000 habitantes)\",  # Etiqueta del eje X\n",
    "    yaxis_title=\"País\",  # Etiqueta del eje Y\n",
    "    template=\"plotly_white\",  # Fondo blanco limpio\n",
    "    height=500,  # Altura del gráfico\n",
    "    showlegend=False  # Oculta la leyenda (ya está en el eje Y)\n",
    ")\n",
    "\n",
    "# 5. Mostrar el gráfico interactivo\n",
    "fig.show()\n"
   ]
  },
  {
   "cell_type": "markdown",
   "id": "d1b41cbe-382b-4ea8-974f-4e73f43ced94",
   "metadata": {},
   "source": [
    "### 📌 CONCLUSIONES "
   ]
  },
  {
   "cell_type": "markdown",
   "id": "a7d6aee8-60c3-450f-8b5f-65f7d107a2bb",
   "metadata": {},
   "source": [
    "1. 📈 Bolivia lidera en natalidad:\n",
    "Con un promedio de 21.91 nacimientos por cada 1000 habitantes, Bolivia tiene la tasa de natalidad más alta del grupo. Esto sugiere una población más joven o en crecimiento acelerado.\n",
    "\n",
    "2. 📊 Paraguay y Perú también destacan:\n",
    "Paraguay (20.89) y Perú (16.49) mantienen tasas relativamente altas, indicando que siguen siendo países con estructuras poblacionales más jóvenes.\n",
    "\n",
    "3. 📉 Chile y Uruguay tienen las tasas más bajas:\n",
    "Chile (10.07) y Uruguay (10.48) presentan las tasas de natalidad más reducidas.\n",
    "\n",
    "4. 🏙️ Caída general en países más desarrollados:\n",
    "Países con mayor desarrollo como Argentina (12.45), Brasil (13.03) y Colombia (13.95) muestran una tendencia hacia tasas más bajas.\n",
    "\n",
    "5. 🧮 Desigualdad demográfica en la región:\n",
    "Las diferencias entre países reflejan una transición demográfica desigual. Algunos aún se encuentran en etapas de alta natalidad, mientras que otros ya enfrentan desafíos de envejecimiento poblacional."
   ]
  },
  {
   "cell_type": "code",
   "execution_count": null,
   "id": "2eef801f-772b-48b2-8dc9-fb50325585ff",
   "metadata": {},
   "outputs": [],
   "source": []
  }
 ],
 "metadata": {
  "kernelspec": {
   "display_name": "Python 3 (ipykernel)",
   "language": "python",
   "name": "python3"
  },
  "language_info": {
   "codemirror_mode": {
    "name": "ipython",
    "version": 3
   },
   "file_extension": ".py",
   "mimetype": "text/x-python",
   "name": "python",
   "nbconvert_exporter": "python",
   "pygments_lexer": "ipython3",
   "version": "3.12.7"
  }
 },
 "nbformat": 4,
 "nbformat_minor": 5
}
